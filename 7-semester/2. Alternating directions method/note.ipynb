{
 "cells": [
  {
   "cell_type": "markdown",
   "source": [
    "$$Lu = -f(x,y)$$\n",
    "$$Lu = \\frac{\\partial}{\\partial x}\\left(\\ln(2+x)\\frac{\\partial u}{\\partial x} \\right) + \\frac{\\partial}{\\partial y}\\left(\\ln(2+y)\\frac{\\partial u}{\\partial y} \\right)$$\n",
    "$$0<x<1, 0<y<1$$\n",
    "$$u(x,y)|_\\text{Г} = \\mu(x,y)$$\n",
    "$$u^*(x,y) = \\sin(\\pi x)\\cos(\\pi y)$$"
   ],
   "metadata": {
    "collapsed": false
   },
   "id": "ece0ac27a2a70341"
  }
 ],
 "metadata": {
  "kernelspec": {
   "display_name": "Python 3",
   "language": "python",
   "name": "python3"
  },
  "language_info": {
   "codemirror_mode": {
    "name": "ipython",
    "version": 2
   },
   "file_extension": ".py",
   "mimetype": "text/x-python",
   "name": "python",
   "nbconvert_exporter": "python",
   "pygments_lexer": "ipython2",
   "version": "2.7.6"
  }
 },
 "nbformat": 4,
 "nbformat_minor": 5
}
