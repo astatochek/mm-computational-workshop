{
 "cells": [
  {
   "cell_type": "code",
   "execution_count": 1,
   "metadata": {},
   "outputs": [],
   "source": [
    "import numpy as np\n",
    "import matplotlib.pyplot as plt\n",
    "\n",
    "from scipy.linalg import solve\n",
    "import scipy.optimize as optimize\n",
    "from numpy.polynomial import legendre\n",
    "\n",
    "from numpy.typing import NDArray\n",
    "from typing import Tuple, Callable, List\n",
    "\n",
    "from IPython.display import Latex, Markdown, display\n",
    "import warnings\n",
    "warnings.filterwarnings('ignore')"
   ]
  },
  {
   "cell_type": "code",
   "execution_count": 2,
   "metadata": {},
   "outputs": [],
   "source": [
    "P = lambda x: 1 / (2 + x / 3)\n",
    "Q = lambda x: np.exp(x / 5)"
   ]
  },
  {
   "cell_type": "code",
   "execution_count": 3,
   "metadata": {},
   "outputs": [],
   "source": [
    "def latexify(arr: NDArray) -> str:\n",
    "    res = []\n",
    "    res.append('\\\\begin{pmatrix}')\n",
    "    if len(arr.shape) == 1:\n",
    "        for i in range(arr.size):\n",
    "            res.append(f\"{arr[i]:.4f}\")\n",
    "            if i != arr.size - 1:\n",
    "                res.append(\"\\\\\\\\\")\n",
    "    elif len(arr.shape) == 2:\n",
    "        for i in range(arr.shape[0]):\n",
    "            for j in range(arr.shape[1]):\n",
    "                res.append(f\"{arr[i][j]:.4f}\")\n",
    "                if j != arr.shape[1] - 1:\n",
    "                    res.append(\"&\")\n",
    "            if i != arr.shape[0] - 1:\n",
    "                res.append(\"\\\\\\\\\")\n",
    "    res.append('\\\\end{pmatrix}')\n",
    "    return ' '.join(res)"
   ]
  },
  {
   "cell_type": "code",
   "execution_count": 4,
   "metadata": {},
   "outputs": [],
   "source": [
    "def print_tex(*argv) -> None:\n",
    "    \"\"\"Displays a LaTeX Markdown output\"\"\"\n",
    "    res = ' '.join(['$$'] + [(latexify(arg) if isinstance(arg,\n",
    "                   np.ndarray) else str(arg)) for arg in argv] + ['$$'])\n",
    "    display(Markdown(res))"
   ]
  },
  {
   "cell_type": "code",
   "execution_count": 5,
   "metadata": {},
   "outputs": [],
   "source": [
    "def legendre_polynomial(degree: int) -> Callable:\n",
    "    \"\"\"\n",
    "    Returns the Legendre polynomial of the given degree.\n",
    "    \"\"\"\n",
    "    return legendre.Legendre([0] * degree + [1])"
   ]
  },
  {
   "cell_type": "code",
   "execution_count": 30,
   "metadata": {},
   "outputs": [],
   "source": [
    "def roots(a: float, b: float, f: Callable) -> NDArray:\n",
    "    roots = []\n",
    "    n = 100\n",
    "    h = (b - a) / n\n",
    "    for i in range(n):\n",
    "        if f(a + i * h) * f(a + (i + 1) * h) <= 0:\n",
    "            root = optimize.root_scalar(f, bracket=[a + i * h, a + (i + 1) * h], method='brentq').root\n",
    "            if root not in roots:\n",
    "                roots.append(root)\n",
    "    return np.array(roots)"
   ]
  },
  {
   "attachments": {},
   "cell_type": "markdown",
   "metadata": {},
   "source": [
    "```cpp\n",
    "//Коэффициенты для формулы Гаусса\n",
    "double* koeff(double* z, int n)\n",
    "{\n",
    "    double* A = new double[100];\n",
    "    for (int i = 0; i < n; i++)\n",
    "    {\n",
    "        A[i] = (2 * (1 - pow(z[i], 2)) / (pow(n, 2) * Legendre(n - 1, z[i]) * Legendre(n - 1, z[i])));\n",
    "    }\n",
    "    return A;\n",
    "}\n",
    "```"
   ]
  },
  {
   "cell_type": "code",
   "execution_count": null,
   "metadata": {},
   "outputs": [],
   "source": [
    "def gauss_coefficients(z: NDArray, n: int) -> NDArray:\n",
    "    l = legendre_polynomial(n - 1)\n",
    "    return 2 * (1 - np.square(z)) / np.square(n * l(z))"
   ]
  },
  {
   "cell_type": "code",
   "execution_count": 31,
   "metadata": {},
   "outputs": [
    {
     "name": "stdout",
     "output_type": "stream",
     "text": [
      "Index: (1, 2) Value: 6\n"
     ]
    }
   ],
   "source": [
    "import numpy as np\n",
    "\n",
    "# create a 2D array\n",
    "arr = np.array([[1, 2, 3], [4, 5, 6], [7, 8, 9]])\n",
    "\n",
    "# get the indices of the upper diagonal half\n",
    "i, j = np.triu_indices(arr.shape[0], k=1)\n",
    "\n",
    "# get the maximum element index and value\n",
    "max_idx = np.argmax(arr[i, j])\n",
    "max_val = arr[i[max_idx], j[max_idx]]\n",
    "\n",
    "print(\"Index: ({}, {}) Value: {}\".format(i[max_idx], j[max_idx], max_val))\n"
   ]
  }
 ],
 "metadata": {
  "kernelspec": {
   "display_name": "Python 3",
   "language": "python",
   "name": "python3"
  },
  "language_info": {
   "codemirror_mode": {
    "name": "ipython",
    "version": 3
   },
   "file_extension": ".py",
   "mimetype": "text/x-python",
   "name": "python",
   "nbconvert_exporter": "python",
   "pygments_lexer": "ipython3",
   "version": "3.10.0"
  },
  "orig_nbformat": 4
 },
 "nbformat": 4,
 "nbformat_minor": 2
}
