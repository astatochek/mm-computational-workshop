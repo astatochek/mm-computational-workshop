{
 "cells": [
  {
   "cell_type": "markdown",
   "metadata": {},
   "source": [
    "# Задание 1 — проекционные методы для ОДУ второго порядка"
   ]
  },
  {
   "attachments": {},
   "cell_type": "markdown",
   "metadata": {},
   "source": [
    "## Вариант 14\n",
    "1. Граничная задача\n",
    "$$-\\big(\\frac{x+3}{2+x}u'\\big)' + xu' + e^{x/3}u = 1 + \\frac{x}{2},~u(-1)=u'(1)=0$$\n",
    "2. Метод Галеркина. Координатная система: $1+x,~(1-x^2)P_i^{(1,1)}(x),~i=0,1,\\dots$\n",
    "3. Метод коллокации\n"
   ]
  },
  {
   "cell_type": "code",
   "execution_count": 1,
   "metadata": {},
   "outputs": [
    {
     "name": "stderr",
     "output_type": "stream",
     "text": [
      "C:\\Users\\ASUS\\AppData\\Local\\Packages\\PythonSoftwareFoundation.Python.3.9_qbz5n2kfra8p0\\LocalCache\\local-packages\\Python39\\site-packages\\scipy\\__init__.py:146: UserWarning: A NumPy version >=1.16.5 and <1.23.0 is required for this version of SciPy (detected version 1.24.1\n",
      "  warnings.warn(f\"A NumPy version >={np_minversion} and <{np_maxversion}\"\n"
     ]
    }
   ],
   "source": [
    "import numpy as np\n",
    "import scipy\n",
    "from typing import Callable, Tuple, Union, List"
   ]
  },
  {
   "cell_type": "code",
   "execution_count": null,
   "metadata": {},
   "outputs": [],
   "source": [
    "class BoundaryProblem:\n",
    "    def __init__(self,\n",
    "                 u: Callable[[Callable[[float], float], float], float],\n",
    "                 du: Callable[[Callable[[float], float]], float],\n",
    "                 ddu: Callable[[Callable[[float], float]], float],\n",
    "                 f: Callable[[float], float],\n",
    "                 a: float, b: float) -> None:\n",
    "        self.L: Callable[\n",
    "            [Callable[[float], float], float], float\n",
    "        ] = lambda phi, t: u(phi, t) + du(phi, t) + ddu(phi, t)\n",
    "        self.F = f\n",
    "        self.a = a\n",
    "        self.b = b\n",
    "\n",
    "def u_(u: Callable[[float], float], x: float) -> float:\n",
    "    return np.exp(x / 3) * u(x)\n",
    "\n",
    "def du_(u: Callable[[float], float], x: float) -> float:\n",
    "    return \n",
    "\n",
    "BoundaryProblem = BoundaryProblem()"
   ]
  }
 ],
 "metadata": {
  "kernelspec": {
   "display_name": "Python 3",
   "language": "python",
   "name": "python3"
  },
  "language_info": {
   "codemirror_mode": {
    "name": "ipython",
    "version": 3
   },
   "file_extension": ".py",
   "mimetype": "text/x-python",
   "name": "python",
   "nbconvert_exporter": "python",
   "pygments_lexer": "ipython3",
   "version": "3.9.13"
  },
  "orig_nbformat": 4,
  "vscode": {
   "interpreter": {
    "hash": "a5a87ee616be0254e3f1af9223138e3faeac65b2c9d91bc22a9fc5a4a8bd8eb0"
   }
  }
 },
 "nbformat": 4,
 "nbformat_minor": 2
}
