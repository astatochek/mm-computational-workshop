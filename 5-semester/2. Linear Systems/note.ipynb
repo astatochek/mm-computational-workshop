{
 "cells": [
  {
   "cell_type": "markdown",
   "metadata": {},
   "source": [
    "# Задание 2. Итерационные методы решения линейных систем\n"
   ]
  },
  {
   "cell_type": "code",
   "execution_count": 1,
   "metadata": {},
   "outputs": [],
   "source": [
    "from latexifier import latexify\n",
    "from IPython.display import display, Markdown, Latex\n",
    "import numpy as np\n",
    "import pandas as pd\n",
    "from typing import Callable, List, Tuple, Union, Any\n",
    "import warnings\n",
    "warnings.filterwarnings('ignore')\n"
   ]
  },
  {
   "cell_type": "code",
   "execution_count": 2,
   "metadata": {},
   "outputs": [],
   "source": [
    "class Matrix(np.ndarray):\n",
    "    \"\"\"extends np.ndarray\"\"\"\n",
    "\n",
    "    def __new__(cls, input_array):\n",
    "        obj = np.asarray(input_array).view(cls)\n",
    "        return obj\n",
    "\n",
    "    def inverse_rows(self, i: int, j: int):\n",
    "        \"\"\"Swaps i-th and j-th rows of a matrix\"\"\"\n",
    "        self[i], self[j] = self[j].copy(), self[i].copy()\n",
    "\n",
    "    def inverse_cols(self, i: int, j: int):\n",
    "        \"\"\"Swaps i-th and j-th columns of a matrix\"\"\"\n",
    "        self = self.transpose()\n",
    "        self.inverse_rows(i, j)\n",
    "        self = self.transpose()\n",
    "\n",
    "    def tex(self) -> str:\n",
    "        \"\"\"Latexifies the matrix rounding up values up to 6 decimal values\"\"\"\n",
    "        return latexify(self)\n",
    "\n",
    "    def norm(self) -> float:\n",
    "        \"\"\"Calculates Matrix norm using `np.linalg.norm` with parameter `np.inf`\"\"\"\n",
    "        return np.linalg.norm(self, np.inf)\n",
    "\n",
    "    def inv(self) -> Any:\n",
    "        return Matrix(np.linalg.inv(self))\n",
    "\n",
    "\n",
    "def append(M: np.ndarray, N: np.ndarray) -> Matrix:\n",
    "    \"\"\"Appends two numpy arrays with axis=1\"\"\"\n",
    "    return Matrix(np.append(arr=np.asarray(M), values=N, axis=1))\n"
   ]
  },
  {
   "cell_type": "code",
   "execution_count": 3,
   "metadata": {},
   "outputs": [],
   "source": [
    "def Gauss(A: Matrix, B: Matrix, n: int) -> Matrix:\n",
    "    \"\"\"\n",
    "    Вычисляет решения линейного уравнения Ax = B методом Гаусса с выбором\n",
    "    главного элемента по столбцам (с перестановкой строк)\n",
    "    \"\"\"\n",
    "    AB = append(A, B)\n",
    "    X = [[0] for _ in range(n)]\n",
    "    for k in range(n):\n",
    "        j = k\n",
    "        for i in range(k+1, n):\n",
    "            if abs(AB[j][k]) < abs(AB[i][k]):\n",
    "                j = i\n",
    "        AB.inverse_rows(k, j)\n",
    "        for j in range(k+1, n):\n",
    "            c = AB[j][k] / AB[k][k]\n",
    "            for i in range(n+1):\n",
    "                AB[j][i] -= c * AB[k][i]\n",
    "    X[n-1][0] = AB[n-1][n] / AB[n-1][n-1]\n",
    "    for k in range(n-1, -1, -1):\n",
    "        s = 0\n",
    "        for i in range(k+1, n):\n",
    "            s += AB[k][i] * X[i][0]\n",
    "        X[k][0] = (AB[k][n] - s) / AB[k][k]\n",
    "    return Matrix(np.array(X))\n"
   ]
  },
  {
   "cell_type": "code",
   "execution_count": 4,
   "metadata": {},
   "outputs": [],
   "source": [
    "def print_tex(*argv) -> None:\n",
    "    \"\"\"Displays a LaTex Markdown output\"\"\"\n",
    "    res = ' '.join(['$$'] + [(latexify(arg) if isinstance(arg,\n",
    "                   np.ndarray) else str(arg)) for arg in argv] + ['$$'])\n",
    "    display(Markdown(res))\n",
    "\n",
    "\n",
    "def get_latex_column(arg: str, n: int) -> str:\n",
    "    \"\"\"\n",
    "    Prepares a string with LaTex syntax for a column of `arg` with indeces form 1 to `n`\n",
    "    \"\"\"\n",
    "    res = [r\"\"\"\\begin{pmatrix}\"\"\", \"\\n\"]\n",
    "    for i in range(n):\n",
    "        line = arg + \"_{\" + str(i+1) + \"}\" + (r\"\\\\\" if i != n-1 else \"\") + \"\\n\"\n",
    "        res.append(line)\n",
    "    res.append(r\"\"\"\\end{pmatrix}\"\"\")\n",
    "    return ''.join(res)\n",
    "\n",
    "\n",
    "def get_exact_column(col: Matrix, n: int) -> str:\n",
    "    \"\"\"Prepares a string with LaTex syntax for a column of {col} elements\"\"\"\n",
    "    res = [r\"\"\"\\begin{pmatrix}\"\"\", \"\\n\"]\n",
    "    for i in range(n):\n",
    "        line = str(float(col[i][0])) + (r\"\\\\\" if i != n-1 else \"\") + \"\\n\"\n",
    "        res.append(line)\n",
    "    res.append(r\"\"\"\\end{pmatrix}\"\"\")\n",
    "    return ''.join(res)\n",
    "\n",
    "\n",
    "def print_gauss_output(A: Matrix, B: Matrix, X: Matrix, n: int, name: str) -> None:\n",
    "    \"\"\"Oupputs the result of solving a linear equation\"\"\"\n",
    "    B_ = A @ X\n",
    "    print_tex(r'\\text{', name, '}~X^* = ',\n",
    "              get_latex_column(\"x^*\", n), '=', get_exact_column(X, n))\n",
    "    print_tex(rf'A \\times X^* = ', A.tex(), X.tex(), '=', B_.tex(), '= B^*')\n",
    "    print_tex('B = ', get_exact_column(B, n),\n",
    "              r'\\stackrel{?}{=}', get_exact_column(B_, n), '= B^*')\n",
    "    print_tex(r'B - B^* = ', get_exact_column(B - B_, n))\n"
   ]
  },
  {
   "cell_type": "markdown",
   "metadata": {},
   "source": [
    "## Вариант 12\n"
   ]
  },
  {
   "cell_type": "code",
   "execution_count": 52,
   "metadata": {},
   "outputs": [
    {
     "data": {
      "text/markdown": [
       "$$ A= \\begin{pmatrix} 2.803282 & 0.884316 & 0.576430 & 0.998670 \\\\ 0.884316 & 2.447266 & 0.600491 & 0.544755 \\\\ 0.576430 & 0.600491 & 2.995944 & 0.868780 \\\\ 0.998670 & 0.544755 & 0.868780 & 2.802353 \\end{pmatrix} ,~~ B= \\begin{pmatrix} 0.752782 \\\\ 0.202033 \\\\ 0.403762 \\\\ 0.298690 \\end{pmatrix} $$"
      ],
      "text/plain": [
       "<IPython.core.display.Markdown object>"
      ]
     },
     "metadata": {},
     "output_type": "display_data"
    }
   ],
   "source": [
    "n = 4\n",
    "A = Matrix(np.random.rand(n, n))\n",
    "B = Matrix(np.random.rand(n, 1))\n",
    "for i in range(n):\n",
    "    for j in range(n):\n",
    "        A[i][j] = A[j][i]\n",
    "    A[i][i] += np.sum([A[i][j] for j in range(n) if i != j])\n",
    "print_tex('A=', A, ',~~', 'B=', B)\n"
   ]
  },
  {
   "cell_type": "code",
   "execution_count": 53,
   "metadata": {},
   "outputs": [
    {
     "name": "stdout",
     "output_type": "stream",
     "text": [
      "Собственные числа матрицы A: [5.03041718 1.57479715 2.40328449 2.04034631]\n"
     ]
    }
   ],
   "source": [
    "eigenvals = Matrix(np.linalg.eigvals(A))\n",
    "print('Собственные числа матрицы A:', eigenvals)"
   ]
  },
  {
   "cell_type": "markdown",
   "metadata": {},
   "source": [
    "Найдем решение $x^*$ методом Гаусса.\n"
   ]
  },
  {
   "cell_type": "code",
   "execution_count": 54,
   "metadata": {},
   "outputs": [
    {
     "data": {
      "text/markdown": [
       "$$ \\text{ Решение методом Гаусса: }~X^* =  \\begin{pmatrix}\n",
       "x^*_{1}\\\\\n",
       "x^*_{2}\\\\\n",
       "x^*_{3}\\\\\n",
       "x^*_{4}\n",
       "\\end{pmatrix} = \\begin{pmatrix}\n",
       "0.263299596030353\\\\\n",
       "-0.033386440745686745\\\\\n",
       "0.09363947991217723\\\\\n",
       "-0.009786020016136035\n",
       "\\end{pmatrix} $$"
      ],
      "text/plain": [
       "<IPython.core.display.Markdown object>"
      ]
     },
     "metadata": {},
     "output_type": "display_data"
    },
    {
     "data": {
      "text/markdown": [
       "$$ A \\times X^* =  \\begin{pmatrix} 2.803282 & 0.884316 & 0.576430 & 0.998670 \\\\ 0.884316 & 2.447266 & 0.600491 & 0.544755 \\\\ 0.576430 & 0.600491 & 2.995944 & 0.868780 \\\\ 0.998670 & 0.544755 & 0.868780 & 2.802353 \\end{pmatrix} \\begin{pmatrix} 0.263300 \\\\ -0.033386 \\\\ 0.093639 \\\\ -0.009786 \\end{pmatrix} = \\begin{pmatrix} 0.752782 \\\\ 0.202033 \\\\ 0.403762 \\\\ 0.298690 \\end{pmatrix} = B^* $$"
      ],
      "text/plain": [
       "<IPython.core.display.Markdown object>"
      ]
     },
     "metadata": {},
     "output_type": "display_data"
    },
    {
     "data": {
      "text/markdown": [
       "$$ B =  \\begin{pmatrix}\n",
       "0.75278243304252\\\\\n",
       "0.20203321079760816\\\\\n",
       "0.4037621901806101\\\\\n",
       "0.29869030143701125\n",
       "\\end{pmatrix} \\stackrel{?}{=} \\begin{pmatrix}\n",
       "0.7527824330425201\\\\\n",
       "0.20203321079760822\\\\\n",
       "0.40376219018061005\\\\\n",
       "0.2986903014370113\n",
       "\\end{pmatrix} = B^* $$"
      ],
      "text/plain": [
       "<IPython.core.display.Markdown object>"
      ]
     },
     "metadata": {},
     "output_type": "display_data"
    },
    {
     "data": {
      "text/markdown": [
       "$$ B - B^* =  \\begin{pmatrix}\n",
       "-1.1102230246251565e-16\\\\\n",
       "-5.551115123125783e-17\\\\\n",
       "5.551115123125783e-17\\\\\n",
       "-5.551115123125783e-17\n",
       "\\end{pmatrix} $$"
      ],
      "text/plain": [
       "<IPython.core.display.Markdown object>"
      ]
     },
     "metadata": {},
     "output_type": "display_data"
    }
   ],
   "source": [
    "X_Gauss = Gauss(A, B, n)\n",
    "print_gauss_output(A, B, X_Gauss, n, 'Решение методом Гаусса:')\n"
   ]
  },
  {
   "cell_type": "code",
   "execution_count": 100,
   "metadata": {},
   "outputs": [],
   "source": [
    "def compare_result(name: str, val: Matrix, n: int = n) -> None:\n",
    "    print_tex(name, '=', get_exact_column(val, n), r'\\stackrel{?}{=}', get_exact_column(X_Gauss, n), '=X^*')\n",
    "    print_tex(rf'||X^* - {name}||_\\infty=', (X_Gauss - val).norm())\n",
    "\n",
    "data = {}\n",
    "\n",
    "def add_data(method_name: str, iterations: int, ans: Matrix) -> None:\n",
    "    data[method_name] = {\n",
    "        'Количество Итераций': str(iterations),\n",
    "        'Фактическая Погрешность': str((X_Gauss - ans).norm())\n",
    "    }"
   ]
  },
  {
   "cell_type": "markdown",
   "metadata": {},
   "source": [
    "Преобразуем исходную систему к системе вида $x = H_Dx + g_D$\n",
    "$$ H_D = E - D^{-1}A $$\n",
    "$$ g_D = D^{-1}b $$\n"
   ]
  },
  {
   "cell_type": "code",
   "execution_count": 56,
   "metadata": {},
   "outputs": [
    {
     "data": {
      "text/markdown": [
       "$$ H_D= \\begin{pmatrix} 0 & -0.315457 & -0.205627 & -0.356250 \\\\ -0.361349 & 0 & -0.245372 & -0.222597 \\\\ -0.192403 & -0.200435 & 0 & -0.289985 \\\\ -0.356369 & -0.194392 & -0.310018 & 0 \\end{pmatrix} ,~~ g_D= \\begin{pmatrix} 0.268536 \\\\ 0.082555 \\\\ 0.134770 \\\\ 0.106586 \\end{pmatrix} $$"
      ],
      "text/plain": [
       "<IPython.core.display.Markdown object>"
      ]
     },
     "metadata": {},
     "output_type": "display_data"
    },
    {
     "data": {
      "text/markdown": [
       "$$ ||H_D||_\\infty =  0.8773345284501621 $$"
      ],
      "text/plain": [
       "<IPython.core.display.Markdown object>"
      ]
     },
     "metadata": {},
     "output_type": "display_data"
    }
   ],
   "source": [
    "D, D_inv = Matrix(np.zeros((n, n))), Matrix(np.zeros((n, n)))\n",
    "\n",
    "for i in range(n):\n",
    "    D[i][i] = A[i][i]\n",
    "    D_inv[i][i] = 1 / A[i][i]\n",
    "\n",
    "H_D = Matrix(np.identity(n) - D_inv @ A)\n",
    "g_D = Matrix(D_inv @ B)\n",
    "print_tex('H_D=', H_D, ',~~', 'g_D=', g_D)\n",
    "print_tex(rf'||H_D||_\\infty = ', H_D.norm())\n"
   ]
  },
  {
   "cell_type": "markdown",
   "metadata": {},
   "source": [
    "Найдем априорную оценку для того $k$, при котором $||x^* - x^k||_\\infty < \\varepsilon,~\\varepsilon = 0.001$\n"
   ]
  },
  {
   "cell_type": "code",
   "execution_count": 57,
   "metadata": {},
   "outputs": [
    {
     "data": {
      "text/plain": [
       "59"
      ]
     },
     "execution_count": 57,
     "metadata": {},
     "output_type": "execute_result"
    }
   ],
   "source": [
    "def apr_eval(\n",
    "    H: Matrix = H_D,\n",
    "    g: Matrix = g_D,\n",
    "    k: int = 1\n",
    ") -> float:\n",
    "    return H.norm()**k / (1 - H.norm()) * g.norm()\n",
    "\n",
    "\n",
    "eps = 1.e-3\n",
    "k = 1\n",
    "while (apr_eval(k=k) >= eps):\n",
    "    k += 1\n",
    "k\n"
   ]
  },
  {
   "cell_type": "code",
   "execution_count": 101,
   "metadata": {},
   "outputs": [
    {
     "data": {
      "text/markdown": [
       "$$ X^{23} = \\begin{pmatrix}\n",
       "0.264127215250451\\\\\n",
       "-0.03259676542638332\\\\\n",
       "0.09431517287388672\\\\\n",
       "-0.008979700214338096\n",
       "\\end{pmatrix} \\stackrel{?}{=} \\begin{pmatrix}\n",
       "0.263299596030353\\\\\n",
       "-0.033386440745686745\\\\\n",
       "0.09363947991217723\\\\\n",
       "-0.009786020016136035\n",
       "\\end{pmatrix} =X^* $$"
      ],
      "text/plain": [
       "<IPython.core.display.Markdown object>"
      ]
     },
     "metadata": {},
     "output_type": "display_data"
    },
    {
     "data": {
      "text/markdown": [
       "$$ ||X^* - X^{23}||_\\infty= 0.000827619220097997 $$"
      ],
      "text/plain": [
       "<IPython.core.display.Markdown object>"
      ]
     },
     "metadata": {},
     "output_type": "display_data"
    }
   ],
   "source": [
    "def iterative_method(\n",
    "    H: Matrix = H_D,\n",
    "    G: Matrix = g_D,\n",
    "    n: int = n\n",
    ") -> Union[Matrix, Matrix, int]:\n",
    "    next = Matrix(np.zeros((n, 1)))\n",
    "    iter = 0\n",
    "    while (X_Gauss - next).norm() >= eps:\n",
    "        prev, next = next, H @ next + G\n",
    "        iter += 1\n",
    "    return next, prev, iter\n",
    "\n",
    "\n",
    "iter_ans, prev, iter = iterative_method()\n",
    "compare_result(rf'X^{({iter})}', iter_ans)\n"
   ]
  },
  {
   "cell_type": "code",
   "execution_count": 102,
   "metadata": {},
   "outputs": [],
   "source": [
    "add_data('Метод простой итерации', iter, iter_ans)"
   ]
  },
  {
   "cell_type": "code",
   "execution_count": 59,
   "metadata": {},
   "outputs": [
    {
     "name": "stdout",
     "output_type": "stream",
     "text": [
      "Априорная оценка при k=23: 0.107914660126713\n"
     ]
    }
   ],
   "source": [
    "print(f'Априорная оценка при k={iter}:', apr_eval(k=iter))"
   ]
  },
  {
   "cell_type": "code",
   "execution_count": 60,
   "metadata": {},
   "outputs": [
    {
     "name": "stdout",
     "output_type": "stream",
     "text": [
      "Апостериорная оценка: 0.013173840840259856\n"
     ]
    }
   ],
   "source": [
    "def apostr_eval(\n",
    "    x_k: Matrix = iter_ans,\n",
    "    x_prev: Matrix = prev,\n",
    "    H: Matrix = H_D,\n",
    ") -> float:\n",
    "    return H.norm() / (1 - H.norm()) * (x_k - x_prev).norm()\n",
    "\n",
    "print('Апостериорная оценка:', apostr_eval(iter_ans, prev))\n"
   ]
  },
  {
   "cell_type": "code",
   "execution_count": 61,
   "metadata": {},
   "outputs": [
    {
     "data": {
      "text/markdown": [
       "$$ X^{23}_\\text{lust} = \\begin{pmatrix}\n",
       "0.27229330458830125\\\\\n",
       "-0.024805077081811906\\\\\n",
       "0.10098220899649399\\\\\n",
       "-0.0010237827772007178\n",
       "\\end{pmatrix} \\stackrel{?}{=} \\begin{pmatrix}\n",
       "0.263299596030353\\\\\n",
       "-0.033386440745686745\\\\\n",
       "0.09363947991217723\\\\\n",
       "-0.009786020016136035\n",
       "\\end{pmatrix} =X^* $$"
      ],
      "text/plain": [
       "<IPython.core.display.Markdown object>"
      ]
     },
     "metadata": {},
     "output_type": "display_data"
    },
    {
     "data": {
      "text/markdown": [
       "$$ ||X^* - X^{23}_\\text{lust}||_\\infty= 0.008993708557948232 $$"
      ],
      "text/plain": [
       "<IPython.core.display.Markdown object>"
      ]
     },
     "metadata": {},
     "output_type": "display_data"
    }
   ],
   "source": [
    "def spec_radius(H: Matrix = H_D):\n",
    "    return max(np.absolute(np.linalg.eigvals(H)))\n",
    "\n",
    "rho = spec_radius(H_D)\n",
    "\n",
    "def luster_approx(x_k: Matrix = iter_ans, x_prev: Matrix = prev, rho: float = rho) -> Matrix:\n",
    "    return prev + (x_k - x_prev) / (1 - rho)\n",
    "\n",
    "X_luster = luster_approx()\n",
    "\n",
    "compare_result(rf'X^{({iter})}_\\text{{lust}}', X_luster)\n"
   ]
  },
  {
   "cell_type": "markdown",
   "metadata": {},
   "source": [
    "Вычислим решение $x = H_Dx + g_D$ методом Зейделя с точностью $\\varepsilon = 0.001$"
   ]
  },
  {
   "cell_type": "code",
   "execution_count": 103,
   "metadata": {},
   "outputs": [
    {
     "data": {
      "text/markdown": [
       "$$ X^{4}_\\text{seid} = \\begin{pmatrix}\n",
       "0.26303661864123007\\\\\n",
       "-0.03342060384137316\\\\\n",
       "0.0935808395876058\\\\\n",
       "-0.009667482566584645\n",
       "\\end{pmatrix} \\stackrel{?}{=} \\begin{pmatrix}\n",
       "0.263299596030353\\\\\n",
       "-0.033386440745686745\\\\\n",
       "0.09363947991217723\\\\\n",
       "-0.009786020016136035\n",
       "\\end{pmatrix} =X^* $$"
      ],
      "text/plain": [
       "<IPython.core.display.Markdown object>"
      ]
     },
     "metadata": {},
     "output_type": "display_data"
    },
    {
     "data": {
      "text/markdown": [
       "$$ ||X^* - X^{4}_\\text{seid}||_\\infty= 0.00026297738912295365 $$"
      ],
      "text/plain": [
       "<IPython.core.display.Markdown object>"
      ]
     },
     "metadata": {},
     "output_type": "display_data"
    }
   ],
   "source": [
    "def seid_method(\n",
    "    H: Matrix = H_D,\n",
    "    G: Matrix = g_D,\n",
    "    n: int = n\n",
    ") -> Union[Matrix, Matrix, int]:\n",
    "    H_L = Matrix(np.array([[H[i][j] if i > j else 0 for j in range(n)] for i in range(n)]))\n",
    "    H_R = Matrix(np.array([[H[i][j] if i <= j else 0 for j in range(n)] for i in range(n)]))\n",
    "    H_seid = (np.identity(n) - H_L).inv() @ H_R\n",
    "    g_seid = (np.identity(n) - H_L).inv() @ G\n",
    "    next = Matrix(np.zeros((n, 1)))\n",
    "    iter = 0\n",
    "    while (X_Gauss - next).norm() >= eps:\n",
    "        prev, next = next, H_seid @ next + g_seid\n",
    "        iter += 1\n",
    "    return next, prev, iter\n",
    "    \n",
    "seid_ans, seid_prev, seid_iter = seid_method()\n",
    "compare_result(rf'X^{({seid_iter})}_\\text{{seid}}', seid_ans)"
   ]
  },
  {
   "cell_type": "code",
   "execution_count": 104,
   "metadata": {},
   "outputs": [],
   "source": [
    "add_data('Метод Зейделя', seid_iter, seid_ans)"
   ]
  },
  {
   "cell_type": "markdown",
   "metadata": {},
   "source": [
    "Получим решение системы $Ax = b$ методом верхней релаксации с точностью $\\varepsilon = 0.001$"
   ]
  },
  {
   "cell_type": "code",
   "execution_count": 105,
   "metadata": {},
   "outputs": [
    {
     "data": {
      "text/markdown": [
       "$$ X^{5}_\\text{rel} = \\begin{pmatrix}\n",
       "0.26407927387192404\\\\\n",
       "-0.03273274057198576\\\\\n",
       "0.09404027538629273\\\\\n",
       "-0.010191239109528256\n",
       "\\end{pmatrix} \\stackrel{?}{=} \\begin{pmatrix}\n",
       "0.263299596030353\\\\\n",
       "-0.033386440745686745\\\\\n",
       "0.09363947991217723\\\\\n",
       "-0.009786020016136035\n",
       "\\end{pmatrix} =X^* $$"
      ],
      "text/plain": [
       "<IPython.core.display.Markdown object>"
      ]
     },
     "metadata": {},
     "output_type": "display_data"
    },
    {
     "data": {
      "text/markdown": [
       "$$ ||X^* - X^{5}_\\text{rel}||_\\infty= 0.0007796778415710137 $$"
      ],
      "text/plain": [
       "<IPython.core.display.Markdown object>"
      ]
     },
     "metadata": {},
     "output_type": "display_data"
    }
   ],
   "source": [
    "def rel_method(\n",
    "    A: Matrix = A,\n",
    "    b: Matrix = B,\n",
    "    H: Matrix = H_D,\n",
    "    G: Matrix = g_D,\n",
    "    n: int = n\n",
    ") -> Union[Matrix, Matrix, int]:\n",
    "    rho = spec_radius(H)\n",
    "    q_opt = 2 / (1 + np.sqrt(1 - rho**2))\n",
    "    next = Matrix(np.zeros((n, 1)))\n",
    "    iter = 0\n",
    "    while (X_Gauss - next).norm() >= eps:\n",
    "        prev = next\n",
    "        for i in range(n):\n",
    "            next[i][0] = prev[i][0] + q_opt * (b[i][0] - np.sum([next[j][0] * A[i][j] for j in range(\n",
    "                i)]) - np.sum([prev[j][0] * A[i][j] for j in range(i, n)])) / A[i][i]\n",
    "        iter += 1\n",
    "    return next, prev, iter\n",
    "\n",
    "\n",
    "rel_ans, rel_prev, rel_iter = rel_method()\n",
    "compare_result(rf'X^{({rel_iter})}_\\text{{rel}}', rel_ans)"
   ]
  },
  {
   "cell_type": "code",
   "execution_count": 106,
   "metadata": {},
   "outputs": [],
   "source": [
    "add_data('Метод верхней релаксации', rel_iter, rel_ans)"
   ]
  },
  {
   "cell_type": "code",
   "execution_count": 107,
   "metadata": {},
   "outputs": [
    {
     "data": {
      "text/html": [
       "<div>\n",
       "<style scoped>\n",
       "    .dataframe tbody tr th:only-of-type {\n",
       "        vertical-align: middle;\n",
       "    }\n",
       "\n",
       "    .dataframe tbody tr th {\n",
       "        vertical-align: top;\n",
       "    }\n",
       "\n",
       "    .dataframe thead th {\n",
       "        text-align: right;\n",
       "    }\n",
       "</style>\n",
       "<table border=\"1\" class=\"dataframe\">\n",
       "  <thead>\n",
       "    <tr style=\"text-align: right;\">\n",
       "      <th></th>\n",
       "      <th>Количество Итераций</th>\n",
       "      <th>Фактическая Погрешность</th>\n",
       "    </tr>\n",
       "  </thead>\n",
       "  <tbody>\n",
       "    <tr>\n",
       "      <th>Метод простой итерации</th>\n",
       "      <td>23</td>\n",
       "      <td>0.000827619220097997</td>\n",
       "    </tr>\n",
       "    <tr>\n",
       "      <th>Метод Зейделя</th>\n",
       "      <td>4</td>\n",
       "      <td>0.00026297738912295365</td>\n",
       "    </tr>\n",
       "    <tr>\n",
       "      <th>Метод верхней релаксации</th>\n",
       "      <td>5</td>\n",
       "      <td>0.0007796778415710137</td>\n",
       "    </tr>\n",
       "  </tbody>\n",
       "</table>\n",
       "</div>"
      ],
      "text/plain": [
       "                         Количество Итераций Фактическая Погрешность\n",
       "Метод простой итерации                    23    0.000827619220097997\n",
       "Метод Зейделя                              4  0.00026297738912295365\n",
       "Метод верхней релаксации                   5   0.0007796778415710137"
      ]
     },
     "execution_count": 107,
     "metadata": {},
     "output_type": "execute_result"
    }
   ],
   "source": [
    "df = pd.DataFrame(data).transpose()\n",
    "df"
   ]
  }
 ],
 "metadata": {
  "kernelspec": {
   "display_name": "Python 3.9.13 64-bit (microsoft store)",
   "language": "python",
   "name": "python3"
  },
  "language_info": {
   "codemirror_mode": {
    "name": "ipython",
    "version": 3
   },
   "file_extension": ".py",
   "mimetype": "text/x-python",
   "name": "python",
   "nbconvert_exporter": "python",
   "pygments_lexer": "ipython3",
   "version": "3.9.13"
  },
  "orig_nbformat": 4,
  "vscode": {
   "interpreter": {
    "hash": "a5a87ee616be0254e3f1af9223138e3faeac65b2c9d91bc22a9fc5a4a8bd8eb0"
   }
  }
 },
 "nbformat": 4,
 "nbformat_minor": 2
}
