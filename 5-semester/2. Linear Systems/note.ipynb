{
 "cells": [
  {
   "cell_type": "markdown",
   "metadata": {},
   "source": [
    "# Задание 2. Итерационные методы решения линейных систем"
   ]
  },
  {
   "cell_type": "code",
   "execution_count": 1,
   "metadata": {},
   "outputs": [],
   "source": [
    "from latexifier import latexify\n",
    "from IPython.display import display, Markdown\n",
    "import numpy as np\n",
    "from typing import Callable, List, Tuple, Union, Any\n",
    "import warnings\n",
    "warnings.filterwarnings('ignore')"
   ]
  },
  {
   "cell_type": "code",
   "execution_count": 2,
   "metadata": {},
   "outputs": [],
   "source": [
    "class Matrix(np.ndarray):\n",
    "    \"\"\"extends np.ndarray\"\"\"\n",
    "\n",
    "    def __new__(cls, input_array):\n",
    "        obj = np.asarray(input_array).view(cls)\n",
    "        return obj\n",
    "\n",
    "    def inverse_rows(self, i: int, j: int):\n",
    "        \"\"\"Swaps i-th and j-th rows of a matrix\"\"\"\n",
    "        self[i], self[j] = self[j].copy(), self[i].copy()\n",
    "\n",
    "    def inverse_cols(self, i: int, j: int):\n",
    "        \"\"\"Swaps i-th and j-th columns of a matrix\"\"\"\n",
    "        self = self.transpose()\n",
    "        self.inverse_rows(i, j)\n",
    "        self = self.transpose()\n",
    "    \n",
    "    def tex(self) -> str:\n",
    "        \"\"\"Latexifies the matrix rounding up values up to 6 decimal values\"\"\"\n",
    "        return latexify(self)\n",
    "\n",
    "    def norm(self) -> float:\n",
    "        \"\"\"Calculates Matrix norm using np.linalg.norm\"\"\"\n",
    "        return np.linalg.norm(self, 1)\n",
    "\n",
    "    def inv(self) -> Any:\n",
    "        return Matrix(np.linalg.inv(self))\n",
    "\n",
    "def append(M: np.ndarray, N: np.ndarray) -> Matrix:\n",
    "    \"\"\"Appends two numpy arrays with axis=1\"\"\"\n",
    "    return Matrix(np.append(arr=np.asarray(M), values=N, axis=1))"
   ]
  },
  {
   "cell_type": "code",
   "execution_count": 3,
   "metadata": {},
   "outputs": [],
   "source": [
    "def Gauss(A: Matrix, B: Matrix, n: int) -> Matrix:\n",
    "    \"\"\"\n",
    "    Вычисляет решения линейного уравнения Ax = B методом Гаусса с выбором\n",
    "    главного элемента по столбцам (с перестановкой строк)\n",
    "    \"\"\"\n",
    "    AB = append(A, B)\n",
    "    X = [[0] for _ in range(n)]\n",
    "    for k in range(n):\n",
    "        j = k\n",
    "        for i in range(k+1, n):\n",
    "            if abs(AB[j][k]) < abs(AB[i][k]):\n",
    "                j = i\n",
    "        AB.inverse_rows(k, j)\n",
    "        for j in range(k+1, n): \n",
    "            c = AB[j][k] / AB[k][k]\n",
    "            for i in range(n+1):\n",
    "                AB[j][i] -= c * AB[k][i]\n",
    "    X[n-1][0] = AB[n-1][n] / AB[n-1][n-1]\n",
    "    for k in range(n-1, -1, -1):\n",
    "        s = 0\n",
    "        for i in range(k+1, n):\n",
    "            s += AB[k][i] * X[i][0]\n",
    "        X[k][0] = (AB[k][n] - s) / AB[k][k]\n",
    "    return Matrix(np.array(X))"
   ]
  },
  {
   "cell_type": "code",
   "execution_count": 4,
   "metadata": {},
   "outputs": [],
   "source": [
    "def print_tex(*argv) -> None:\n",
    "    \"\"\"Displays a LaTex Markdown output\"\"\"\n",
    "    res = ' '.join(['$$'] + [(latexify(arg) if isinstance(arg, np.ndarray) else str(arg)) for arg in argv] + ['$$'])\n",
    "    display(Markdown(res))\n",
    "\n",
    "\n",
    "def get_latex_column(arg: str, n: int) -> str:\n",
    "    \"\"\"\n",
    "    Prepares a string with LaTex syntax for a column of `arg` with indeces form 1 to `n`\n",
    "    \"\"\"\n",
    "    res = [r\"\"\"\\begin{pmatrix}\"\"\", \"\\n\"]\n",
    "    for i in range(n):\n",
    "        line = arg + \"_{\" + str(i+1) + \"}\" + (r\"\\\\\" if i != n-1 else \"\") + \"\\n\"\n",
    "        res.append(line)\n",
    "    res.append(r\"\"\"\\end{pmatrix}\"\"\")\n",
    "    return ''.join(res)\n",
    "\n",
    "\n",
    "def get_exact_column(col: Matrix, n: int) -> str:\n",
    "    \"\"\"Prepares a string with LaTex syntax for a column of {col} elements\"\"\"\n",
    "    res = [r\"\"\"\\begin{pmatrix}\"\"\", \"\\n\"]\n",
    "    for i in range(n):\n",
    "        line = str(float(col[i][0])) + (r\"\\\\\" if i != n-1 else \"\") + \"\\n\"\n",
    "        res.append(line)\n",
    "    res.append(r\"\"\"\\end{pmatrix}\"\"\")\n",
    "    return ''.join(res)\n",
    "\n",
    "\n",
    "def print_system_output(A: Matrix, s: str, B: Matrix, X: Matrix, n: int, name: str) -> None:\n",
    "    \"\"\"Oupputs the result of solving a linear equation\"\"\"\n",
    "    B_ = np.matmul(A, X)\n",
    "    print_tex(r'\\text{', name, '}~X^* = ', get_latex_column(\"x^*\", n), '=', X.tex())\n",
    "    print_tex(rf'{s} \\times X^* = ', A.tex(), X.tex(), '=', B_.tex(), '= B^*')\n",
    "    print_tex('B = ', get_exact_column(B, n), r'\\stackrel{?}{=}', get_exact_column(B_, n), '= B^*')\n",
    "    print_tex(r'B - B^* = ', get_exact_column(B - B_, n))"
   ]
  },
  {
   "cell_type": "code",
   "execution_count": 8,
   "metadata": {},
   "outputs": [
    {
     "data": {
      "text/markdown": [
       "$$ A= \\begin{pmatrix} 0.780000 & -0.020000 & -0.120000 & -0.140000 \\\\ -0.020000 & 0.860000 & -0.040000 & 0.060000 \\\\ -0.120000 & -0.040000 & 0.720000 & -0.080000 \\\\ -0.140000 & 0.060000 & -0.080000 & 0.740000 \\end{pmatrix} ,~~ B= \\begin{pmatrix} 0.760000 \\\\ 0.080000 \\\\ 1.120000 \\\\ 0.680000 \\end{pmatrix} $$"
      ],
      "text/plain": [
       "<IPython.core.display.Markdown object>"
      ]
     },
     "metadata": {},
     "output_type": "display_data"
    }
   ],
   "source": [
    "n = 4\n",
    "# A = Matrix(np.random.rand(n, n))\n",
    "# B = Matrix(np.random.rand(n, 1))\n",
    "A = Matrix(np.array([\n",
    "    [0.78, -0.02, -0.12, -0.14],\n",
    "    [-0.02, 0.86, -0.04, 0.06],\n",
    "    [-0.12, -0.04, 0.72, -0.08],\n",
    "    [-0.14, 0.06, -0.08, 0.74]\n",
    "]))\n",
    "B = Matrix(np.array([\n",
    "    [0.76],\n",
    "    [0.08],\n",
    "    [1.12],\n",
    "    [0.68]\n",
    "]))\n",
    "print_tex('A=', A, ',~~', 'B=', B)"
   ]
  },
  {
   "cell_type": "code",
   "execution_count": 9,
   "metadata": {},
   "outputs": [
    {
     "data": {
      "text/markdown": [
       "$$ \\text{ Решение методом Гаусса: }~X^* =  \\begin{pmatrix}\n",
       "x^*_{1}\\\\\n",
       "x^*_{2}\\\\\n",
       "x^*_{3}\\\\\n",
       "x^*_{4}\n",
       "\\end{pmatrix} = \\begin{pmatrix} 1.534965 \\\\ 0.122010 \\\\ 1.975156 \\\\ 1.412955 \\end{pmatrix} $$"
      ],
      "text/plain": [
       "<IPython.core.display.Markdown object>"
      ]
     },
     "metadata": {},
     "output_type": "display_data"
    },
    {
     "data": {
      "text/markdown": [
       "$$ A \\times X^* =  \\begin{pmatrix} 0.780000 & -0.020000 & -0.120000 & -0.140000 \\\\ -0.020000 & 0.860000 & -0.040000 & 0.060000 \\\\ -0.120000 & -0.040000 & 0.720000 & -0.080000 \\\\ -0.140000 & 0.060000 & -0.080000 & 0.740000 \\end{pmatrix} \\begin{pmatrix} 1.534965 \\\\ 0.122010 \\\\ 1.975156 \\\\ 1.412955 \\end{pmatrix} = \\begin{pmatrix} 0.760000 \\\\ 0.080000 \\\\ 1.120000 \\\\ 0.680000 \\end{pmatrix} = B^* $$"
      ],
      "text/plain": [
       "<IPython.core.display.Markdown object>"
      ]
     },
     "metadata": {},
     "output_type": "display_data"
    },
    {
     "data": {
      "text/markdown": [
       "$$ B =  \\begin{pmatrix}\n",
       "0.76\\\\\n",
       "0.08\\\\\n",
       "1.12\\\\\n",
       "0.68\n",
       "\\end{pmatrix} \\stackrel{?}{=} \\begin{pmatrix}\n",
       "0.7599999999999999\\\\\n",
       "0.07999999999999999\\\\\n",
       "1.12\\\\\n",
       "0.68\n",
       "\\end{pmatrix} = B^* $$"
      ],
      "text/plain": [
       "<IPython.core.display.Markdown object>"
      ]
     },
     "metadata": {},
     "output_type": "display_data"
    },
    {
     "data": {
      "text/markdown": [
       "$$ B - B^* =  \\begin{pmatrix}\n",
       "1.1102230246251565e-16\\\\\n",
       "1.3877787807814457e-17\\\\\n",
       "0.0\\\\\n",
       "0.0\n",
       "\\end{pmatrix} $$"
      ],
      "text/plain": [
       "<IPython.core.display.Markdown object>"
      ]
     },
     "metadata": {},
     "output_type": "display_data"
    }
   ],
   "source": [
    "X = Gauss(A, B, n)\n",
    "print_system_output(A, 'A', B, X, n, 'Решение методом Гаусса:')"
   ]
  },
  {
   "cell_type": "code",
   "execution_count": 10,
   "metadata": {},
   "outputs": [
    {
     "data": {
      "text/markdown": [
       "$$ H= \\begin{pmatrix} 0 & 0.025641 & 0.153846 & 0.179487 \\\\ 0.023256 & 0 & 0.046512 & -0.069767 \\\\ \\frac{1}{6} & 0.055556 & 0 & \\frac{1}{9} \\\\ 0.189189 & -0.081081 & 0.108108 & 0 \\end{pmatrix} ,~~ G= \\begin{pmatrix} 0.974359 \\\\ 0.093023 \\\\ \\frac{14}{9} \\\\ 0.918919 \\end{pmatrix} $$"
      ],
      "text/plain": [
       "<IPython.core.display.Markdown object>"
      ]
     },
     "metadata": {},
     "output_type": "display_data"
    },
    {
     "data": {
      "text/markdown": [
       "$$ ||H||_\\infty =  0.3783783783783784 $$"
      ],
      "text/plain": [
       "<IPython.core.display.Markdown object>"
      ]
     },
     "metadata": {},
     "output_type": "display_data"
    }
   ],
   "source": [
    "D, D_inv, L, R = [Matrix(np.zeros((n, n))) for _ in range(4)]\n",
    "for i in range(n):\n",
    "    D[i][i] = A[i][i]\n",
    "    D_inv[i][i] = 1 / A[i][i]\n",
    "    for j in range(n):\n",
    "        if j < i:\n",
    "            L[i][j] = A[i][j]\n",
    "        elif j > i:\n",
    "            R[i][j] = A[i][j]\n",
    "H = Matrix(np.identity(n) - D_inv @ A)\n",
    "G = D_inv @ B\n",
    "print_tex('H=', H, ',~~', 'G=', G)\n",
    "print_tex(r'||H||_\\infty = ', np.linalg.norm(H, np.inf))"
   ]
  },
  {
   "cell_type": "code",
   "execution_count": 11,
   "metadata": {},
   "outputs": [
    {
     "data": {
      "text/markdown": [
       "$$ \\text{Решение методом простой итерации:}~ \\begin{pmatrix} 1.534544 \\\\ 0.122011 \\\\ 1.974784 \\\\ 1.412563 \\end{pmatrix} $$"
      ],
      "text/plain": [
       "<IPython.core.display.Markdown object>"
      ]
     },
     "metadata": {},
     "output_type": "display_data"
    },
    {
     "data": {
      "text/markdown": [
       "$$ \\begin{pmatrix}\n",
       "0.00042125833343442665\\\\\n",
       "-1.3266915103310462e-06\\\\\n",
       "0.00037219061521898134\\\\\n",
       "0.0003923703292800784\n",
       "\\end{pmatrix} $$"
      ],
      "text/plain": [
       "<IPython.core.display.Markdown object>"
      ]
     },
     "metadata": {},
     "output_type": "display_data"
    }
   ],
   "source": [
    "iter = 7\n",
    "\n",
    "def iterative_method(H: Matrix = H, G: Matrix = G, i: int = i, n: int = n) -> Union[Matrix, Matrix]:\n",
    "    out = Matrix(np.zeros((n, 1)))\n",
    "    for _ in range(iter):\n",
    "        # print_tex(H, G, out)\n",
    "        prev = out\n",
    "        out = H @ prev + G\n",
    "    return out, prev\n",
    "\n",
    "iter_ans, prev = iterative_method()\n",
    "print_tex(r'\\text{Решение методом простой итерации:}~', iter_ans)\n",
    "print_tex(get_exact_column(X - iter_ans, n))"
   ]
  }
 ],
 "metadata": {
  "kernelspec": {
   "display_name": "Python 3.9.13 64-bit (microsoft store)",
   "language": "python",
   "name": "python3"
  },
  "language_info": {
   "codemirror_mode": {
    "name": "ipython",
    "version": 3
   },
   "file_extension": ".py",
   "mimetype": "text/x-python",
   "name": "python",
   "nbconvert_exporter": "python",
   "pygments_lexer": "ipython3",
   "version": "3.9.13"
  },
  "orig_nbformat": 4,
  "vscode": {
   "interpreter": {
    "hash": "a5a87ee616be0254e3f1af9223138e3faeac65b2c9d91bc22a9fc5a4a8bd8eb0"
   }
  }
 },
 "nbformat": 4,
 "nbformat_minor": 2
}
