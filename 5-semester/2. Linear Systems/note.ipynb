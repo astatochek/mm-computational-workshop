{
 "cells": [
  {
   "cell_type": "markdown",
   "metadata": {},
   "source": [
    "# Задание 2. Итерационные методы решения линейных систем"
   ]
  },
  {
   "cell_type": "code",
   "execution_count": 3,
   "metadata": {},
   "outputs": [],
   "source": [
    "from latexifier import latexify\n",
    "from IPython.display import display, Markdown\n",
    "import numpy as np\n",
    "from typing import Callable, List, Tuple, Union\n",
    "import warnings\n",
    "from funcs import Matrix, Gauss\n",
    "warnings.filterwarnings('ignore')"
   ]
  },
  {
   "cell_type": "code",
   "execution_count": 8,
   "metadata": {},
   "outputs": [],
   "source": [
    "def append(M: np.ndarray, N: np.ndarray) -> Matrix:\n",
    "    \"\"\"Appends two numpy arrays with axis=1\"\"\"\n",
    "    return Matrix(np.append(arr=np.asarray(M), values=N, axis=1))\n",
    "\n",
    "\n",
    "def print_tex(*argv) -> None:\n",
    "    \"\"\"Displays a LaTex Markdown output\"\"\"\n",
    "    res = ' '.join(['$$'] + [(latexify(arg) if isinstance(arg, np.ndarray) else str(arg)) for arg in argv] + ['$$'])\n",
    "    display(Markdown(res))\n",
    "\n",
    "\n",
    "def get_latex_column(arg: str, n: int) -> str:\n",
    "    \"\"\"\n",
    "    Prepares a string with LaTex syntax for a column of `arg` with indeces form 1 to `n`\n",
    "    \"\"\"\n",
    "    res = [r\"\"\"\\begin{pmatrix}\"\"\", \"\\n\"]\n",
    "    for i in range(n):\n",
    "        line = arg + \"_{\" + str(i+1) + \"}\" + (r\"\\\\\" if i != n-1 else \"\") + \"\\n\"\n",
    "        res.append(line)\n",
    "    res.append(r\"\"\"\\end{pmatrix}\"\"\")\n",
    "    return ''.join(res)\n",
    "\n",
    "\n",
    "def get_exact_column(col: Matrix, n: int) -> str:\n",
    "    \"\"\"Prepares a string with LaTex syntax for a column of {col} elements\"\"\"\n",
    "    res = [r\"\"\"\\begin{pmatrix}\"\"\", \"\\n\"]\n",
    "    for i in range(n):\n",
    "        line = str(float(col[i][0])) + (r\"\\\\\" if i != n-1 else \"\") + \"\\n\"\n",
    "        res.append(line)\n",
    "    res.append(r\"\"\"\\end{pmatrix}\"\"\")\n",
    "    return ''.join(res)\n",
    "\n",
    "\n",
    "def print_system_output(A: Matrix, s: str, B: Matrix, X: Matrix, n: int) -> None:\n",
    "    \"\"\"Oupputs the result of solving a linear equation\"\"\"\n",
    "    B_ = np.matmul(A, X)\n",
    "    print_tex('X^* = ', get_latex_column(\"x^*\", n), '=', X.tex())\n",
    "    print_tex(rf'{s} \\times X^* = ', A.tex(), X.tex(), '=', B_.tex(), '= B^*')\n",
    "    print_tex('B = ', get_exact_column(B, n), r'\\stackrel{?}{=}', get_exact_column(B_, n), '= B^*')\n",
    "    print_tex(r'B - B^* = ', get_exact_column(B - B_, n))"
   ]
  },
  {
   "cell_type": "code",
   "execution_count": 9,
   "metadata": {},
   "outputs": [],
   "source": [
    "n = 4\n",
    "A = Matrix(np.random.rand(n, n) * 10)\n",
    "B = Matrix(np.random.rand(n, n) * 10)"
   ]
  },
  {
   "cell_type": "code",
   "execution_count": 10,
   "metadata": {},
   "outputs": [
    {
     "data": {
      "text/markdown": [
       "$$ \\begin{pmatrix} 9.858803 & 9.958730 & 5.834920 & 0.581073 \\\\ 0.274446 & 2.253814 & 3.204976 & 5.073564 \\\\ 8.110552 & 5.416011 & 1.805083 & 9.767494 \\\\ 1.500910 & 1.169857 & 8.365850 & 4.896689 \\end{pmatrix} \\times \\begin{pmatrix} 4.382954 & 1.044127 & 2.230877 & 9.346110 \\\\ 7.330379 & 9.078044 & 1.228830 & 7.939186 \\\\ 6.014221 & 5.401522 & 6.805697 & 6.075581 \\\\ 7.706538 & 8.028049 & 3.136365 & 5.185765 \\end{pmatrix} = \\begin{pmatrix} 155.782500 & 136.881959 & 75.764518 & 209.669499 \\\\ 76.099245 & 78.789352 & 41.106453 & 66.240858 \\\\ 161.379321 & 145.799346 & 67.668272 & 180.419684 \\\\ 103.204509 & 96.686345 & 77.079151 & 99.535873 \\end{pmatrix} $$"
      ],
      "text/plain": [
       "<IPython.core.display.Markdown object>"
      ]
     },
     "metadata": {},
     "output_type": "display_data"
    }
   ],
   "source": [
    "print_tex(A, r'\\times', B, '=', A @ B)"
   ]
  }
 ],
 "metadata": {
  "kernelspec": {
   "display_name": "Python 3.9.13 64-bit (microsoft store)",
   "language": "python",
   "name": "python3"
  },
  "language_info": {
   "codemirror_mode": {
    "name": "ipython",
    "version": 3
   },
   "file_extension": ".py",
   "mimetype": "text/x-python",
   "name": "python",
   "nbconvert_exporter": "python",
   "pygments_lexer": "ipython3",
   "version": "3.9.13"
  },
  "orig_nbformat": 4,
  "vscode": {
   "interpreter": {
    "hash": "a5a87ee616be0254e3f1af9223138e3faeac65b2c9d91bc22a9fc5a4a8bd8eb0"
   }
  }
 },
 "nbformat": 4,
 "nbformat_minor": 2
}
