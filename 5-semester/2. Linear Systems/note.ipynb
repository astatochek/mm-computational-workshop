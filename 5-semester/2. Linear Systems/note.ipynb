{
 "cells": [
  {
   "cell_type": "markdown",
   "metadata": {},
   "source": [
    "# Задание 2. Итерационные методы решения линейных систем\n"
   ]
  },
  {
   "cell_type": "code",
   "execution_count": 1,
   "metadata": {},
   "outputs": [],
   "source": [
    "from latexifier import latexify\n",
    "from IPython.display import display, Markdown, Latex\n",
    "import numpy as np\n",
    "import pandas as pd\n",
    "from typing import Callable, List, Tuple, Union, Any\n",
    "import warnings\n",
    "warnings.filterwarnings('ignore')\n"
   ]
  },
  {
   "cell_type": "code",
   "execution_count": 2,
   "metadata": {},
   "outputs": [],
   "source": [
    "class Matrix(np.ndarray):\n",
    "    \"\"\"extends np.ndarray\"\"\"\n",
    "\n",
    "    def __new__(cls, input_array):\n",
    "        obj = np.asarray(input_array).view(cls)\n",
    "        return obj\n",
    "\n",
    "    def inverse_rows(self, i: int, j: int):\n",
    "        \"\"\"Swaps i-th and j-th rows of a matrix\"\"\"\n",
    "        self[i], self[j] = self[j].copy(), self[i].copy()\n",
    "\n",
    "    def inverse_cols(self, i: int, j: int):\n",
    "        \"\"\"Swaps i-th and j-th columns of a matrix\"\"\"\n",
    "        self = self.transpose()\n",
    "        self.inverse_rows(i, j)\n",
    "        self = self.transpose()\n",
    "\n",
    "    def tex(self) -> str:\n",
    "        \"\"\"Latexifies the matrix rounding up values up to 6 decimal values\"\"\"\n",
    "        return latexify(self)\n",
    "\n",
    "    def norm(self) -> float:\n",
    "        \"\"\"Calculates Matrix norm using `np.linalg.norm` with parameter `np.inf`\"\"\"\n",
    "        return np.linalg.norm(self, np.inf)\n",
    "\n",
    "    def inv(self) -> Any:\n",
    "        return Matrix(np.linalg.inv(self))\n",
    "\n",
    "\n",
    "def append(M: np.ndarray, N: np.ndarray) -> Matrix:\n",
    "    \"\"\"Appends two numpy arrays with axis=1\"\"\"\n",
    "    return Matrix(np.append(arr=np.asarray(M), values=N, axis=1))\n"
   ]
  },
  {
   "cell_type": "code",
   "execution_count": 3,
   "metadata": {},
   "outputs": [],
   "source": [
    "def Gauss(A: Matrix, B: Matrix, n: int) -> Matrix:\n",
    "    \"\"\"\n",
    "    Вычисляет решения линейного уравнения Ax = B методом Гаусса с выбором\n",
    "    главного элемента по столбцам (с перестановкой строк)\n",
    "    \"\"\"\n",
    "    AB = append(A, B)\n",
    "    X = [[0] for _ in range(n)]\n",
    "    for k in range(n):\n",
    "        j = k\n",
    "        for i in range(k+1, n):\n",
    "            if abs(AB[j][k]) < abs(AB[i][k]):\n",
    "                j = i\n",
    "        AB.inverse_rows(k, j)\n",
    "        for j in range(k+1, n):\n",
    "            c = AB[j][k] / AB[k][k]\n",
    "            for i in range(n+1):\n",
    "                AB[j][i] -= c * AB[k][i]\n",
    "    X[n-1][0] = AB[n-1][n] / AB[n-1][n-1]\n",
    "    for k in range(n-1, -1, -1):\n",
    "        s = 0\n",
    "        for i in range(k+1, n):\n",
    "            s += AB[k][i] * X[i][0]\n",
    "        X[k][0] = (AB[k][n] - s) / AB[k][k]\n",
    "    return Matrix(np.array(X))\n"
   ]
  },
  {
   "cell_type": "code",
   "execution_count": 4,
   "metadata": {},
   "outputs": [],
   "source": [
    "def print_tex(*argv) -> None:\n",
    "    \"\"\"Displays a LaTex Markdown output\"\"\"\n",
    "    res = ' '.join(['$$'] + [(latexify(arg) if isinstance(arg,\n",
    "                   np.ndarray) else str(arg)) for arg in argv] + ['$$'])\n",
    "    display(Markdown(res))\n",
    "\n",
    "\n",
    "def get_latex_column(arg: str, n: int) -> str:\n",
    "    \"\"\"\n",
    "    Prepares a string with LaTex syntax for a column of `arg` with indeces form 1 to `n`\n",
    "    \"\"\"\n",
    "    res = [r\"\"\"\\begin{pmatrix}\"\"\", \"\\n\"]\n",
    "    for i in range(n):\n",
    "        line = arg + \"_{\" + str(i+1) + \"}\" + (r\"\\\\\" if i != n-1 else \"\") + \"\\n\"\n",
    "        res.append(line)\n",
    "    res.append(r\"\"\"\\end{pmatrix}\"\"\")\n",
    "    return ''.join(res)\n",
    "\n",
    "\n",
    "def get_exact_column(col: Matrix, n: int) -> str:\n",
    "    \"\"\"Prepares a string with LaTex syntax for a column of {col} elements\"\"\"\n",
    "    res = [r\"\"\"\\begin{pmatrix}\"\"\", \"\\n\"]\n",
    "    for i in range(n):\n",
    "        line = str(float(col[i][0])) + (r\"\\\\\" if i != n-1 else \"\") + \"\\n\"\n",
    "        res.append(line)\n",
    "    res.append(r\"\"\"\\end{pmatrix}\"\"\")\n",
    "    return ''.join(res)\n",
    "\n",
    "\n",
    "def print_gauss_output(A: Matrix, B: Matrix, X: Matrix, n: int, name: str) -> None:\n",
    "    \"\"\"Oupputs the result of solving a linear equation\"\"\"\n",
    "    B_ = A @ X\n",
    "    print_tex(r'\\text{', name, '}~X^* = ',\n",
    "              get_latex_column(\"x^*\", n), '=', get_exact_column(X, n))\n",
    "    print_tex(rf'A \\times X^* = ', A.tex(), X.tex(), '=', B_.tex(), '= B^*')\n",
    "    print_tex('B = ', get_exact_column(B, n),\n",
    "              r'\\stackrel{?}{=}', get_exact_column(B_, n), '= B^*')\n",
    "    print_tex(r'B - B^* = ', get_exact_column(B - B_, n))\n"
   ]
  },
  {
   "cell_type": "markdown",
   "metadata": {},
   "source": [
    "## Вариант 12\n"
   ]
  },
  {
   "cell_type": "code",
   "execution_count": 5,
   "metadata": {},
   "outputs": [
    {
     "data": {
      "text/markdown": [
       "$$ A= \\begin{pmatrix} 2.264919 & 0.947936 & 0.245610 & 0.653739 \\\\ 0.947936 & 2.795112 & 0.959312 & 0.132091 \\\\ 0.245610 & 0.959312 & 1.599947 & 0.265884 \\\\ 0.653739 & 0.132091 & 0.265884 & 1.529915 \\end{pmatrix} ,~~ B= \\begin{pmatrix} 0.601364 \\\\ 0.710518 \\\\ 0.883180 \\\\ 0.647212 \\end{pmatrix} $$"
      ],
      "text/plain": [
       "<IPython.core.display.Markdown object>"
      ]
     },
     "metadata": {},
     "output_type": "display_data"
    }
   ],
   "source": [
    "n = 4\n",
    "A = Matrix(np.random.rand(n, n))\n",
    "B = Matrix(np.random.rand(n, 1))\n",
    "for i in range(n):\n",
    "    for j in range(n):\n",
    "        A[i][j] = A[j][i]\n",
    "    A[i][i] += np.sum([A[i][j] for j in range(n) if i != j])\n",
    "print_tex('A=', A, ',~~', 'B=', B)\n"
   ]
  },
  {
   "cell_type": "code",
   "execution_count": 6,
   "metadata": {},
   "outputs": [
    {
     "name": "stdout",
     "output_type": "stream",
     "text": [
      "Собственные числа матрицы A: [4.00865682 2.01667841 0.80532189 1.35923571]\n"
     ]
    }
   ],
   "source": [
    "eigenvals = Matrix(np.linalg.eigvals(A))\n",
    "print('Собственные числа матрицы A:', eigenvals)"
   ]
  },
  {
   "cell_type": "markdown",
   "metadata": {},
   "source": [
    "Найдем решение $x^*$ методом Гаусса.\n"
   ]
  },
  {
   "cell_type": "code",
   "execution_count": 7,
   "metadata": {},
   "outputs": [
    {
     "data": {
      "text/markdown": [
       "$$ \\text{ Решение методом Гаусса: }~X^* =  \\begin{pmatrix}\n",
       "x^*_{1}\\\\\n",
       "x^*_{2}\\\\\n",
       "x^*_{3}\\\\\n",
       "x^*_{4}\n",
       "\\end{pmatrix} = \\begin{pmatrix}\n",
       "0.11313240996797769\\\\\n",
       "0.04430003951058795\\\\\n",
       "0.45972162035338693\\\\\n",
       "0.29097619119352586\n",
       "\\end{pmatrix} $$"
      ],
      "text/plain": [
       "<IPython.core.display.Markdown object>"
      ]
     },
     "metadata": {},
     "output_type": "display_data"
    },
    {
     "data": {
      "text/markdown": [
       "$$ A \\times X^* =  \\begin{pmatrix} 2.264919 & 0.947936 & 0.245610 & 0.653739 \\\\ 0.947936 & 2.795112 & 0.959312 & 0.132091 \\\\ 0.245610 & 0.959312 & 1.599947 & 0.265884 \\\\ 0.653739 & 0.132091 & 0.265884 & 1.529915 \\end{pmatrix} \\begin{pmatrix} 0.113132 \\\\ 0.044300 \\\\ 0.459722 \\\\ 0.290976 \\end{pmatrix} = \\begin{pmatrix} 0.601364 \\\\ 0.710518 \\\\ 0.883180 \\\\ 0.647212 \\end{pmatrix} = B^* $$"
      ],
      "text/plain": [
       "<IPython.core.display.Markdown object>"
      ]
     },
     "metadata": {},
     "output_type": "display_data"
    },
    {
     "data": {
      "text/markdown": [
       "$$ B =  \\begin{pmatrix}\n",
       "0.6013640628999325\\\\\n",
       "0.7105177356325892\\\\\n",
       "0.8831799726695722\\\\\n",
       "0.6472120053904549\n",
       "\\end{pmatrix} \\stackrel{?}{=} \\begin{pmatrix}\n",
       "0.6013640628999325\\\\\n",
       "0.7105177356325892\\\\\n",
       "0.8831799726695722\\\\\n",
       "0.6472120053904549\n",
       "\\end{pmatrix} = B^* $$"
      ],
      "text/plain": [
       "<IPython.core.display.Markdown object>"
      ]
     },
     "metadata": {},
     "output_type": "display_data"
    },
    {
     "data": {
      "text/markdown": [
       "$$ B - B^* =  \\begin{pmatrix}\n",
       "0.0\\\\\n",
       "0.0\\\\\n",
       "0.0\\\\\n",
       "0.0\n",
       "\\end{pmatrix} $$"
      ],
      "text/plain": [
       "<IPython.core.display.Markdown object>"
      ]
     },
     "metadata": {},
     "output_type": "display_data"
    }
   ],
   "source": [
    "X_Gauss = Gauss(A, B, n)\n",
    "print_gauss_output(A, B, X_Gauss, n, 'Решение методом Гаусса:')\n"
   ]
  },
  {
   "cell_type": "code",
   "execution_count": 8,
   "metadata": {},
   "outputs": [],
   "source": [
    "def compare_result(name: str, val: Matrix, n: int = n) -> None:\n",
    "    print_tex(name, '=', get_exact_column(val, n), r'\\stackrel{?}{=}', get_exact_column(X_Gauss, n), '=X^*')\n",
    "    print_tex(rf'||X^* - {name}||_\\infty=', (X_Gauss - val).norm())\n",
    "\n",
    "data = {}\n",
    "\n",
    "def add_data(method_name: str, iterations: int, ans: Matrix) -> None:\n",
    "    data[method_name] = {\n",
    "        'Количество Итераций': str(iterations),\n",
    "        'Фактическая Погрешность': str((X_Gauss - ans).norm())\n",
    "    }"
   ]
  },
  {
   "cell_type": "markdown",
   "metadata": {},
   "source": [
    "Преобразуем исходную систему к системе вида $x = H_Dx + g_D$\n",
    "$$ H_D = E - D^{-1}A $$\n",
    "$$ g_D = D^{-1}b $$\n"
   ]
  },
  {
   "cell_type": "code",
   "execution_count": 9,
   "metadata": {},
   "outputs": [
    {
     "data": {
      "text/markdown": [
       "$$ H_D= \\begin{pmatrix} 0 & -0.418530 & -0.108441 & -0.288637 \\\\ -0.339141 & 0 & -0.343211 & -0.047258 \\\\ -0.153511 & -0.599590 & 0 & -0.166183 \\\\ -0.427304 & -0.086339 & -0.173790 & 0 \\end{pmatrix} ,~~ g_D= \\begin{pmatrix} 0.265512 \\\\ 0.254200 \\\\ 0.552006 \\\\ 0.423038 \\end{pmatrix} $$"
      ],
      "text/plain": [
       "<IPython.core.display.Markdown object>"
      ]
     },
     "metadata": {},
     "output_type": "display_data"
    },
    {
     "data": {
      "text/markdown": [
       "$$ ||H_D||_\\infty =  0.9192840212429221 $$"
      ],
      "text/plain": [
       "<IPython.core.display.Markdown object>"
      ]
     },
     "metadata": {},
     "output_type": "display_data"
    }
   ],
   "source": [
    "D, D_inv = Matrix(np.zeros((n, n))), Matrix(np.zeros((n, n)))\n",
    "\n",
    "for i in range(n):\n",
    "    D[i][i] = A[i][i]\n",
    "    D_inv[i][i] = 1 / A[i][i]\n",
    "\n",
    "H_D = Matrix(np.identity(n) - D_inv @ A)\n",
    "g_D = Matrix(D_inv @ B)\n",
    "print_tex('H_D=', H_D, ',~~', 'g_D=', g_D)\n",
    "print_tex(rf'||H_D||_\\infty = ', H_D.norm())\n"
   ]
  },
  {
   "cell_type": "markdown",
   "metadata": {},
   "source": [
    "Найдем априорную оценку для того $k$, при котором $||x^* - x^k||_\\infty < \\varepsilon,~\\varepsilon = 0.001$\n"
   ]
  },
  {
   "cell_type": "code",
   "execution_count": 10,
   "metadata": {},
   "outputs": [
    {
     "name": "stdout",
     "output_type": "stream",
     "text": [
      "Количество итераций для достижения нужной точности по априорной оценке: 105\n"
     ]
    }
   ],
   "source": [
    "def apr_eval(\n",
    "    H: Matrix = H_D,\n",
    "    g: Matrix = g_D,\n",
    "    k: int = 1\n",
    ") -> float:\n",
    "    return H.norm()**k / (1 - H.norm()) * g.norm()\n",
    "\n",
    "\n",
    "eps = 1.e-3\n",
    "k = 1\n",
    "while (apr_eval(k=k) >= eps):\n",
    "    k += 1\n",
    "print('Количество итераций для достижения нужной точности по априорной оценке:', k)\n"
   ]
  },
  {
   "cell_type": "code",
   "execution_count": 11,
   "metadata": {},
   "outputs": [
    {
     "data": {
      "text/markdown": [
       "$$ X^{23} = \\begin{pmatrix}\n",
       "0.11395569787259852\\\\\n",
       "0.045102687033742095\\\\\n",
       "0.4606473401933409\\\\\n",
       "0.2917153184174879\n",
       "\\end{pmatrix} \\stackrel{?}{=} \\begin{pmatrix}\n",
       "0.11313240996797769\\\\\n",
       "0.04430003951058795\\\\\n",
       "0.45972162035338693\\\\\n",
       "0.29097619119352586\n",
       "\\end{pmatrix} =X^* $$"
      ],
      "text/plain": [
       "<IPython.core.display.Markdown object>"
      ]
     },
     "metadata": {},
     "output_type": "display_data"
    },
    {
     "data": {
      "text/markdown": [
       "$$ ||X^* - X^{23}||_\\infty= 0.0009257198399539868 $$"
      ],
      "text/plain": [
       "<IPython.core.display.Markdown object>"
      ]
     },
     "metadata": {},
     "output_type": "display_data"
    }
   ],
   "source": [
    "def iterative_method(\n",
    "    H: Matrix = H_D,\n",
    "    G: Matrix = g_D,\n",
    "    n: int = n\n",
    ") -> Union[Matrix, Matrix, int]:\n",
    "    next = Matrix(np.zeros((n, 1)))\n",
    "    iter = 0\n",
    "    while (X_Gauss - next).norm() >= eps:\n",
    "        prev, next = next, H @ next + G\n",
    "        iter += 1\n",
    "    return next, prev, iter\n",
    "\n",
    "\n",
    "iter_ans, iter_prev, iter = iterative_method()\n",
    "compare_result(rf'X^{({iter})}', iter_ans)\n"
   ]
  },
  {
   "cell_type": "code",
   "execution_count": 12,
   "metadata": {},
   "outputs": [],
   "source": [
    "add_data('Метод простой итерации', iter, iter_ans)"
   ]
  },
  {
   "cell_type": "code",
   "execution_count": 13,
   "metadata": {},
   "outputs": [
    {
     "name": "stdout",
     "output_type": "stream",
     "text": [
      "Априорная оценка при k=23: 0.9870234965149199\n"
     ]
    }
   ],
   "source": [
    "print(f'Априорная оценка при k={iter}:', apr_eval(k=iter))"
   ]
  },
  {
   "cell_type": "code",
   "execution_count": 14,
   "metadata": {},
   "outputs": [
    {
     "name": "stdout",
     "output_type": "stream",
     "text": [
      "Апостериорная оценка: 0.023938034708965442\n"
     ]
    }
   ],
   "source": [
    "def apostr_eval(\n",
    "    x_k: Matrix = iter_ans,\n",
    "    x_prev: Matrix = iter_prev,\n",
    "    H: Matrix = H_D,\n",
    ") -> float:\n",
    "    return H.norm() / (1 - H.norm()) * (x_k - x_prev).norm()\n",
    "\n",
    "print('Апостериорная оценка:', apostr_eval(iter_ans, iter_prev))\n"
   ]
  },
  {
   "cell_type": "code",
   "execution_count": 15,
   "metadata": {},
   "outputs": [
    {
     "data": {
      "text/markdown": [
       "$$ X^{23}_\\text{lust} = \\begin{pmatrix}\n",
       "0.12091322753738812\\\\\n",
       "0.051873916063184144\\\\\n",
       "0.46847041173797843\\\\\n",
       "0.2979516390775675\n",
       "\\end{pmatrix} \\stackrel{?}{=} \\begin{pmatrix}\n",
       "0.11313240996797769\\\\\n",
       "0.04430003951058795\\\\\n",
       "0.45972162035338693\\\\\n",
       "0.29097619119352586\n",
       "\\end{pmatrix} =X^* $$"
      ],
      "text/plain": [
       "<IPython.core.display.Markdown object>"
      ]
     },
     "metadata": {},
     "output_type": "display_data"
    },
    {
     "data": {
      "text/markdown": [
       "$$ ||X^* - X^{23}_\\text{lust}||_\\infty= 0.008748791384591503 $$"
      ],
      "text/plain": [
       "<IPython.core.display.Markdown object>"
      ]
     },
     "metadata": {},
     "output_type": "display_data"
    }
   ],
   "source": [
    "def spec_radius(H: Matrix = H_D):\n",
    "    return max(np.absolute(np.linalg.eigvals(H)))\n",
    "\n",
    "\n",
    "def luster_approx(x_k: Matrix, x_prev: Matrix, H: Matrix = H_D) -> Matrix:\n",
    "    return x_prev + (x_k - x_prev) / (1 - spec_radius(H))\n",
    "\n",
    "\n",
    "X_luster = luster_approx(iter_ans, iter_prev, H_D)\n",
    "\n",
    "compare_result(rf'X^{({iter})}_\\text{{lust}}', X_luster)\n"
   ]
  },
  {
   "cell_type": "markdown",
   "metadata": {},
   "source": [
    "Вычислим решение $x = H_Dx + g_D$ методом Зейделя с точностью $\\varepsilon = 0.001$"
   ]
  },
  {
   "cell_type": "code",
   "execution_count": 18,
   "metadata": {},
   "outputs": [
    {
     "data": {
      "text/markdown": [
       "$$ X^{6}_\\text{seid} = \\begin{pmatrix}\n",
       "0.11273657686430288\\\\\n",
       "0.044609864053198056\\\\\n",
       "0.45951874417111555\\\\\n",
       "0.2911538402131464\n",
       "\\end{pmatrix} \\stackrel{?}{=} \\begin{pmatrix}\n",
       "0.11313240996797769\\\\\n",
       "0.04430003951058795\\\\\n",
       "0.45972162035338693\\\\\n",
       "0.29097619119352586\n",
       "\\end{pmatrix} =X^* $$"
      ],
      "text/plain": [
       "<IPython.core.display.Markdown object>"
      ]
     },
     "metadata": {},
     "output_type": "display_data"
    },
    {
     "data": {
      "text/markdown": [
       "$$ ||X^* - X^{6}_\\text{seid}||_\\infty= 0.00039583310367480307 $$"
      ],
      "text/plain": [
       "<IPython.core.display.Markdown object>"
      ]
     },
     "metadata": {},
     "output_type": "display_data"
    }
   ],
   "source": [
    "def seid_method(\n",
    "    H: Matrix = H_D,\n",
    "    G: Matrix = g_D,\n",
    "    n: int = n\n",
    ") -> Union[Matrix, Matrix, int]:\n",
    "    H_L = Matrix(np.array([[H[i][j] if i > j else 0 for j in range(n)] for i in range(n)]))\n",
    "    H_R = Matrix(np.array([[H[i][j] if i <= j else 0 for j in range(n)] for i in range(n)]))\n",
    "    H_seid = (np.identity(n) - H_L).inv() @ H_R\n",
    "    g_seid = (np.identity(n) - H_L).inv() @ G\n",
    "    next = Matrix(np.zeros((n, 1)))\n",
    "    iter = 0\n",
    "    while (X_Gauss - next).norm() >= eps:\n",
    "        prev, next = next, H_seid @ next + g_seid\n",
    "        iter += 1\n",
    "    return next, prev, iter\n",
    "    \n",
    "seid_ans, seid_prev, seid_iter = seid_method()\n",
    "compare_result(rf'X^{({seid_iter})}_\\text{{seid}}', seid_ans)"
   ]
  },
  {
   "cell_type": "code",
   "execution_count": 19,
   "metadata": {},
   "outputs": [],
   "source": [
    "add_data('Метод Зейделя', seid_iter, seid_ans)"
   ]
  },
  {
   "cell_type": "markdown",
   "metadata": {},
   "source": [
    "Получим решение системы $Ax = b$ методом верхней релаксации с точностью $\\varepsilon = 0.001$"
   ]
  },
  {
   "cell_type": "code",
   "execution_count": 26,
   "metadata": {},
   "outputs": [
    {
     "data": {
      "text/markdown": [
       "$$ X^{5}_\\text{rel} = \\begin{pmatrix}\n",
       "0.11319242545050559\\\\\n",
       "0.04465050734362387\\\\\n",
       "0.4596887336505878\\\\\n",
       "0.2909788092651376\n",
       "\\end{pmatrix} \\stackrel{?}{=} \\begin{pmatrix}\n",
       "0.11313240996797769\\\\\n",
       "0.04430003951058795\\\\\n",
       "0.45972162035338693\\\\\n",
       "0.29097619119352586\n",
       "\\end{pmatrix} =X^* $$"
      ],
      "text/plain": [
       "<IPython.core.display.Markdown object>"
      ]
     },
     "metadata": {},
     "output_type": "display_data"
    },
    {
     "data": {
      "text/markdown": [
       "$$ ||X^* - X^{5}_\\text{rel}||_\\infty= 0.00035046783303591816 $$"
      ],
      "text/plain": [
       "<IPython.core.display.Markdown object>"
      ]
     },
     "metadata": {},
     "output_type": "display_data"
    }
   ],
   "source": [
    "def rel_method(\n",
    "    A: Matrix = A,\n",
    "    b: Matrix = B,\n",
    "    H: Matrix = H_D,\n",
    "    n: int = n\n",
    ") -> Union[Matrix, Matrix, int]:\n",
    "    rho = spec_radius(H)\n",
    "    q_opt = 2 / (1 + np.sqrt(1 - rho**2)) - 0.15\n",
    "    next = Matrix(np.zeros((n, 1)))\n",
    "    iter = 0\n",
    "    while (X_Gauss - next).norm() >= eps:\n",
    "        prev = next\n",
    "        for i in range(n):\n",
    "            next[i][0] = prev[i][0] + q_opt * (b[i][0] - np.sum([next[j][0] * A[i][j] for j in range(\n",
    "                i)]) - np.sum([prev[j][0] * A[i][j] for j in range(i, n)])) / A[i][i]\n",
    "        iter += 1\n",
    "    return next, prev, iter\n",
    "\n",
    "\n",
    "rel_ans, rel_prev, rel_iter = rel_method()\n",
    "compare_result(rf'X^{({rel_iter})}_\\text{{rel}}', rel_ans)"
   ]
  },
  {
   "cell_type": "code",
   "execution_count": 27,
   "metadata": {},
   "outputs": [],
   "source": [
    "add_data('Метод верхней релаксации', rel_iter, rel_ans)"
   ]
  },
  {
   "cell_type": "code",
   "execution_count": 28,
   "metadata": {},
   "outputs": [
    {
     "data": {
      "text/html": [
       "<div>\n",
       "<style scoped>\n",
       "    .dataframe tbody tr th:only-of-type {\n",
       "        vertical-align: middle;\n",
       "    }\n",
       "\n",
       "    .dataframe tbody tr th {\n",
       "        vertical-align: top;\n",
       "    }\n",
       "\n",
       "    .dataframe thead th {\n",
       "        text-align: right;\n",
       "    }\n",
       "</style>\n",
       "<table border=\"1\" class=\"dataframe\">\n",
       "  <thead>\n",
       "    <tr style=\"text-align: right;\">\n",
       "      <th></th>\n",
       "      <th>Метод простой итерации</th>\n",
       "      <th>Метод Зейделя</th>\n",
       "      <th>Метод верхней релаксации</th>\n",
       "    </tr>\n",
       "  </thead>\n",
       "  <tbody>\n",
       "    <tr>\n",
       "      <th>Количество Итераций</th>\n",
       "      <td>23</td>\n",
       "      <td>6</td>\n",
       "      <td>5</td>\n",
       "    </tr>\n",
       "    <tr>\n",
       "      <th>Фактическая Погрешность</th>\n",
       "      <td>0.0009257198399539868</td>\n",
       "      <td>0.00039583310367480307</td>\n",
       "      <td>0.00035046783303591816</td>\n",
       "    </tr>\n",
       "  </tbody>\n",
       "</table>\n",
       "</div>"
      ],
      "text/plain": [
       "                        Метод простой итерации           Метод Зейделя  \\\n",
       "Количество Итераций                         23                       6   \n",
       "Фактическая Погрешность  0.0009257198399539868  0.00039583310367480307   \n",
       "\n",
       "                        Метод верхней релаксации  \n",
       "Количество Итераций                            5  \n",
       "Фактическая Погрешность   0.00035046783303591816  "
      ]
     },
     "execution_count": 28,
     "metadata": {},
     "output_type": "execute_result"
    }
   ],
   "source": [
    "df = pd.DataFrame(data)\n",
    "df"
   ]
  }
 ],
 "metadata": {
  "kernelspec": {
   "display_name": "Python 3.9.13 64-bit (microsoft store)",
   "language": "python",
   "name": "python3"
  },
  "language_info": {
   "codemirror_mode": {
    "name": "ipython",
    "version": 3
   },
   "file_extension": ".py",
   "mimetype": "text/x-python",
   "name": "python",
   "nbconvert_exporter": "python",
   "pygments_lexer": "ipython3",
   "version": "3.9.13"
  },
  "orig_nbformat": 4,
  "vscode": {
   "interpreter": {
    "hash": "a5a87ee616be0254e3f1af9223138e3faeac65b2c9d91bc22a9fc5a4a8bd8eb0"
   }
  }
 },
 "nbformat": 4,
 "nbformat_minor": 2
}
