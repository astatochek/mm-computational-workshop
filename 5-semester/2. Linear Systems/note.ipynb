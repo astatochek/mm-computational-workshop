{
 "cells": [
  {
   "cell_type": "markdown",
   "metadata": {},
   "source": [
    "# Задание 2. Итерационные методы решения линейных систем\n"
   ]
  },
  {
   "cell_type": "code",
   "execution_count": 16,
   "metadata": {},
   "outputs": [],
   "source": [
    "from latexifier import latexify\n",
    "from IPython.display import display, Markdown, Latex\n",
    "import numpy as np\n",
    "import pandas as pd\n",
    "from typing import Callable, List, Tuple, Union, Any\n",
    "import warnings\n",
    "warnings.filterwarnings('ignore')\n"
   ]
  },
  {
   "cell_type": "code",
   "execution_count": 54,
   "metadata": {},
   "outputs": [],
   "source": [
    "class Matrix(np.ndarray):\n",
    "    \"\"\"extends np.ndarray\"\"\"\n",
    "\n",
    "    def __new__(cls, input_array):\n",
    "        obj = np.asarray(input_array).view(cls)\n",
    "        return obj\n",
    "\n",
    "    def inverse_rows(self, i: int, j: int):\n",
    "        \"\"\"Swaps i-th and j-th rows of a matrix\"\"\"\n",
    "        self[i], self[j] = self[j].copy(), self[i].copy()\n",
    "\n",
    "    def inverse_cols(self, i: int, j: int):\n",
    "        \"\"\"Swaps i-th and j-th columns of a matrix\"\"\"\n",
    "        self = self.transpose()\n",
    "        self.inverse_rows(i, j)\n",
    "        self = self.transpose()\n",
    "\n",
    "    def tex(self) -> str:\n",
    "        \"\"\"Latexifies the matrix rounding up values up to 6 decimal values\"\"\"\n",
    "        return latexify(self)\n",
    "\n",
    "    def norm(self) -> float:\n",
    "        \"\"\"Calculates Matrix norm using `np.linalg.norm` with parameter `np.inf`\"\"\"\n",
    "        return np.linalg.norm(self, np.inf)\n",
    "\n",
    "    def inv(self) -> Any:\n",
    "        return Matrix(np.linalg.inv(self))\n",
    "\n",
    "\n",
    "def append(M: np.ndarray, N: np.ndarray) -> Matrix:\n",
    "    \"\"\"Appends two numpy arrays with axis=1\"\"\"\n",
    "    return Matrix(np.append(arr=np.asarray(M), values=N, axis=1))\n"
   ]
  },
  {
   "cell_type": "code",
   "execution_count": 8,
   "metadata": {},
   "outputs": [],
   "source": [
    "def Gauss(A: Matrix, B: Matrix, n: int) -> Matrix:\n",
    "    \"\"\"\n",
    "    Вычисляет решения линейного уравнения Ax = B методом Гаусса с выбором\n",
    "    главного элемента по столбцам (с перестановкой строк)\n",
    "    \"\"\"\n",
    "    AB = append(A, B)\n",
    "    X = [[0] for _ in range(n)]\n",
    "    for k in range(n):\n",
    "        j = k\n",
    "        for i in range(k+1, n):\n",
    "            if abs(AB[j][k]) < abs(AB[i][k]):\n",
    "                j = i\n",
    "        AB.inverse_rows(k, j)\n",
    "        for j in range(k+1, n):\n",
    "            c = AB[j][k] / AB[k][k]\n",
    "            for i in range(n+1):\n",
    "                AB[j][i] -= c * AB[k][i]\n",
    "    X[n-1][0] = AB[n-1][n] / AB[n-1][n-1]\n",
    "    for k in range(n-1, -1, -1):\n",
    "        s = 0\n",
    "        for i in range(k+1, n):\n",
    "            s += AB[k][i] * X[i][0]\n",
    "        X[k][0] = (AB[k][n] - s) / AB[k][k]\n",
    "    return Matrix(np.array(X))\n"
   ]
  },
  {
   "cell_type": "code",
   "execution_count": 95,
   "metadata": {},
   "outputs": [],
   "source": [
    "def print_tex(*argv) -> None:\n",
    "    \"\"\"Displays a LaTex Markdown output\"\"\"\n",
    "    res = ' '.join(['$$'] + [(latexify(arg) if isinstance(arg,\n",
    "                   np.ndarray) else str(arg)) for arg in argv] + ['$$'])\n",
    "    display(Markdown(res))\n",
    "\n",
    "\n",
    "def get_latex_column(arg: str, n: int) -> str:\n",
    "    \"\"\"\n",
    "    Prepares a string with LaTex syntax for a column of `arg` with indeces form 1 to `n`\n",
    "    \"\"\"\n",
    "    res = [r\"\"\"\\begin{pmatrix}\"\"\", \"\\n\"]\n",
    "    for i in range(n):\n",
    "        line = arg + \"_{\" + str(i+1) + \"}\" + (r\"\\\\\" if i != n-1 else \"\") + \"\\n\"\n",
    "        res.append(line)\n",
    "    res.append(r\"\"\"\\end{pmatrix}\"\"\")\n",
    "    return ''.join(res)\n",
    "\n",
    "\n",
    "def get_exact_column(col: Matrix, n: int) -> str:\n",
    "    \"\"\"Prepares a string with LaTex syntax for a column of {col} elements\"\"\"\n",
    "    res = [r\"\"\"\\begin{pmatrix}\"\"\", \"\\n\"]\n",
    "    for i in range(n):\n",
    "        line = str(float(col[i][0])) + (r\"\\\\\" if i != n-1 else \"\") + \"\\n\"\n",
    "        res.append(line)\n",
    "    res.append(r\"\"\"\\end{pmatrix}\"\"\")\n",
    "    return ''.join(res)\n",
    "\n",
    "\n",
    "def print_gauss_output(A: Matrix, B: Matrix, X: Matrix, n: int, name: str) -> None:\n",
    "    \"\"\"Oupputs the result of solving a linear equation\"\"\"\n",
    "    B_ = A @ X\n",
    "    print_tex(r'\\text{', name, '}~X^* = ',\n",
    "              get_latex_column(\"x^*\", n), '=', get_exact_column(X, n))\n",
    "    print_tex(rf'A \\times X^* = ', A.tex(), X.tex(), '=', B_.tex(), '= B^*')\n",
    "    print_tex('B = ', get_exact_column(B, n),\n",
    "              r'\\stackrel{?}{=}', get_exact_column(B_, n), '= B^*')\n",
    "    print_tex(r'B - B^* = ', get_exact_column(B - B_, n))\n"
   ]
  },
  {
   "cell_type": "markdown",
   "metadata": {},
   "source": [
    "## Вариант 12\n"
   ]
  },
  {
   "cell_type": "code",
   "execution_count": 120,
   "metadata": {},
   "outputs": [
    {
     "data": {
      "text/markdown": [
       "$$ A= \\begin{pmatrix} 0.587864 & 0.100389 & 0.223769 & 0.220756 \\\\ 0.877197 & 2.245134 & 0.451472 & 0.785147 \\\\ 0.613065 & 0.451668 & 1.948599 & 0.118462 \\\\ 0.179308 & 0.499202 & 0.963665 & 2.235260 \\end{pmatrix} ,~~ B= \\begin{pmatrix} 0.493136 \\\\ 0.445390 \\\\ 0.778082 \\\\ 0.528644 \\end{pmatrix} $$"
      ],
      "text/plain": [
       "<IPython.core.display.Markdown object>"
      ]
     },
     "metadata": {},
     "output_type": "display_data"
    }
   ],
   "source": [
    "n = 4\n",
    "A = Matrix(np.random.rand(n, n))\n",
    "B = Matrix(np.random.rand(n, 1))\n",
    "for i in range(n):\n",
    "    A[i][i] += np.sum([A[i][j] for j in range(n) if i != j])\n",
    "print_tex('A=', A, ',~~', 'B=', B)\n"
   ]
  },
  {
   "cell_type": "markdown",
   "metadata": {},
   "source": [
    "Найдем решение $x^*$ методом Гаусса.\n"
   ]
  },
  {
   "cell_type": "code",
   "execution_count": 121,
   "metadata": {},
   "outputs": [
    {
     "data": {
      "text/markdown": [
       "$$ \\text{ Решение методом Гаусса: }~X^* =  \\begin{pmatrix}\n",
       "x^*_{1}\\\\\n",
       "x^*_{2}\\\\\n",
       "x^*_{3}\\\\\n",
       "x^*_{4}\n",
       "\\end{pmatrix} = \\begin{pmatrix}\n",
       "0.744568846481772\\\\\n",
       "-0.1782564217484637\\\\\n",
       "0.19839972141909132\\\\\n",
       "0.13105068823793647\n",
       "\\end{pmatrix} $$"
      ],
      "text/plain": [
       "<IPython.core.display.Markdown object>"
      ]
     },
     "metadata": {},
     "output_type": "display_data"
    },
    {
     "data": {
      "text/markdown": [
       "$$ A \\times X^* =  \\begin{pmatrix} 0.587864 & 0.100389 & 0.223769 & 0.220756 \\\\ 0.877197 & 2.245134 & 0.451472 & 0.785147 \\\\ 0.613065 & 0.451668 & 1.948599 & 0.118462 \\\\ 0.179308 & 0.499202 & 0.963665 & 2.235260 \\end{pmatrix} \\begin{pmatrix} 0.744569 \\\\ -0.178256 \\\\ 0.198400 \\\\ 0.131051 \\end{pmatrix} = \\begin{pmatrix} 0.493136 \\\\ 0.445390 \\\\ 0.778082 \\\\ 0.528644 \\end{pmatrix} = B^* $$"
      ],
      "text/plain": [
       "<IPython.core.display.Markdown object>"
      ]
     },
     "metadata": {},
     "output_type": "display_data"
    },
    {
     "data": {
      "text/markdown": [
       "$$ B =  \\begin{pmatrix}\n",
       "0.49313640203906206\\\\\n",
       "0.4453902473695439\\\\\n",
       "0.7780823154154177\\\\\n",
       "0.528644328079071\n",
       "\\end{pmatrix} \\stackrel{?}{=} \\begin{pmatrix}\n",
       "0.49313640203906206\\\\\n",
       "0.4453902473695438\\\\\n",
       "0.7780823154154176\\\\\n",
       "0.5286443280790711\n",
       "\\end{pmatrix} = B^* $$"
      ],
      "text/plain": [
       "<IPython.core.display.Markdown object>"
      ]
     },
     "metadata": {},
     "output_type": "display_data"
    },
    {
     "data": {
      "text/markdown": [
       "$$ B - B^* =  \\begin{pmatrix}\n",
       "0.0\\\\\n",
       "1.1102230246251565e-16\\\\\n",
       "1.1102230246251565e-16\\\\\n",
       "-1.1102230246251565e-16\n",
       "\\end{pmatrix} $$"
      ],
      "text/plain": [
       "<IPython.core.display.Markdown object>"
      ]
     },
     "metadata": {},
     "output_type": "display_data"
    }
   ],
   "source": [
    "X_Gauss = Gauss(A, B, n)\n",
    "print_gauss_output(A, B, X_Gauss, n, 'Решение методом Гаусса:')\n"
   ]
  },
  {
   "cell_type": "code",
   "execution_count": 134,
   "metadata": {},
   "outputs": [],
   "source": [
    "def compare_result(name: str, val: Matrix, n: int = n) -> None:\n",
    "    print_tex(name, '=', get_exact_column(val, n), r'\\stackrel{?}{=}', get_exact_column(X_Gauss, n), '=X^*')\n",
    "    print_tex(rf'||X^* - {name}||_\\infty=', (X_Gauss - val).norm())"
   ]
  },
  {
   "cell_type": "markdown",
   "metadata": {},
   "source": [
    "Преобразуем исходную систему к системе вида $x = H_Dx + g_D$\n",
    "$$ H_D = E - D^{-1}A $$\n",
    "$$ g_D = D^{-1}b $$\n"
   ]
  },
  {
   "cell_type": "code",
   "execution_count": 122,
   "metadata": {},
   "outputs": [
    {
     "data": {
      "text/markdown": [
       "$$ H_D= \\begin{pmatrix} 0 & -0.170768 & -0.380648 & -0.375522 \\\\ -0.390710 & 0 & -0.201089 & -0.349710 \\\\ -0.314618 & -0.231791 & 0 & -0.060793 \\\\ -0.080218 & -0.223331 & -0.431120 & 0 \\end{pmatrix} ,~~ g_D= \\begin{pmatrix} 0.838861 \\\\ 0.198380 \\\\ 0.399303 \\\\ 0.236502 \\end{pmatrix} $$"
      ],
      "text/plain": [
       "<IPython.core.display.Markdown object>"
      ]
     },
     "metadata": {},
     "output_type": "display_data"
    },
    {
     "data": {
      "text/markdown": [
       "$$ ||H_D||_\\infty =  0.9415099293846889 $$"
      ],
      "text/plain": [
       "<IPython.core.display.Markdown object>"
      ]
     },
     "metadata": {},
     "output_type": "display_data"
    }
   ],
   "source": [
    "D, D_inv = Matrix(np.zeros((n, n))), Matrix(np.zeros((n, n)))\n",
    "\n",
    "for i in range(n):\n",
    "    D[i][i] = A[i][i]\n",
    "    D_inv[i][i] = 1 / A[i][i]\n",
    "\n",
    "H_D = Matrix(np.identity(n) - D_inv @ A)\n",
    "g_D = Matrix(D_inv @ B)\n",
    "print_tex('H_D=', H_D, ',~~', 'g_D=', g_D)\n",
    "print_tex(rf'||H_D||_\\infty = ', H_D.norm())\n"
   ]
  },
  {
   "cell_type": "markdown",
   "metadata": {},
   "source": [
    "Найдем априорную оценку для того $k$, при котором $||x^* - x^k||_\\infty < \\varepsilon,~\\varepsilon = 0.001$\n"
   ]
  },
  {
   "cell_type": "code",
   "execution_count": 123,
   "metadata": {},
   "outputs": [
    {
     "data": {
      "text/plain": [
       "159"
      ]
     },
     "execution_count": 123,
     "metadata": {},
     "output_type": "execute_result"
    }
   ],
   "source": [
    "def apr_eval(\n",
    "    H: Matrix = H_D,\n",
    "    g: Matrix = g_D,\n",
    "    k: int = 1\n",
    ") -> float:\n",
    "    return H.norm()**k / (1 - H.norm()) * g.norm()\n",
    "\n",
    "\n",
    "eps = 1.e-3\n",
    "k = 1\n",
    "while (apr_eval(k=k) >= eps):\n",
    "    k += 1\n",
    "k\n"
   ]
  },
  {
   "cell_type": "code",
   "execution_count": 135,
   "metadata": {},
   "outputs": [
    {
     "data": {
      "text/markdown": [
       "$$ X^{24} = \\begin{pmatrix}\n",
       "0.7437106507542685\\\\\n",
       "-0.17916767980576995\\\\\n",
       "0.19773382167652925\\\\\n",
       "0.13034031291014622\n",
       "\\end{pmatrix} \\stackrel{?}{=} \\begin{pmatrix}\n",
       "0.744568846481772\\\\\n",
       "-0.1782564217484637\\\\\n",
       "0.19839972141909132\\\\\n",
       "0.13105068823793647\n",
       "\\end{pmatrix} =X^* $$"
      ],
      "text/plain": [
       "<IPython.core.display.Markdown object>"
      ]
     },
     "metadata": {},
     "output_type": "display_data"
    },
    {
     "data": {
      "text/markdown": [
       "$$ ||X^* - X^{24}||_\\infty= 0.0009112580573062412 $$"
      ],
      "text/plain": [
       "<IPython.core.display.Markdown object>"
      ]
     },
     "metadata": {},
     "output_type": "display_data"
    }
   ],
   "source": [
    "def iterative_method(\n",
    "    H: Matrix = H_D,\n",
    "    G: Matrix = g_D,\n",
    "    n: int = n\n",
    ") -> Union[Matrix, Matrix, int]:\n",
    "    next = Matrix(np.zeros((n, 1)))\n",
    "    iter = 0\n",
    "    while (X_Gauss - next).norm() >= eps:\n",
    "        prev, next = next, H @ next + G\n",
    "        iter += 1\n",
    "    return next, prev, iter\n",
    "\n",
    "\n",
    "iter_ans, prev, iter = iterative_method()\n",
    "# print_tex(r'\\text{Решение методом простой итерации:}~',\n",
    "#           rf'X^{({iter})}=', get_exact_column(iter_ans, n))\n",
    "# print_tex(rf'||X^* - X^{({iter})}||_\\infty=', (X_Gauss - iter_ans).norm())\n",
    "compare_result(rf'X^{({iter})}', iter_ans)\n"
   ]
  },
  {
   "cell_type": "code",
   "execution_count": 125,
   "metadata": {},
   "outputs": [
    {
     "name": "stdout",
     "output_type": "stream",
     "text": [
      "Априорная оценка: 3.3760250526350646\n"
     ]
    }
   ],
   "source": [
    "print('Априорная оценка:', apr_eval(k=iter))\n"
   ]
  },
  {
   "cell_type": "code",
   "execution_count": 126,
   "metadata": {},
   "outputs": [
    {
     "name": "stdout",
     "output_type": "stream",
     "text": [
      "Апостериорная оценка: 0.033294499575683284\n"
     ]
    }
   ],
   "source": [
    "def apostr_eval(\n",
    "    x_k: Matrix = iter_ans,\n",
    "    x_prev: Matrix = prev,\n",
    "    H: Matrix = H_D,\n",
    ") -> float:\n",
    "    return H.norm() / (1 - H.norm()) * (x_k - x_prev).norm()\n",
    "\n",
    "\n",
    "print('Апостериорная оценка:', apostr_eval(iter_ans, prev))\n"
   ]
  },
  {
   "cell_type": "code",
   "execution_count": 137,
   "metadata": {},
   "outputs": [
    {
     "data": {
      "text/markdown": [
       "$$ X^{24}_\\text{lust} = \\begin{pmatrix}\n",
       "0.7364908287384513\\\\\n",
       "-0.18683390422230925\\\\\n",
       "0.19213174612129377\\\\\n",
       "0.12436407350591616\n",
       "\\end{pmatrix} \\stackrel{?}{=} \\begin{pmatrix}\n",
       "0.744568846481772\\\\\n",
       "-0.1782564217484637\\\\\n",
       "0.19839972141909132\\\\\n",
       "0.13105068823793647\n",
       "\\end{pmatrix} =X^* $$"
      ],
      "text/plain": [
       "<IPython.core.display.Markdown object>"
      ]
     },
     "metadata": {},
     "output_type": "display_data"
    },
    {
     "data": {
      "text/markdown": [
       "$$ ||X^* - X^{24}_\\text{lust}||_\\infty= 0.008577482473845544 $$"
      ],
      "text/plain": [
       "<IPython.core.display.Markdown object>"
      ]
     },
     "metadata": {},
     "output_type": "display_data"
    }
   ],
   "source": [
    "def spec_radius(H: Matrix = H_D):\n",
    "    return max(np.absolute(np.linalg.eigvals(H)))\n",
    "\n",
    "rho = spec_radius(H_D)\n",
    "\n",
    "def luster_approx(x_k: Matrix = iter_ans, x_prev: Matrix = prev, rho: float = rho) -> Matrix:\n",
    "    return prev + (x_k - x_prev) / (1 - rho)\n",
    "\n",
    "X_luster = luster_approx()\n",
    "\n",
    "compare_result(rf'X^{({iter})}_\\text{{lust}}', X_luster)\n"
   ]
  }
 ],
 "metadata": {
  "kernelspec": {
   "display_name": "Python 3.9.13 64-bit (microsoft store)",
   "language": "python",
   "name": "python3"
  },
  "language_info": {
   "codemirror_mode": {
    "name": "ipython",
    "version": 3
   },
   "file_extension": ".py",
   "mimetype": "text/x-python",
   "name": "python",
   "nbconvert_exporter": "python",
   "pygments_lexer": "ipython3",
   "version": "3.9.13"
  },
  "orig_nbformat": 4,
  "vscode": {
   "interpreter": {
    "hash": "a5a87ee616be0254e3f1af9223138e3faeac65b2c9d91bc22a9fc5a4a8bd8eb0"
   }
  }
 },
 "nbformat": 4,
 "nbformat_minor": 2
}
