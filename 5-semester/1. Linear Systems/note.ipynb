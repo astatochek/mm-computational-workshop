{
 "cells": [
  {
   "cell_type": "markdown",
   "metadata": {},
   "source": [
    "# Задание 1. Прямые методы решения линейных систем"
   ]
  },
  {
   "cell_type": "code",
   "execution_count": 3,
   "metadata": {},
   "outputs": [],
   "source": [
    "from latexifier import latexify\n",
    "from IPython.display import display, Markdown\n",
    "import numpy as np\n",
    "from typing import Callable, List\n",
    "import warnings\n",
    "warnings.filterwarnings('ignore')"
   ]
  },
  {
   "cell_type": "code",
   "execution_count": 4,
   "metadata": {},
   "outputs": [],
   "source": [
    "class Matrix(np.ndarray):\n",
    "    \"\"\"extends np.ndarray\"\"\"\n",
    "\n",
    "    def __new__(cls, input_array):\n",
    "        obj = np.asarray(input_array).view(cls)\n",
    "        return obj\n",
    "\n",
    "    def inverse_rows(self, i: int, j: int):\n",
    "        \"\"\"Swaps i-th and j-th rows of a matrix\"\"\"\n",
    "        self[i], self[j] = self[j].copy(), self[i].copy()\n",
    "\n",
    "    def inverse_cols(self, i: int, j: int):\n",
    "        \"\"\"Swaps i-th and j-th columns of a matrix\"\"\"\n",
    "        self = self.transpose()\n",
    "        self.inverse_rows(i, j)\n",
    "        self = self.transpose()\n",
    "    \n",
    "    def tex(self) -> str:\n",
    "        \"\"\"Latexifies the matrix rounding up values up to 6 decimal values\"\"\"\n",
    "        return latexify(self)\n",
    "\n",
    "def append(M: np.ndarray, N: np.ndarray) -> Matrix:\n",
    "    \"\"\"Appends two numpy arrays with axis=1\"\"\"\n",
    "    return Matrix(np.append(arr=np.asarray(M), values=N, axis=1))\n",
    "\n",
    "def print_tex(*argv):\n",
    "    \"\"\"Displays a LaTex Markdown output\"\"\"\n",
    "    res = ' '.join(['$$'] + [arg for arg in argv] + ['$$'])\n",
    "    display(Markdown(res))\n",
    "\n",
    "def get_latex_column(arg: str, n: int) -> str:\n",
    "    \"\"\"Prepares a string with LaTex syntax for a columt of {arg} with indeces form 1 to {n}\"\"\"\n",
    "    res = [r\"\"\"\\begin{pmatrix}\"\"\", \"\\n\"]\n",
    "    for i in range(n):\n",
    "        line = arg + \"_{\" + str(i+1) + \"}\" + (r\"\\\\\" if i != n-1 else \"\") + \"\\n\"\n",
    "        res.append(line)\n",
    "    res.append(r\"\"\"\\end{pmatrix}\"\"\")\n",
    "    return ''.join(res)\n"
   ]
  },
  {
   "cell_type": "code",
   "execution_count": 5,
   "metadata": {},
   "outputs": [
    {
     "data": {
      "text/markdown": [
       "$$ \\begin{pmatrix}\n",
       "x_{1}\\\\\n",
       "x_{2}\\\\\n",
       "x_{3}\\\\\n",
       "x_{4}\\\\\n",
       "x_{5}\n",
       "\\end{pmatrix} \\begin{pmatrix}\n",
       "x_{1}\\\\\n",
       "x_{2}\\\\\n",
       "x_{3}\\\\\n",
       "x_{4}\\\\\n",
       "x_{5}\n",
       "\\end{pmatrix} $$"
      ],
      "text/plain": [
       "<IPython.core.display.Markdown object>"
      ]
     },
     "metadata": {},
     "output_type": "display_data"
    }
   ],
   "source": [
    "s = get_latex_column(\"x\", 5)\n",
    "print_tex(s, s)"
   ]
  },
  {
   "cell_type": "code",
   "execution_count": 8,
   "metadata": {},
   "outputs": [
    {
     "data": {
      "text/markdown": [
       "$$ A =  \\begin{pmatrix} 6.327071 & 8.743031 & 6.274022 & 7.278662 \\\\ 5.725189 & 8.179226 & 3.446954 & 2.075253 \\\\ 7.476220 & 3.153339 & 2.272707 & 7.062988 \\\\ 8.234709 & 6.151125 & 7.360045 & 1.590035 \\end{pmatrix} ,~~ B =  \\begin{pmatrix} 4.513907 \\\\ 3.705768 \\\\ 1.479898 \\\\ 5.155648 \\end{pmatrix} $$"
      ],
      "text/plain": [
       "<IPython.core.display.Markdown object>"
      ]
     },
     "metadata": {},
     "output_type": "display_data"
    },
    {
     "data": {
      "text/markdown": [
       "$$ \\begin{pmatrix} 6.327071 & 8.743031 & 6.274022 & 7.278662 \\\\ 5.725189 & 8.179226 & 3.446954 & 2.075253 \\\\ 7.476220 & 3.153339 & 2.272707 & 7.062988 \\\\ 8.234709 & 6.151125 & 7.360045 & 1.590035 \\end{pmatrix} \\begin{pmatrix}\n",
       "x_{1}\\\\\n",
       "x_{2}\\\\\n",
       "x_{3}\\\\\n",
       "x_{4}\n",
       "\\end{pmatrix} = \\begin{pmatrix} 4.513907 \\\\ 3.705768 \\\\ 1.479898 \\\\ 5.155648 \\end{pmatrix} $$"
      ],
      "text/plain": [
       "<IPython.core.display.Markdown object>"
      ]
     },
     "metadata": {},
     "output_type": "display_data"
    }
   ],
   "source": [
    "n = int(input()) # Размерность матрицы A\n",
    "A = Matrix(np.random.rand(n, n) * 10)\n",
    "B = Matrix(np.random.rand(n, 1) * 10)\n",
    "print_tex('A = ', A.tex(), ',~~', 'B = ', B.tex())\n",
    "print_tex(A.tex(), get_latex_column('x', n), '=', B.tex())"
   ]
  },
  {
   "cell_type": "markdown",
   "metadata": {},
   "source": [
    "### Решение методом Гаусса единственного деления"
   ]
  },
  {
   "cell_type": "code",
   "execution_count": 9,
   "metadata": {},
   "outputs": [
    {
     "data": {
      "text/markdown": [
       "$$ X^* =  \\begin{pmatrix}\n",
       "x^*_{1}\\\\\n",
       "x^*_{2}\\\\\n",
       "x^*_{3}\\\\\n",
       "x^*_{4}\n",
       "\\end{pmatrix} = \\begin{pmatrix} 0.071577 \\\\ 0.248118 \\\\ 0.438565 \\\\ -0.118131 \\end{pmatrix} $$"
      ],
      "text/plain": [
       "<IPython.core.display.Markdown object>"
      ]
     },
     "metadata": {},
     "output_type": "display_data"
    },
    {
     "data": {
      "text/markdown": [
       "$$ A \\times X^* =  \\begin{pmatrix} 6.327071 & 8.743031 & 6.274022 & 7.278662 \\\\ 5.725189 & 8.179226 & 3.446954 & 2.075253 \\\\ 7.476220 & 3.153339 & 2.272707 & 7.062988 \\\\ 8.234709 & 6.151125 & 7.360045 & 1.590035 \\end{pmatrix} \\begin{pmatrix} 0.071577 \\\\ 0.248118 \\\\ 0.438565 \\\\ -0.118131 \\end{pmatrix} = \\begin{pmatrix} 4.513907 \\\\ 3.705768 \\\\ 1.479898 \\\\ 5.155648 \\end{pmatrix} = B^* $$"
      ],
      "text/plain": [
       "<IPython.core.display.Markdown object>"
      ]
     },
     "metadata": {},
     "output_type": "display_data"
    },
    {
     "data": {
      "text/markdown": [
       "$$ B =  \\begin{pmatrix} 4.513907 \\\\ 3.705768 \\\\ 1.479898 \\\\ 5.155648 \\end{pmatrix} \\stackrel{?}{=} \\begin{pmatrix} 4.513907 \\\\ 3.705768 \\\\ 1.479898 \\\\ 5.155648 \\end{pmatrix} = B^* $$"
      ],
      "text/plain": [
       "<IPython.core.display.Markdown object>"
      ]
     },
     "metadata": {},
     "output_type": "display_data"
    },
    {
     "data": {
      "text/markdown": [
       "$$ |B - B^*| =  2.6645352591003757e-15 $$"
      ],
      "text/plain": [
       "<IPython.core.display.Markdown object>"
      ]
     },
     "metadata": {},
     "output_type": "display_data"
    }
   ],
   "source": [
    "def SingleGauss(A: Matrix, B: Matrix, n: int) -> Matrix:\n",
    "    A_ = A.copy()\n",
    "    B_ = B.copy()\n",
    "    X = [[0] for _ in range(n)]\n",
    "    for k in range(n):\n",
    "        for j in range(k+1, n):\n",
    "            d = A_[j][k] / A_[k][k]\n",
    "            for i in range(k, n):\n",
    "                A_[j][i] = A_[j][i] - d * A_[k][i]\n",
    "            B_[j] -= d * B_[k][0]\n",
    "    for k in range(n-1, -1, -1):\n",
    "        d = 0\n",
    "        for j in range(k, n):\n",
    "            s = A_[k][j] * X[j][0]\n",
    "            d += s\n",
    "        X[k][0] = (B_[k][0] - d) / A_[k][k]\n",
    "    return Matrix(np.array(X))\n",
    "\n",
    "\n",
    "X = SingleGauss(A, B, n)\n",
    "B_ = np.matmul(A, X)\n",
    "print_tex('X^* = ', get_latex_column(\"x^*\", n), '=', X.tex())\n",
    "print_tex(r'A \\times X^* = ', A.tex(), X.tex(), '=', B_.tex(), '= B^*')\n",
    "print_tex('B = ', B.tex(), r'\\stackrel{?}{=}', B_.tex(), '= B^*')\n",
    "print_tex(r'|B - B^*| = ', str(float(max(abs(B - B_)))))\n"
   ]
  }
 ],
 "metadata": {
  "kernelspec": {
   "display_name": "Python 3.9.13 64-bit (microsoft store)",
   "language": "python",
   "name": "python3"
  },
  "language_info": {
   "codemirror_mode": {
    "name": "ipython",
    "version": 3
   },
   "file_extension": ".py",
   "mimetype": "text/x-python",
   "name": "python",
   "nbconvert_exporter": "python",
   "pygments_lexer": "ipython3",
   "version": "3.9.13"
  },
  "orig_nbformat": 4,
  "vscode": {
   "interpreter": {
    "hash": "a5a87ee616be0254e3f1af9223138e3faeac65b2c9d91bc22a9fc5a4a8bd8eb0"
   }
  }
 },
 "nbformat": 4,
 "nbformat_minor": 2
}
