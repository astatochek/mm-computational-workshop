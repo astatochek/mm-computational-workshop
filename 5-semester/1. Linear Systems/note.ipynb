{
 "cells": [
  {
   "cell_type": "markdown",
   "metadata": {},
   "source": [
    "# Задание 1. Прямые методы решения линейных систем"
   ]
  },
  {
   "cell_type": "code",
   "execution_count": 1,
   "metadata": {},
   "outputs": [],
   "source": [
    "from latexifier import latexify\n",
    "from IPython.display import display, Markdown\n",
    "import numpy as np\n",
    "from typing import Callable, List, Tuple\n",
    "import warnings\n",
    "warnings.filterwarnings('ignore')"
   ]
  },
  {
   "cell_type": "code",
   "execution_count": 24,
   "metadata": {},
   "outputs": [],
   "source": [
    "class Matrix(np.ndarray):\n",
    "    \"\"\"extends np.ndarray\"\"\"\n",
    "\n",
    "    def __new__(cls, input_array):\n",
    "        obj = np.asarray(input_array).view(cls)\n",
    "        return obj\n",
    "\n",
    "    def inverse_rows(self, i: int, j: int):\n",
    "        \"\"\"Swaps i-th and j-th rows of a matrix\"\"\"\n",
    "        self[i], self[j] = self[j].copy(), self[i].copy()\n",
    "\n",
    "    def inverse_cols(self, i: int, j: int):\n",
    "        \"\"\"Swaps i-th and j-th columns of a matrix\"\"\"\n",
    "        self = self.transpose()\n",
    "        self.inverse_rows(i, j)\n",
    "        self = self.transpose()\n",
    "    \n",
    "    def tex(self) -> str:\n",
    "        \"\"\"Latexifies the matrix rounding up values up to 6 decimal values\"\"\"\n",
    "        return latexify(self)\n",
    "\n",
    "def append(M: np.ndarray, N: np.ndarray) -> Matrix:\n",
    "    \"\"\"Appends two numpy arrays with axis=1\"\"\"\n",
    "    return Matrix(np.append(arr=np.asarray(M), values=N, axis=1))\n",
    "\n",
    "def print_tex(*argv) -> None:\n",
    "    \"\"\"Displays a LaTex Markdown output\"\"\"\n",
    "    res = ' '.join(['$$'] + [arg for arg in argv] + ['$$'])\n",
    "    display(Markdown(res))\n",
    "\n",
    "def get_latex_column(arg: str, n: int) -> str:\n",
    "    \"\"\"Prepares a string with LaTex syntax for a column of {arg} with indeces form 1 to {n}\"\"\"\n",
    "    res = [r\"\"\"\\begin{pmatrix}\"\"\", \"\\n\"]\n",
    "    for i in range(n):\n",
    "        line = arg + \"_{\" + str(i+1) + \"}\" + (r\"\\\\\" if i != n-1 else \"\") + \"\\n\"\n",
    "        res.append(line)\n",
    "    res.append(r\"\"\"\\end{pmatrix}\"\"\")\n",
    "    return ''.join(res)\n",
    "\n",
    "def get_exact_column(col: Matrix, n: int) -> str:\n",
    "    \"\"\"Prepares a string with LaTex syntax for a column of {col} elements\"\"\"\n",
    "    res = [r\"\"\"\\begin{pmatrix}\"\"\", \"\\n\"]\n",
    "    for i in range(n):\n",
    "        line = str(float(col[i][0])) + (r\"\\\\\" if i != n-1 else \"\") + \"\\n\"\n",
    "        res.append(line)\n",
    "    res.append(r\"\"\"\\end{pmatrix}\"\"\")\n",
    "    return ''.join(res)\n",
    "\n",
    "def print_system_output(A: Matrix, B: Matrix, X: Matrix, n: int) -> None:\n",
    "    B_ = np.matmul(A, X)\n",
    "    print_tex('X^* = ', get_latex_column(\"x^*\", n), '=', X.tex())\n",
    "    print_tex(r'A \\times X^* = ', A.tex(), X.tex(), '=', B_.tex(), '= B^*')\n",
    "    print_tex('B = ', get_exact_column(B, n), r'\\stackrel{?}{=}', get_exact_column(B_, n), '= B^*')\n",
    "    print_tex(r'B - B^* = ', get_exact_column(B - B_, n))\n"
   ]
  },
  {
   "cell_type": "code",
   "execution_count": 3,
   "metadata": {},
   "outputs": [
    {
     "data": {
      "text/markdown": [
       "$$ \\begin{pmatrix}\n",
       "x_{1}\\\\\n",
       "x_{2}\\\\\n",
       "x_{3}\\\\\n",
       "x_{4}\\\\\n",
       "x_{5}\\\\\n",
       "x_{6}\n",
       "\\end{pmatrix} \\begin{pmatrix}\n",
       "x_{1}\\\\\n",
       "x_{2}\\\\\n",
       "x_{3}\\\\\n",
       "x_{4}\\\\\n",
       "x_{5}\\\\\n",
       "x_{6}\n",
       "\\end{pmatrix} $$"
      ],
      "text/plain": [
       "<IPython.core.display.Markdown object>"
      ]
     },
     "metadata": {},
     "output_type": "display_data"
    }
   ],
   "source": [
    "s = get_latex_column(\"x\", 6)\n",
    "print_tex(s, s)"
   ]
  },
  {
   "cell_type": "code",
   "execution_count": 7,
   "metadata": {},
   "outputs": [
    {
     "data": {
      "text/markdown": [
       "$$ A =  \\begin{pmatrix} 3.075671 & 7.985925 & 5.101466 & 4.084721 & 4.161815 \\\\ 1.604708 & 2.399418 & 4.038538 & 4.617231 & 8.351272 \\\\ 5.471106 & 6.244725 & 8.239714 & 4.990415 & 4.785699 \\\\ 9.225343 & 4.741391 & 9.378949 & 6.428078 & 5.937248 \\\\ 0.206587 & 9.518223 & 2.921500 & 6.723688 & 7.267771 \\end{pmatrix} ,~~ B =  \\begin{pmatrix} 7.532781 \\\\ 8.395154 \\\\ 7.402072 \\\\ 6.335163 \\\\ 5.678648 \\end{pmatrix} $$"
      ],
      "text/plain": [
       "<IPython.core.display.Markdown object>"
      ]
     },
     "metadata": {},
     "output_type": "display_data"
    },
    {
     "data": {
      "text/markdown": [
       "$$ \\begin{pmatrix} 3.075671 & 7.985925 & 5.101466 & 4.084721 & 4.161815 \\\\ 1.604708 & 2.399418 & 4.038538 & 4.617231 & 8.351272 \\\\ 5.471106 & 6.244725 & 8.239714 & 4.990415 & 4.785699 \\\\ 9.225343 & 4.741391 & 9.378949 & 6.428078 & 5.937248 \\\\ 0.206587 & 9.518223 & 2.921500 & 6.723688 & 7.267771 \\end{pmatrix} \\begin{pmatrix}\n",
       "x_{1}\\\\\n",
       "x_{2}\\\\\n",
       "x_{3}\\\\\n",
       "x_{4}\\\\\n",
       "x_{5}\n",
       "\\end{pmatrix} = \\begin{pmatrix} 7.532781 \\\\ 8.395154 \\\\ 7.402072 \\\\ 6.335163 \\\\ 5.678648 \\end{pmatrix} $$"
      ],
      "text/plain": [
       "<IPython.core.display.Markdown object>"
      ]
     },
     "metadata": {},
     "output_type": "display_data"
    }
   ],
   "source": [
    "n = int(input()) # Размерность матрицы A\n",
    "A = Matrix(np.random.rand(n, n) * 10)\n",
    "B = Matrix(np.random.rand(n, 1) * 10)\n",
    "print_tex('A = ', A.tex(), ',~~', 'B = ', B.tex())\n",
    "print_tex(A.tex(), get_latex_column('x', n), '=', B.tex())"
   ]
  },
  {
   "cell_type": "markdown",
   "metadata": {},
   "source": [
    "### Решение методом Гаусса единственного деления"
   ]
  },
  {
   "cell_type": "code",
   "execution_count": 25,
   "metadata": {},
   "outputs": [
    {
     "data": {
      "text/markdown": [
       "$$ X^* =  \\begin{pmatrix}\n",
       "x^*_{1}\\\\\n",
       "x^*_{2}\\\\\n",
       "x^*_{3}\\\\\n",
       "x^*_{4}\\\\\n",
       "x^*_{5}\n",
       "\\end{pmatrix} = \\begin{pmatrix} 0.292273 \\\\ 0.820207 \\\\ 0.567855 \\\\ -2.600989 \\\\ 1.876862 \\end{pmatrix} $$"
      ],
      "text/plain": [
       "<IPython.core.display.Markdown object>"
      ]
     },
     "metadata": {},
     "output_type": "display_data"
    },
    {
     "data": {
      "text/markdown": [
       "$$ A \\times X^* =  \\begin{pmatrix} 3.075671 & 7.985925 & 5.101466 & 4.084721 & 4.161815 \\\\ 1.604708 & 2.399418 & 4.038538 & 4.617231 & 8.351272 \\\\ 5.471106 & 6.244725 & 8.239714 & 4.990415 & 4.785699 \\\\ 9.225343 & 4.741391 & 9.378949 & 6.428078 & 5.937248 \\\\ 0.206587 & 9.518223 & 2.921500 & 6.723688 & 7.267771 \\end{pmatrix} \\begin{pmatrix} 0.292273 \\\\ 0.820207 \\\\ 0.567855 \\\\ -2.600989 \\\\ 1.876862 \\end{pmatrix} = \\begin{pmatrix} 7.532781 \\\\ 8.395154 \\\\ 7.402072 \\\\ 6.335163 \\\\ 5.678648 \\end{pmatrix} = B^* $$"
      ],
      "text/plain": [
       "<IPython.core.display.Markdown object>"
      ]
     },
     "metadata": {},
     "output_type": "display_data"
    },
    {
     "data": {
      "text/markdown": [
       "$$ B =  \\begin{pmatrix}\n",
       "7.532781400947558\\\\\n",
       "8.395153646790689\\\\\n",
       "7.402072215987003\\\\\n",
       "6.335162991184713\\\\\n",
       "5.678647791700553\n",
       "\\end{pmatrix} \\stackrel{?}{=} \\begin{pmatrix}\n",
       "7.532781400947559\\\\\n",
       "8.39515364679069\\\\\n",
       "7.4020722159870065\\\\\n",
       "6.335162991184713\\\\\n",
       "5.678647791700525\n",
       "\\end{pmatrix} = B^* $$"
      ],
      "text/plain": [
       "<IPython.core.display.Markdown object>"
      ]
     },
     "metadata": {},
     "output_type": "display_data"
    },
    {
     "data": {
      "text/markdown": [
       "$$ B - B^* =  \\begin{pmatrix}\n",
       "-8.881784197001252e-16\\\\\n",
       "-1.7763568394002505e-15\\\\\n",
       "-3.552713678800501e-15\\\\\n",
       "0.0\\\\\n",
       "2.7533531010703882e-14\n",
       "\\end{pmatrix} $$"
      ],
      "text/plain": [
       "<IPython.core.display.Markdown object>"
      ]
     },
     "metadata": {},
     "output_type": "display_data"
    }
   ],
   "source": [
    "def SingleGauss(A: Matrix, B: Matrix, n: int) -> Matrix:\n",
    "    A_ = A.copy()\n",
    "    B_ = B.copy()\n",
    "    X = [[0] for _ in range(n)]\n",
    "    for k in range(n):\n",
    "        for j in range(k+1, n):\n",
    "            d = A_[j][k] / A_[k][k]\n",
    "            for i in range(k, n):\n",
    "                A_[j][i] = A_[j][i] - d * A_[k][i]\n",
    "            B_[j] -= d * B_[k][0]\n",
    "    for k in range(n-1, -1, -1):\n",
    "        d = 0\n",
    "        for j in range(k, n):\n",
    "            s = A_[k][j] * X[j][0]\n",
    "            d += s\n",
    "        X[k][0] = (B_[k][0] - d) / A_[k][k]\n",
    "    return Matrix(np.array(X))\n",
    "\n",
    "\n",
    "print_system_output(A, B, SingleGauss(A, B, n), n)\n"
   ]
  },
  {
   "cell_type": "markdown",
   "metadata": {},
   "source": [
    "### Решение методом Гаусса с выбором главного элемента"
   ]
  },
  {
   "cell_type": "code",
   "execution_count": 26,
   "metadata": {},
   "outputs": [
    {
     "data": {
      "text/markdown": [
       "$$ X^* =  \\begin{pmatrix}\n",
       "x^*_{1}\\\\\n",
       "x^*_{2}\\\\\n",
       "x^*_{3}\\\\\n",
       "x^*_{4}\\\\\n",
       "x^*_{5}\n",
       "\\end{pmatrix} = \\begin{pmatrix} 0.292273 \\\\ 0.820207 \\\\ 0.567855 \\\\ -2.600989 \\\\ 1.876862 \\end{pmatrix} $$"
      ],
      "text/plain": [
       "<IPython.core.display.Markdown object>"
      ]
     },
     "metadata": {},
     "output_type": "display_data"
    },
    {
     "data": {
      "text/markdown": [
       "$$ A \\times X^* =  \\begin{pmatrix} 3.075671 & 7.985925 & 5.101466 & 4.084721 & 4.161815 \\\\ 1.604708 & 2.399418 & 4.038538 & 4.617231 & 8.351272 \\\\ 5.471106 & 6.244725 & 8.239714 & 4.990415 & 4.785699 \\\\ 9.225343 & 4.741391 & 9.378949 & 6.428078 & 5.937248 \\\\ 0.206587 & 9.518223 & 2.921500 & 6.723688 & 7.267771 \\end{pmatrix} \\begin{pmatrix} 0.292273 \\\\ 0.820207 \\\\ 0.567855 \\\\ -2.600989 \\\\ 1.876862 \\end{pmatrix} = \\begin{pmatrix} 7.532781 \\\\ 8.395154 \\\\ 7.402072 \\\\ 6.335163 \\\\ 5.678648 \\end{pmatrix} = B^* $$"
      ],
      "text/plain": [
       "<IPython.core.display.Markdown object>"
      ]
     },
     "metadata": {},
     "output_type": "display_data"
    },
    {
     "data": {
      "text/markdown": [
       "$$ B =  \\begin{pmatrix}\n",
       "7.532781400947558\\\\\n",
       "8.395153646790689\\\\\n",
       "7.402072215987003\\\\\n",
       "6.335162991184713\\\\\n",
       "5.678647791700553\n",
       "\\end{pmatrix} \\stackrel{?}{=} \\begin{pmatrix}\n",
       "7.532781400947558\\\\\n",
       "8.395153646790689\\\\\n",
       "7.402072215987001\\\\\n",
       "6.335162991184713\\\\\n",
       "5.678647791700554\n",
       "\\end{pmatrix} = B^* $$"
      ],
      "text/plain": [
       "<IPython.core.display.Markdown object>"
      ]
     },
     "metadata": {},
     "output_type": "display_data"
    },
    {
     "data": {
      "text/markdown": [
       "$$ B - B^* =  \\begin{pmatrix}\n",
       "0.0\\\\\n",
       "0.0\\\\\n",
       "1.7763568394002505e-15\\\\\n",
       "0.0\\\\\n",
       "-8.881784197001252e-16\n",
       "\\end{pmatrix} $$"
      ],
      "text/plain": [
       "<IPython.core.display.Markdown object>"
      ]
     },
     "metadata": {},
     "output_type": "display_data"
    }
   ],
   "source": [
    "def ModifiedGauss(A: Matrix, B: Matrix, n: int) -> Matrix:\n",
    "    AB = append(A, B)\n",
    "    X = [[0] for _ in range(n)]\n",
    "    for k in range(n):\n",
    "        p = k # главный элемент\n",
    "        for m in range(k+1, n):\n",
    "            if abs(AB[p][k]) < abs(AB[m][k]):\n",
    "                p = m # индекс строки, содержащей максимальный элемент в столбце\n",
    "        AB.inverse_rows(k, p) # перестановка строк\n",
    "        for m in range(k+1, n):\n",
    "            c = AB[m][k] / AB[k][k]\n",
    "            for i in range(n+1):\n",
    "                AB[m][i] -= c * AB[k][i]\n",
    "        X[n-1][0] = AB[n-1][n] / AB[n-1][n-1]\n",
    "        for k in range(n-1, -1, -1):\n",
    "            s = 0\n",
    "            for i in range(k+1, n):\n",
    "                s += AB[k][i] * X[i][0]\n",
    "            X[k][0] = (AB[k][n] - s) / AB[k][k]\n",
    "    return Matrix(np.array(X))\n",
    "\n",
    "print_system_output(A, B, ModifiedGauss(A, B, n), n)"
   ]
  },
  {
   "cell_type": "markdown",
   "metadata": {},
   "source": [
    "### Решение методом LU-разложения"
   ]
  },
  {
   "cell_type": "code",
   "execution_count": 20,
   "metadata": {},
   "outputs": [
    {
     "data": {
      "text/markdown": [
       "$$ L =  \\begin{pmatrix} 1 & 0 & 0 & 0 & 0 \\\\ 0.521742 & 1 & 0 & 0 & 0 \\\\ 1.778833 & 4.504871 & 1 & 0 & 0 \\\\ 2.999457 & 10.871606 & 2.968559 & 1 & 0 \\\\ 0.067168 & -5.082584 & -1.360824 & 0.104592 & 1 \\end{pmatrix} $$"
      ],
      "text/plain": [
       "<IPython.core.display.Markdown object>"
      ]
     },
     "metadata": {},
     "output_type": "display_data"
    },
    {
     "data": {
      "text/markdown": [
       "$$ U =  \\begin{pmatrix} 3.075671 & 7.985925 & 5.101466 & 4.084721 & 4.161815 \\\\ 0 & -1.767176 & 1.376888 & 2.486060 & 6.179878 \\\\ 0 & 0 & -7.037643 & -13.474999 & -30.457025 \\\\ 0 & 0 & 0 & 7.150000 & 16.682339 \\\\ 0 & 0 & 0 & 0 & -4.793507 \\end{pmatrix} $$"
      ],
      "text/plain": [
       "<IPython.core.display.Markdown object>"
      ]
     },
     "metadata": {},
     "output_type": "display_data"
    },
    {
     "data": {
      "text/markdown": [
       "$$ L \\times U =  \\begin{pmatrix} 3.075671 & 7.985925 & 5.101466 & 4.084721 & 4.161815 \\\\ 1.604708 & 2.399418 & 4.038538 & 4.617231 & 8.351272 \\\\ 5.471106 & 6.244725 & 8.239714 & 4.990415 & 4.785699 \\\\ 9.225343 & 4.741391 & 9.378949 & 6.428078 & 5.937248 \\\\ 0.206587 & 9.518223 & 2.921500 & 6.723688 & 7.267771 \\end{pmatrix} \\stackrel{?}{=} \\begin{pmatrix} 3.075671 & 7.985925 & 5.101466 & 4.084721 & 4.161815 \\\\ 1.604708 & 2.399418 & 4.038538 & 4.617231 & 8.351272 \\\\ 5.471106 & 6.244725 & 8.239714 & 4.990415 & 4.785699 \\\\ 9.225343 & 4.741391 & 9.378949 & 6.428078 & 5.937248 \\\\ 0.206587 & 9.518223 & 2.921500 & 6.723688 & 7.267771 \\end{pmatrix} = A $$"
      ],
      "text/plain": [
       "<IPython.core.display.Markdown object>"
      ]
     },
     "metadata": {},
     "output_type": "display_data"
    }
   ],
   "source": [
    "def GetLU(A: Matrix, n: int) -> Tuple[Matrix, Matrix]:\n",
    "    L = Matrix(np.zeros(shape=(n, n)))\n",
    "    U = A.copy()\n",
    "    for i in range(n):\n",
    "        for j in range(i, n):\n",
    "            L[j][i] = U[j][i] / U[i][i]\n",
    "    for k in range(1, n):\n",
    "        for i in range(k-1, n):\n",
    "            for j in range(i, n):\n",
    "                L[j][i] = U[j][i] / U[i][i]\n",
    "        for i in range(k, n):\n",
    "            for j in range(k-1, n):\n",
    "                U[i][j] = U[i][j] - L[i][k-1] * U[k-1][j]\n",
    "\n",
    "    return L, U\n",
    "\n",
    "L, U = GetLU(A, n)\n",
    "print_tex('L = ', L.tex())\n",
    "print_tex('U = ', U.tex())\n",
    "print_tex(r'L \\times U = ', (np.matmul(L, U)).tex(), r'\\stackrel{?}{=}', A.tex(), '= A')"
   ]
  },
  {
   "cell_type": "code",
   "execution_count": 27,
   "metadata": {},
   "outputs": [
    {
     "data": {
      "text/markdown": [
       "$$ X^* =  \\begin{pmatrix}\n",
       "x^*_{1}\\\\\n",
       "x^*_{2}\\\\\n",
       "x^*_{3}\\\\\n",
       "x^*_{4}\\\\\n",
       "x^*_{5}\n",
       "\\end{pmatrix} = \\begin{pmatrix} 0.292273 \\\\ 0.820207 \\\\ 0.567855 \\\\ -2.600989 \\\\ 1.876862 \\end{pmatrix} $$"
      ],
      "text/plain": [
       "<IPython.core.display.Markdown object>"
      ]
     },
     "metadata": {},
     "output_type": "display_data"
    },
    {
     "data": {
      "text/markdown": [
       "$$ A \\times X^* =  \\begin{pmatrix} 3.075671 & 7.985925 & 5.101466 & 4.084721 & 4.161815 \\\\ 1.604708 & 2.399418 & 4.038538 & 4.617231 & 8.351272 \\\\ 5.471106 & 6.244725 & 8.239714 & 4.990415 & 4.785699 \\\\ 9.225343 & 4.741391 & 9.378949 & 6.428078 & 5.937248 \\\\ 0.206587 & 9.518223 & 2.921500 & 6.723688 & 7.267771 \\end{pmatrix} \\begin{pmatrix} 0.292273 \\\\ 0.820207 \\\\ 0.567855 \\\\ -2.600989 \\\\ 1.876862 \\end{pmatrix} = \\begin{pmatrix} 7.532781 \\\\ 8.395154 \\\\ 7.402072 \\\\ 6.335163 \\\\ 5.678648 \\end{pmatrix} = B^* $$"
      ],
      "text/plain": [
       "<IPython.core.display.Markdown object>"
      ]
     },
     "metadata": {},
     "output_type": "display_data"
    },
    {
     "data": {
      "text/markdown": [
       "$$ B =  \\begin{pmatrix}\n",
       "7.532781400947558\\\\\n",
       "8.395153646790689\\\\\n",
       "7.402072215987003\\\\\n",
       "6.335162991184713\\\\\n",
       "5.678647791700553\n",
       "\\end{pmatrix} \\stackrel{?}{=} \\begin{pmatrix}\n",
       "7.532781400947558\\\\\n",
       "8.395153646790689\\\\\n",
       "7.402072215987002\\\\\n",
       "6.335162991184699\\\\\n",
       "5.678647791700532\n",
       "\\end{pmatrix} = B^* $$"
      ],
      "text/plain": [
       "<IPython.core.display.Markdown object>"
      ]
     },
     "metadata": {},
     "output_type": "display_data"
    },
    {
     "data": {
      "text/markdown": [
       "$$ B - B^* =  \\begin{pmatrix}\n",
       "0.0\\\\\n",
       "0.0\\\\\n",
       "8.881784197001252e-16\\\\\n",
       "1.4210854715202004e-14\\\\\n",
       "2.1316282072803006e-14\n",
       "\\end{pmatrix} $$"
      ],
      "text/plain": [
       "<IPython.core.display.Markdown object>"
      ]
     },
     "metadata": {},
     "output_type": "display_data"
    }
   ],
   "source": [
    "Y_ = SingleGauss(L, B, n)\n",
    "X_ = SingleGauss(U, Y_, n)\n",
    "print_system_output(A, B, X_, n)"
   ]
  }
 ],
 "metadata": {
  "kernelspec": {
   "display_name": "Python 3.9.13 64-bit (microsoft store)",
   "language": "python",
   "name": "python3"
  },
  "language_info": {
   "codemirror_mode": {
    "name": "ipython",
    "version": 3
   },
   "file_extension": ".py",
   "mimetype": "text/x-python",
   "name": "python",
   "nbconvert_exporter": "python",
   "pygments_lexer": "ipython3",
   "version": "3.9.13"
  },
  "orig_nbformat": 4,
  "vscode": {
   "interpreter": {
    "hash": "a5a87ee616be0254e3f1af9223138e3faeac65b2c9d91bc22a9fc5a4a8bd8eb0"
   }
  }
 },
 "nbformat": 4,
 "nbformat_minor": 2
}
