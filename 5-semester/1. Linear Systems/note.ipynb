{
 "cells": [
  {
   "cell_type": "markdown",
   "metadata": {},
   "source": [
    "# Задание 1. Прямые методы решения линейных систем"
   ]
  },
  {
   "cell_type": "code",
   "execution_count": 1,
   "metadata": {},
   "outputs": [],
   "source": [
    "from latexifier import latexify\n",
    "from IPython.display import display, Markdown\n",
    "import numpy as np\n",
    "from typing import Callable, List, Tuple\n",
    "import warnings\n",
    "warnings.filterwarnings('ignore')"
   ]
  },
  {
   "cell_type": "code",
   "execution_count": 21,
   "metadata": {},
   "outputs": [],
   "source": [
    "class Matrix(np.ndarray):\n",
    "    \"\"\"extends np.ndarray\"\"\"\n",
    "\n",
    "    def __new__(cls, input_array):\n",
    "        obj = np.asarray(input_array).view(cls)\n",
    "        return obj\n",
    "\n",
    "    def inverse_rows(self, i: int, j: int):\n",
    "        \"\"\"Swaps i-th and j-th rows of a matrix\"\"\"\n",
    "        self[i], self[j] = self[j].copy(), self[i].copy()\n",
    "\n",
    "    def inverse_cols(self, i: int, j: int):\n",
    "        \"\"\"Swaps i-th and j-th columns of a matrix\"\"\"\n",
    "        self = self.transpose()\n",
    "        self.inverse_rows(i, j)\n",
    "        self = self.transpose()\n",
    "    \n",
    "    def tex(self) -> str:\n",
    "        \"\"\"Latexifies the matrix rounding up values up to 6 decimal values\"\"\"\n",
    "        return latexify(self)\n",
    "\n",
    "def append(M: np.ndarray, N: np.ndarray) -> Matrix:\n",
    "    \"\"\"Appends two numpy arrays with axis=1\"\"\"\n",
    "    return Matrix(np.append(arr=np.asarray(M), values=N, axis=1))\n",
    "\n",
    "def print_tex(*argv) -> None:\n",
    "    \"\"\"Displays a LaTex Markdown output\"\"\"\n",
    "    res = ' '.join(['$$'] + [arg for arg in argv] + ['$$'])\n",
    "    display(Markdown(res))\n",
    "\n",
    "def get_latex_column(arg: str, n: int) -> str:\n",
    "    \"\"\"Prepares a string with LaTex syntax for a column of {arg} with indeces form 1 to {n}\"\"\"\n",
    "    res = [r\"\"\"\\begin{pmatrix}\"\"\", \"\\n\"]\n",
    "    for i in range(n):\n",
    "        line = arg + \"_{\" + str(i+1) + \"}\" + (r\"\\\\\" if i != n-1 else \"\") + \"\\n\"\n",
    "        res.append(line)\n",
    "    res.append(r\"\"\"\\end{pmatrix}\"\"\")\n",
    "    return ''.join(res)\n",
    "\n",
    "def get_exact_column(col: Matrix, n: int) -> str:\n",
    "    \"\"\"Prepares a string with LaTex syntax for a column of {col} elements\"\"\"\n",
    "    res = [r\"\"\"\\begin{pmatrix}\"\"\", \"\\n\"]\n",
    "    for i in range(n):\n",
    "        line = str(float(col[i][0])) + (r\"\\\\\" if i != n-1 else \"\") + \"\\n\"\n",
    "        res.append(line)\n",
    "    res.append(r\"\"\"\\end{pmatrix}\"\"\")\n",
    "    return ''.join(res)\n",
    "\n",
    "def print_system_output(A: Matrix, s: str, B: Matrix, X: Matrix, n: int) -> None:\n",
    "    \"\"\"Oupputs the result of solving a linear equation\"\"\"\n",
    "    B_ = np.matmul(A, X)\n",
    "    print_tex('X^* = ', get_latex_column(\"x^*\", n), '=', X.tex())\n",
    "    print_tex(rf'{s} \\times X^* = ', A.tex(), X.tex(), '=', B_.tex(), '= B^*')\n",
    "    print_tex('B = ', get_exact_column(B, n), r'\\stackrel{?}{=}', get_exact_column(B_, n), '= B^*')\n",
    "    print_tex(r'B - B^* = ', get_exact_column(B - B_, n))\n"
   ]
  },
  {
   "cell_type": "code",
   "execution_count": 22,
   "metadata": {},
   "outputs": [
    {
     "data": {
      "text/markdown": [
       "$$ A =  \\begin{pmatrix} 5.988915 & 4.968483 & 7.083306 & 4.713851 \\\\ 8.602662 & 8.049889 & 3.390708 & 9.516544 \\\\ 2.104577 & 3.913465 & 3.731426 & 2.221286 \\\\ 7.363161 & 9.628132 & 3.522629 & 0.888161 \\end{pmatrix} ,~~ B =  \\begin{pmatrix} 4.065893 \\\\ 5.296216 \\\\ 0.557822 \\\\ 0.179319 \\end{pmatrix} $$"
      ],
      "text/plain": [
       "<IPython.core.display.Markdown object>"
      ]
     },
     "metadata": {},
     "output_type": "display_data"
    },
    {
     "data": {
      "text/markdown": [
       "$$ \\begin{pmatrix} 5.988915 & 4.968483 & 7.083306 & 4.713851 \\\\ 8.602662 & 8.049889 & 3.390708 & 9.516544 \\\\ 2.104577 & 3.913465 & 3.731426 & 2.221286 \\\\ 7.363161 & 9.628132 & 3.522629 & 0.888161 \\end{pmatrix} \\begin{pmatrix}\n",
       "x_{1}\\\\\n",
       "x_{2}\\\\\n",
       "x_{3}\\\\\n",
       "x_{4}\n",
       "\\end{pmatrix} = \\begin{pmatrix} 4.065893 \\\\ 5.296216 \\\\ 0.557822 \\\\ 0.179319 \\end{pmatrix} $$"
      ],
      "text/plain": [
       "<IPython.core.display.Markdown object>"
      ]
     },
     "metadata": {},
     "output_type": "display_data"
    }
   ],
   "source": [
    "n = int(input()) # Размерность матрицы A\n",
    "A = Matrix(np.random.rand(n, n) * 10)\n",
    "B = Matrix(np.random.rand(n, 1) * 10)\n",
    "print_tex('A = ', A.tex(), ',~~', 'B = ', B.tex())\n",
    "print_tex(A.tex(), get_latex_column('x', n), '=', B.tex())"
   ]
  },
  {
   "cell_type": "markdown",
   "metadata": {},
   "source": [
    "### Решение методом Гаусса единственного деления"
   ]
  },
  {
   "cell_type": "code",
   "execution_count": 23,
   "metadata": {},
   "outputs": [
    {
     "data": {
      "text/markdown": [
       "$$ X^* =  \\begin{pmatrix}\n",
       "x^*_{1}\\\\\n",
       "x^*_{2}\\\\\n",
       "x^*_{3}\\\\\n",
       "x^*_{4}\n",
       "\\end{pmatrix} = \\begin{pmatrix} 0.678300 \\\\ -0.593793 \\\\ 0.157882 \\\\ 0.389392 \\end{pmatrix} $$"
      ],
      "text/plain": [
       "<IPython.core.display.Markdown object>"
      ]
     },
     "metadata": {},
     "output_type": "display_data"
    },
    {
     "data": {
      "text/markdown": [
       "$$ A \\times X^* =  \\begin{pmatrix} 5.988915 & 4.968483 & 7.083306 & 4.713851 \\\\ 8.602662 & 8.049889 & 3.390708 & 9.516544 \\\\ 2.104577 & 3.913465 & 3.731426 & 2.221286 \\\\ 7.363161 & 9.628132 & 3.522629 & 0.888161 \\end{pmatrix} \\begin{pmatrix} 0.678300 \\\\ -0.593793 \\\\ 0.157882 \\\\ 0.389392 \\end{pmatrix} = \\begin{pmatrix} 4.065893 \\\\ 5.296216 \\\\ 0.557822 \\\\ 0.179319 \\end{pmatrix} = B^* $$"
      ],
      "text/plain": [
       "<IPython.core.display.Markdown object>"
      ]
     },
     "metadata": {},
     "output_type": "display_data"
    },
    {
     "data": {
      "text/markdown": [
       "$$ B =  \\begin{pmatrix}\n",
       "4.065893270275645\\\\\n",
       "5.296215905463411\\\\\n",
       "0.5578220990686966\\\\\n",
       "0.17931857867458878\n",
       "\\end{pmatrix} \\stackrel{?}{=} \\begin{pmatrix}\n",
       "4.065893270275646\\\\\n",
       "5.296215905463411\\\\\n",
       "0.5578220990686975\\\\\n",
       "0.17931857867458945\n",
       "\\end{pmatrix} = B^* $$"
      ],
      "text/plain": [
       "<IPython.core.display.Markdown object>"
      ]
     },
     "metadata": {},
     "output_type": "display_data"
    },
    {
     "data": {
      "text/markdown": [
       "$$ B - B^* =  \\begin{pmatrix}\n",
       "-8.881784197001252e-16\\\\\n",
       "0.0\\\\\n",
       "-8.881784197001252e-16\\\\\n",
       "-6.661338147750939e-16\n",
       "\\end{pmatrix} $$"
      ],
      "text/plain": [
       "<IPython.core.display.Markdown object>"
      ]
     },
     "metadata": {},
     "output_type": "display_data"
    }
   ],
   "source": [
    "def SingleGauss(A: Matrix, B: Matrix, n: int) -> Matrix:\n",
    "    A_ = A.copy()\n",
    "    B_ = B.copy()\n",
    "    X = [[0] for _ in range(n)]\n",
    "    for k in range(n):\n",
    "        for j in range(k+1, n):\n",
    "            d = A_[j][k] / A_[k][k]\n",
    "            for i in range(k, n):\n",
    "                A_[j][i] = A_[j][i] - d * A_[k][i]\n",
    "            B_[j] -= d * B_[k][0]\n",
    "    for k in range(n-1, -1, -1):\n",
    "        d = 0\n",
    "        for j in range(k, n):\n",
    "            s = A_[k][j] * X[j][0]\n",
    "            d += s\n",
    "        X[k][0] = (B_[k][0] - d) / A_[k][k]\n",
    "    return Matrix(np.array(X))\n",
    "\n",
    "\n",
    "print_system_output(A, 'A', B, SingleGauss(A, B, n), n)\n"
   ]
  },
  {
   "cell_type": "markdown",
   "metadata": {},
   "source": [
    "### Решение методом Гаусса с выбором главного элемента"
   ]
  },
  {
   "cell_type": "code",
   "execution_count": 24,
   "metadata": {},
   "outputs": [
    {
     "data": {
      "text/markdown": [
       "$$ X^* =  \\begin{pmatrix}\n",
       "x^*_{1}\\\\\n",
       "x^*_{2}\\\\\n",
       "x^*_{3}\\\\\n",
       "x^*_{4}\n",
       "\\end{pmatrix} = \\begin{pmatrix} 0.678300 \\\\ -0.593793 \\\\ 0.157882 \\\\ 0.389392 \\end{pmatrix} $$"
      ],
      "text/plain": [
       "<IPython.core.display.Markdown object>"
      ]
     },
     "metadata": {},
     "output_type": "display_data"
    },
    {
     "data": {
      "text/markdown": [
       "$$ A \\times X^* =  \\begin{pmatrix} 5.988915 & 4.968483 & 7.083306 & 4.713851 \\\\ 8.602662 & 8.049889 & 3.390708 & 9.516544 \\\\ 2.104577 & 3.913465 & 3.731426 & 2.221286 \\\\ 7.363161 & 9.628132 & 3.522629 & 0.888161 \\end{pmatrix} \\begin{pmatrix} 0.678300 \\\\ -0.593793 \\\\ 0.157882 \\\\ 0.389392 \\end{pmatrix} = \\begin{pmatrix} 4.065893 \\\\ 5.296216 \\\\ 0.557822 \\\\ 0.179319 \\end{pmatrix} = B^* $$"
      ],
      "text/plain": [
       "<IPython.core.display.Markdown object>"
      ]
     },
     "metadata": {},
     "output_type": "display_data"
    },
    {
     "data": {
      "text/markdown": [
       "$$ B =  \\begin{pmatrix}\n",
       "4.065893270275645\\\\\n",
       "5.296215905463411\\\\\n",
       "0.5578220990686966\\\\\n",
       "0.17931857867458878\n",
       "\\end{pmatrix} \\stackrel{?}{=} \\begin{pmatrix}\n",
       "4.065893270275646\\\\\n",
       "5.296215905463411\\\\\n",
       "0.5578220990686966\\\\\n",
       "0.17931857867458856\n",
       "\\end{pmatrix} = B^* $$"
      ],
      "text/plain": [
       "<IPython.core.display.Markdown object>"
      ]
     },
     "metadata": {},
     "output_type": "display_data"
    },
    {
     "data": {
      "text/markdown": [
       "$$ B - B^* =  \\begin{pmatrix}\n",
       "-8.881784197001252e-16\\\\\n",
       "0.0\\\\\n",
       "0.0\\\\\n",
       "2.220446049250313e-16\n",
       "\\end{pmatrix} $$"
      ],
      "text/plain": [
       "<IPython.core.display.Markdown object>"
      ]
     },
     "metadata": {},
     "output_type": "display_data"
    }
   ],
   "source": [
    "def ModifiedGauss(A: Matrix, B: Matrix, n: int) -> Matrix:\n",
    "    AB = append(A, B)\n",
    "    X = [[0] for _ in range(n)]\n",
    "    for k in range(n):\n",
    "        j = k\n",
    "        for i in range(k+1, n):\n",
    "            if abs(AB[j][k]) < abs(AB[i][k]):\n",
    "                j = i\n",
    "        AB.inverse_rows(k, j)\n",
    "        for j in range(k+1, n):\n",
    "            c = AB[j][k] / AB[k][k]\n",
    "            for i in range(n+1):\n",
    "                AB[j][i] -= c * AB[k][i]\n",
    "        X[n-1][0] = AB[n-1][n] / AB[n-1][n-1]\n",
    "        for k in range(n-1, -1, -1):\n",
    "            s = 0\n",
    "            for i in range(k+1, n):\n",
    "                s += AB[k][i] * X[i][0]\n",
    "            X[k][0] = (AB[k][n] - s) / AB[k][k]\n",
    "    return Matrix(np.array(X))\n",
    "\n",
    "print_system_output(A, 'A', B, ModifiedGauss(A, B, n), n)"
   ]
  },
  {
   "cell_type": "markdown",
   "metadata": {},
   "source": [
    "### Решение методом $LU$-разложения"
   ]
  },
  {
   "cell_type": "code",
   "execution_count": 25,
   "metadata": {},
   "outputs": [
    {
     "data": {
      "text/markdown": [
       "$$ L =  \\begin{pmatrix} 5.988915 & 0 & 0 & 0 \\\\ 8.602662 & 0.913006 & 0 & 0 \\\\ 2.104577 & 2.167480 & 17.347444 & 0 \\\\ 7.363161 & 3.519556 & 20.965554 & -8.296277 \\end{pmatrix} $$"
      ],
      "text/plain": [
       "<IPython.core.display.Markdown object>"
      ]
     },
     "metadata": {},
     "output_type": "display_data"
    },
    {
     "data": {
      "text/markdown": [
       "$$ U =  \\begin{pmatrix} 1 & 0.829613 & 1.182736 & 0.787096 \\\\ 0 & 1 & -7.430370 & 3.007015 \\\\ 0 & 0 & 1 & -0.343155 \\\\ 0 & 0 & 0 & 1 \\end{pmatrix} $$"
      ],
      "text/plain": [
       "<IPython.core.display.Markdown object>"
      ]
     },
     "metadata": {},
     "output_type": "display_data"
    },
    {
     "data": {
      "text/markdown": [
       "$$ L \\times U =  \\begin{pmatrix} 5.988915 & 4.968483 & 7.083306 & 4.713851 \\\\ 8.602662 & 8.049889 & 3.390708 & 9.516544 \\\\ 2.104577 & 3.913465 & 3.731426 & 2.221286 \\\\ 7.363161 & 9.628132 & 3.522629 & 0.888161 \\end{pmatrix} \\stackrel{?}{=} \\begin{pmatrix} 5.988915 & 4.968483 & 7.083306 & 4.713851 \\\\ 8.602662 & 8.049889 & 3.390708 & 9.516544 \\\\ 2.104577 & 3.913465 & 3.731426 & 2.221286 \\\\ 7.363161 & 9.628132 & 3.522629 & 0.888161 \\end{pmatrix} = A $$"
      ],
      "text/plain": [
       "<IPython.core.display.Markdown object>"
      ]
     },
     "metadata": {},
     "output_type": "display_data"
    }
   ],
   "source": [
    "def GetLU(A: Matrix, n: int) -> Tuple[Matrix, Matrix]:\n",
    "    L = Matrix(np.zeros((n, n)))\n",
    "    U = Matrix(np.identity(n))\n",
    "    for i in range(n):\n",
    "        for j in range(i, n):\n",
    "            s = 0\n",
    "            for k in range(i):\n",
    "                s += L[j][k] * U[k][i]\n",
    "            L[j][i] = A[j][i] - s\n",
    "        for j in range(i, n):\n",
    "            s = 0\n",
    "            for k in range(i):\n",
    "                s += L[i][k] * U[k][j]\n",
    "            U[i][j] = (A[i][j] - s) / L[i][i]\n",
    "    return L, U\n",
    "\n",
    "L, U = GetLU(A, n)\n",
    "print_tex('L = ', L.tex())\n",
    "print_tex('U = ', U.tex())\n",
    "print_tex(r'L \\times U = ', (np.matmul(L, U)).tex(), r'\\stackrel{?}{=}', A.tex(), '= A')"
   ]
  },
  {
   "cell_type": "code",
   "execution_count": 26,
   "metadata": {},
   "outputs": [
    {
     "data": {
      "text/markdown": [
       "$$ X^* =  \\begin{pmatrix}\n",
       "x^*_{1}\\\\\n",
       "x^*_{2}\\\\\n",
       "x^*_{3}\\\\\n",
       "x^*_{4}\n",
       "\\end{pmatrix} = \\begin{pmatrix} 0.678300 \\\\ -0.593793 \\\\ 0.157882 \\\\ 0.389392 \\end{pmatrix} $$"
      ],
      "text/plain": [
       "<IPython.core.display.Markdown object>"
      ]
     },
     "metadata": {},
     "output_type": "display_data"
    },
    {
     "data": {
      "text/markdown": [
       "$$ A \\times X^* =  \\begin{pmatrix} 5.988915 & 4.968483 & 7.083306 & 4.713851 \\\\ 8.602662 & 8.049889 & 3.390708 & 9.516544 \\\\ 2.104577 & 3.913465 & 3.731426 & 2.221286 \\\\ 7.363161 & 9.628132 & 3.522629 & 0.888161 \\end{pmatrix} \\begin{pmatrix} 0.678300 \\\\ -0.593793 \\\\ 0.157882 \\\\ 0.389392 \\end{pmatrix} = \\begin{pmatrix} 4.065893 \\\\ 5.296216 \\\\ 0.557822 \\\\ 0.179319 \\end{pmatrix} = B^* $$"
      ],
      "text/plain": [
       "<IPython.core.display.Markdown object>"
      ]
     },
     "metadata": {},
     "output_type": "display_data"
    },
    {
     "data": {
      "text/markdown": [
       "$$ B =  \\begin{pmatrix}\n",
       "4.065893270275645\\\\\n",
       "5.296215905463411\\\\\n",
       "0.5578220990686966\\\\\n",
       "0.17931857867458878\n",
       "\\end{pmatrix} \\stackrel{?}{=} \\begin{pmatrix}\n",
       "4.065893270275645\\\\\n",
       "5.296215905463411\\\\\n",
       "0.5578220990686966\\\\\n",
       "0.17931857867458767\n",
       "\\end{pmatrix} = B^* $$"
      ],
      "text/plain": [
       "<IPython.core.display.Markdown object>"
      ]
     },
     "metadata": {},
     "output_type": "display_data"
    },
    {
     "data": {
      "text/markdown": [
       "$$ B - B^* =  \\begin{pmatrix}\n",
       "0.0\\\\\n",
       "0.0\\\\\n",
       "0.0\\\\\n",
       "1.1102230246251565e-15\n",
       "\\end{pmatrix} $$"
      ],
      "text/plain": [
       "<IPython.core.display.Markdown object>"
      ]
     },
     "metadata": {},
     "output_type": "display_data"
    }
   ],
   "source": [
    "Y_ = SingleGauss(L, B, n)\n",
    "X_ = SingleGauss(U, Y_, n)\n",
    "print_system_output(A, 'A', B, X_, n)"
   ]
  },
  {
   "cell_type": "markdown",
   "metadata": {},
   "source": [
    "### Нахождение обратной к матрице $A$"
   ]
  },
  {
   "cell_type": "code",
   "execution_count": 27,
   "metadata": {},
   "outputs": [
    {
     "data": {
      "text/markdown": [
       "$$ A^{-1} =  \\begin{pmatrix} 0.236721 & 0.000113 & -0.542049 & 0.098071 \\\\ -0.229497 & 0.024104 & 0.361717 & 0.055115 \\\\ 0.151037 & -0.096077 & 0.107635 & -0.041363 \\\\ -0.073675 & 0.118820 & 0.145676 & -0.120536 \\end{pmatrix} $$"
      ],
      "text/plain": [
       "<IPython.core.display.Markdown object>"
      ]
     },
     "metadata": {},
     "output_type": "display_data"
    },
    {
     "data": {
      "text/markdown": [
       "$$ A \\times A^{-1} =  \\begin{pmatrix} 1 & 0 & 0 & 0 \\\\ 0 & 1 & 0 & 0 \\\\ 0 & 0 & 1 & 0 \\\\ 0 & 0 & 0 & 1 \\end{pmatrix} $$"
      ],
      "text/plain": [
       "<IPython.core.display.Markdown object>"
      ]
     },
     "metadata": {},
     "output_type": "display_data"
    },
    {
     "data": {
      "text/markdown": [
       "$$ ||A||_1 * ||A^{-1}||_1 =  30.731924037945404 $$"
      ],
      "text/plain": [
       "<IPython.core.display.Markdown object>"
      ]
     },
     "metadata": {},
     "output_type": "display_data"
    }
   ],
   "source": [
    "def inverse(A: Matrix, n: int) -> Matrix:\n",
    "    R = Matrix(np.zeros(shape=(n, 1)))\n",
    "    A_ = Matrix(np.zeros(shape=(n, n)))\n",
    "    for i in range(n):\n",
    "        R[i][0] = 1.\n",
    "        S = SingleGauss(A, R, n)\n",
    "        for j in range(n):\n",
    "            A_[j][i] = S[j][0]\n",
    "        R[i][0] = 0\n",
    "    return A_\n",
    "\n",
    "A_ = inverse(A, n)\n",
    "print_tex(r'A^{-1} = ', A_.tex())\n",
    "print_tex(r'A \\times A^{-1} = ', (np.matmul(A, A_)).tex())\n",
    "\n",
    "def norm(M: Matrix) -> float:\n",
    "    return max([sum([abs(M[i][j]) for i in range(n)]) for j in range(n)])\n",
    "\n",
    "print_tex(r'||A||_1 * ||A^{-1}||_1 = ', str(norm(A) * norm(A_)))\n"
   ]
  },
  {
   "cell_type": "markdown",
   "metadata": {},
   "source": [
    "### Решение системы в случае $Cx=b~:~c_{11}=10^{-8}a_{11}, c_{ij}=a_{ij}~\\forall i,j~:~(i,j)\\ne(1,1)$"
   ]
  },
  {
   "cell_type": "code",
   "execution_count": 28,
   "metadata": {},
   "outputs": [
    {
     "data": {
      "text/markdown": [
       "$$ A= \\begin{pmatrix} 5.988915 & 4.968483 & 7.083306 & 4.713851 \\\\ 8.602662 & 8.049889 & 3.390708 & 9.516544 \\\\ 2.104577 & 3.913465 & 3.731426 & 2.221286 \\\\ 7.363161 & 9.628132 & 3.522629 & 0.888161 \\end{pmatrix} $$"
      ],
      "text/plain": [
       "<IPython.core.display.Markdown object>"
      ]
     },
     "metadata": {},
     "output_type": "display_data"
    },
    {
     "data": {
      "text/markdown": [
       "$$ C= \\begin{pmatrix} 0.000000 & 4.968483 & 7.083306 & 4.713851 \\\\ 8.602662 & 8.049889 & 3.390708 & 9.516544 \\\\ 2.104577 & 3.913465 & 3.731426 & 2.221286 \\\\ 7.363161 & 9.628132 & 3.522629 & 0.888161 \\end{pmatrix} $$"
      ],
      "text/plain": [
       "<IPython.core.display.Markdown object>"
      ]
     },
     "metadata": {},
     "output_type": "display_data"
    }
   ],
   "source": [
    "C = A.copy()\n",
    "C[0][0] *= 1.e-8\n",
    "print_tex('A=', A.tex())\n",
    "print_tex('C=', C.tex())"
   ]
  },
  {
   "cell_type": "code",
   "execution_count": 33,
   "metadata": {},
   "outputs": [
    {
     "data": {
      "text/markdown": [
       "$$ X^* =  \\begin{pmatrix}\n",
       "x^*_{1}\\\\\n",
       "x^*_{2}\\\\\n",
       "x^*_{3}\\\\\n",
       "x^*_{4}\n",
       "\\end{pmatrix} = \\begin{pmatrix} -1.623886 \\\\ 1.638137 \\\\ -1.311000 \\\\ 1.105901 \\end{pmatrix} $$"
      ],
      "text/plain": [
       "<IPython.core.display.Markdown object>"
      ]
     },
     "metadata": {},
     "output_type": "display_data"
    },
    {
     "data": {
      "text/markdown": [
       "$$ C \\times X^* =  \\begin{pmatrix} 0.000000 & 4.968483 & 7.083306 & 4.713851 \\\\ 8.602662 & 8.049889 & 3.390708 & 9.516544 \\\\ 2.104577 & 3.913465 & 3.731426 & 2.221286 \\\\ 7.363161 & 9.628132 & 3.522629 & 0.888161 \\end{pmatrix} \\begin{pmatrix} -1.623886 \\\\ 1.638137 \\\\ -1.311000 \\\\ 1.105901 \\end{pmatrix} = \\begin{pmatrix} 4.065893 \\\\ 5.296216 \\\\ 0.557822 \\\\ 0.179319 \\end{pmatrix} = B^* $$"
      ],
      "text/plain": [
       "<IPython.core.display.Markdown object>"
      ]
     },
     "metadata": {},
     "output_type": "display_data"
    },
    {
     "data": {
      "text/markdown": [
       "$$ B =  \\begin{pmatrix}\n",
       "4.065893270275645\\\\\n",
       "5.296215905463411\\\\\n",
       "0.5578220990686966\\\\\n",
       "0.17931857867458878\n",
       "\\end{pmatrix} \\stackrel{?}{=} \\begin{pmatrix}\n",
       "4.0658932702756445\\\\\n",
       "5.296215674480376\\\\\n",
       "0.5578220901160105\\\\\n",
       "0.17931873088917882\n",
       "\\end{pmatrix} = B^* $$"
      ],
      "text/plain": [
       "<IPython.core.display.Markdown object>"
      ]
     },
     "metadata": {},
     "output_type": "display_data"
    },
    {
     "data": {
      "text/markdown": [
       "$$ B - B^* =  \\begin{pmatrix}\n",
       "8.881784197001252e-16\\\\\n",
       "2.309830353652842e-07\\\\\n",
       "8.952686147978284e-09\\\\\n",
       "-1.522145900434424e-07\n",
       "\\end{pmatrix} $$"
      ],
      "text/plain": [
       "<IPython.core.display.Markdown object>"
      ]
     },
     "metadata": {},
     "output_type": "display_data"
    }
   ],
   "source": [
    "print_system_output(C, 'C', B, SingleGauss(C, B, n), n)"
   ]
  },
  {
   "cell_type": "code",
   "execution_count": 31,
   "metadata": {},
   "outputs": [
    {
     "data": {
      "text/markdown": [
       "$$ X^* =  \\begin{pmatrix}\n",
       "x^*_{1}\\\\\n",
       "x^*_{2}\\\\\n",
       "x^*_{3}\\\\\n",
       "x^*_{4}\n",
       "\\end{pmatrix} = \\begin{pmatrix} -1.623886 \\\\ 1.638137 \\\\ -1.311000 \\\\ 1.105901 \\end{pmatrix} $$"
      ],
      "text/plain": [
       "<IPython.core.display.Markdown object>"
      ]
     },
     "metadata": {},
     "output_type": "display_data"
    },
    {
     "data": {
      "text/markdown": [
       "$$ C \\times X^* =  \\begin{pmatrix} 0.000000 & 4.968483 & 7.083306 & 4.713851 \\\\ 8.602662 & 8.049889 & 3.390708 & 9.516544 \\\\ 2.104577 & 3.913465 & 3.731426 & 2.221286 \\\\ 7.363161 & 9.628132 & 3.522629 & 0.888161 \\end{pmatrix} \\begin{pmatrix} -1.623886 \\\\ 1.638137 \\\\ -1.311000 \\\\ 1.105901 \\end{pmatrix} = \\begin{pmatrix} 4.065893 \\\\ 5.296216 \\\\ 0.557822 \\\\ 0.179319 \\end{pmatrix} = B^* $$"
      ],
      "text/plain": [
       "<IPython.core.display.Markdown object>"
      ]
     },
     "metadata": {},
     "output_type": "display_data"
    },
    {
     "data": {
      "text/markdown": [
       "$$ B =  \\begin{pmatrix}\n",
       "4.065893270275645\\\\\n",
       "5.296215905463411\\\\\n",
       "0.5578220990686966\\\\\n",
       "0.17931857867458878\n",
       "\\end{pmatrix} \\stackrel{?}{=} \\begin{pmatrix}\n",
       "4.0658932702756445\\\\\n",
       "5.296215905463409\\\\\n",
       "0.5578220990686962\\\\\n",
       "0.17931857867458945\n",
       "\\end{pmatrix} = B^* $$"
      ],
      "text/plain": [
       "<IPython.core.display.Markdown object>"
      ]
     },
     "metadata": {},
     "output_type": "display_data"
    },
    {
     "data": {
      "text/markdown": [
       "$$ B - B^* =  \\begin{pmatrix}\n",
       "8.881784197001252e-16\\\\\n",
       "1.7763568394002505e-15\\\\\n",
       "4.440892098500626e-16\\\\\n",
       "-6.661338147750939e-16\n",
       "\\end{pmatrix} $$"
      ],
      "text/plain": [
       "<IPython.core.display.Markdown object>"
      ]
     },
     "metadata": {},
     "output_type": "display_data"
    }
   ],
   "source": [
    "print_system_output(C, 'C', B, ModifiedGauss(C, B, n), n)"
   ]
  }
 ],
 "metadata": {
  "kernelspec": {
   "display_name": "Python 3.9.13 64-bit (microsoft store)",
   "language": "python",
   "name": "python3"
  },
  "language_info": {
   "codemirror_mode": {
    "name": "ipython",
    "version": 3
   },
   "file_extension": ".py",
   "mimetype": "text/x-python",
   "name": "python",
   "nbconvert_exporter": "python",
   "pygments_lexer": "ipython3",
   "version": "3.9.13"
  },
  "orig_nbformat": 4,
  "vscode": {
   "interpreter": {
    "hash": "a5a87ee616be0254e3f1af9223138e3faeac65b2c9d91bc22a9fc5a4a8bd8eb0"
   }
  }
 },
 "nbformat": 4,
 "nbformat_minor": 2
}
