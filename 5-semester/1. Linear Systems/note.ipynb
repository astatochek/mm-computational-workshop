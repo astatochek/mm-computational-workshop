{
 "cells": [
  {
   "cell_type": "markdown",
   "metadata": {},
   "source": [
    "# Задание 1. Прямые методы решения линейных систем"
   ]
  },
  {
   "cell_type": "code",
   "execution_count": 24,
   "metadata": {},
   "outputs": [],
   "source": [
    "from latexifier import latexify\n",
    "from IPython.display import display, Markdown\n",
    "import numpy as np\n",
    "from typing import Callable, List, Tuple\n",
    "import warnings\n",
    "warnings.filterwarnings('ignore')"
   ]
  },
  {
   "cell_type": "code",
   "execution_count": 25,
   "metadata": {},
   "outputs": [],
   "source": [
    "class Matrix(np.ndarray):\n",
    "    \"\"\"extends np.ndarray\"\"\"\n",
    "\n",
    "    def __new__(cls, input_array):\n",
    "        obj = np.asarray(input_array).view(cls)\n",
    "        return obj\n",
    "\n",
    "    def inverse_rows(self, i: int, j: int):\n",
    "        \"\"\"Swaps i-th and j-th rows of a matrix\"\"\"\n",
    "        self[i], self[j] = self[j].copy(), self[i].copy()\n",
    "\n",
    "    def inverse_cols(self, i: int, j: int):\n",
    "        \"\"\"Swaps i-th and j-th columns of a matrix\"\"\"\n",
    "        self = self.transpose()\n",
    "        self.inverse_rows(i, j)\n",
    "        self = self.transpose()\n",
    "    \n",
    "    def tex(self) -> str:\n",
    "        \"\"\"Latexifies the matrix rounding up values up to 6 decimal values\"\"\"\n",
    "        return latexify(self)\n",
    "\n",
    "def append(M: np.ndarray, N: np.ndarray) -> Matrix:\n",
    "    \"\"\"Appends two numpy arrays with axis=1\"\"\"\n",
    "    return Matrix(np.append(arr=np.asarray(M), values=N, axis=1))\n",
    "\n",
    "def print_tex(*argv) -> None:\n",
    "    \"\"\"Displays a LaTex Markdown output\"\"\"\n",
    "    res = ' '.join(['$$'] + [arg for arg in argv] + ['$$'])\n",
    "    display(Markdown(res))\n",
    "\n",
    "def get_latex_column(arg: str, n: int) -> str:\n",
    "    \"\"\"Prepares a string with LaTex syntax for a column of {arg} with indeces form 1 to {n}\"\"\"\n",
    "    res = [r\"\"\"\\begin{pmatrix}\"\"\", \"\\n\"]\n",
    "    for i in range(n):\n",
    "        line = arg + \"_{\" + str(i+1) + \"}\" + (r\"\\\\\" if i != n-1 else \"\") + \"\\n\"\n",
    "        res.append(line)\n",
    "    res.append(r\"\"\"\\end{pmatrix}\"\"\")\n",
    "    return ''.join(res)\n",
    "\n",
    "def get_exact_column(col: Matrix, n: int) -> str:\n",
    "    \"\"\"Prepares a string with LaTex syntax for a column of {col} elements\"\"\"\n",
    "    res = [r\"\"\"\\begin{pmatrix}\"\"\", \"\\n\"]\n",
    "    for i in range(n):\n",
    "        line = str(float(col[i][0])) + (r\"\\\\\" if i != n-1 else \"\") + \"\\n\"\n",
    "        res.append(line)\n",
    "    res.append(r\"\"\"\\end{pmatrix}\"\"\")\n",
    "    return ''.join(res)\n",
    "\n",
    "def print_system_output(A: Matrix, s: str, B: Matrix, X: Matrix, n: int) -> None:\n",
    "    \"\"\"Oupputs the result of solving a linear equation\"\"\"\n",
    "    B_ = np.matmul(A, X)\n",
    "    print_tex('X^* = ', get_latex_column(\"x^*\", n), '=', X.tex())\n",
    "    print_tex(rf'{s} \\times X^* = ', A.tex(), X.tex(), '=', B_.tex(), '= B^*')\n",
    "    print_tex('B = ', get_exact_column(B, n), r'\\stackrel{?}{=}', get_exact_column(B_, n), '= B^*')\n",
    "    print_tex(r'B - B^* = ', get_exact_column(B - B_, n))\n"
   ]
  },
  {
   "cell_type": "code",
   "execution_count": 26,
   "metadata": {},
   "outputs": [
    {
     "data": {
      "text/markdown": [
       "$$ A =  \\begin{pmatrix} 8.696558 & 0.653878 & 0.726478 & 7.742167 \\\\ 6.705774 & 2.515570 & 9.995966 & 0.119794 \\\\ 0.274170 & 4.495687 & 2.820670 & 9.122116 \\\\ 2.088731 & 9.793574 & 2.187522 & 6.710290 \\end{pmatrix} ,~~ B =  \\begin{pmatrix} 9.292900 \\\\ 2.433482 \\\\ 7.732198 \\\\ 3.900604 \\end{pmatrix} $$"
      ],
      "text/plain": [
       "<IPython.core.display.Markdown object>"
      ]
     },
     "metadata": {},
     "output_type": "display_data"
    },
    {
     "data": {
      "text/markdown": [
       "$$ \\begin{pmatrix} 8.696558 & 0.653878 & 0.726478 & 7.742167 \\\\ 6.705774 & 2.515570 & 9.995966 & 0.119794 \\\\ 0.274170 & 4.495687 & 2.820670 & 9.122116 \\\\ 2.088731 & 9.793574 & 2.187522 & 6.710290 \\end{pmatrix} \\begin{pmatrix}\n",
       "x_{1}\\\\\n",
       "x_{2}\\\\\n",
       "x_{3}\\\\\n",
       "x_{4}\n",
       "\\end{pmatrix} = \\begin{pmatrix} 9.292900 \\\\ 2.433482 \\\\ 7.732198 \\\\ 3.900604 \\end{pmatrix} $$"
      ],
      "text/plain": [
       "<IPython.core.display.Markdown object>"
      ]
     },
     "metadata": {},
     "output_type": "display_data"
    }
   ],
   "source": [
    "n = int(input()) # Размерность матрицы A\n",
    "A = Matrix(np.random.rand(n, n) * 10)\n",
    "B = Matrix(np.random.rand(n, 1) * 10)\n",
    "print_tex('A = ', A.tex(), ',~~', 'B = ', B.tex())\n",
    "print_tex(A.tex(), get_latex_column('x', n), '=', B.tex())"
   ]
  },
  {
   "cell_type": "markdown",
   "metadata": {},
   "source": [
    "### Решение методом Гаусса единственного деления"
   ]
  },
  {
   "cell_type": "code",
   "execution_count": 27,
   "metadata": {},
   "outputs": [
    {
     "data": {
      "text/markdown": [
       "$$ X^* =  \\begin{pmatrix}\n",
       "x^*_{1}\\\\\n",
       "x^*_{2}\\\\\n",
       "x^*_{3}\\\\\n",
       "x^*_{4}\n",
       "\\end{pmatrix} = \\begin{pmatrix} 0.226749 \\\\ -0.344390 \\\\ 0.166507 \\\\ 0.959058 \\end{pmatrix} $$"
      ],
      "text/plain": [
       "<IPython.core.display.Markdown object>"
      ]
     },
     "metadata": {},
     "output_type": "display_data"
    },
    {
     "data": {
      "text/markdown": [
       "$$ A \\times X^* =  \\begin{pmatrix} 8.696558 & 0.653878 & 0.726478 & 7.742167 \\\\ 6.705774 & 2.515570 & 9.995966 & 0.119794 \\\\ 0.274170 & 4.495687 & 2.820670 & 9.122116 \\\\ 2.088731 & 9.793574 & 2.187522 & 6.710290 \\end{pmatrix} \\begin{pmatrix} 0.226749 \\\\ -0.344390 \\\\ 0.166507 \\\\ 0.959058 \\end{pmatrix} = \\begin{pmatrix} 9.292900 \\\\ 2.433482 \\\\ 7.732198 \\\\ 3.900604 \\end{pmatrix} = B^* $$"
      ],
      "text/plain": [
       "<IPython.core.display.Markdown object>"
      ]
     },
     "metadata": {},
     "output_type": "display_data"
    },
    {
     "data": {
      "text/markdown": [
       "$$ B =  \\begin{pmatrix}\n",
       "9.29289991316131\\\\\n",
       "2.4334820085705444\\\\\n",
       "7.732198196205971\\\\\n",
       "3.9006041760134025\n",
       "\\end{pmatrix} \\stackrel{?}{=} \\begin{pmatrix}\n",
       "9.29289991316131\\\\\n",
       "2.4334820085705435\\\\\n",
       "7.732198196205972\\\\\n",
       "3.9006041760134043\n",
       "\\end{pmatrix} = B^* $$"
      ],
      "text/plain": [
       "<IPython.core.display.Markdown object>"
      ]
     },
     "metadata": {},
     "output_type": "display_data"
    },
    {
     "data": {
      "text/markdown": [
       "$$ B - B^* =  \\begin{pmatrix}\n",
       "0.0\\\\\n",
       "8.881784197001252e-16\\\\\n",
       "-8.881784197001252e-16\\\\\n",
       "-1.7763568394002505e-15\n",
       "\\end{pmatrix} $$"
      ],
      "text/plain": [
       "<IPython.core.display.Markdown object>"
      ]
     },
     "metadata": {},
     "output_type": "display_data"
    }
   ],
   "source": [
    "def SingleGauss(A: Matrix, B: Matrix, n: int) -> Matrix:\n",
    "    A_ = A.copy()\n",
    "    B_ = B.copy()\n",
    "    X = [[0] for _ in range(n)]\n",
    "    for k in range(n):\n",
    "        for j in range(k+1, n):\n",
    "            d = A_[j][k] / A_[k][k]\n",
    "            for i in range(k, n):\n",
    "                A_[j][i] -= d * A_[k][i]\n",
    "            B_[j] -= d * B_[k][0]\n",
    "    for k in range(n-1, -1, -1):\n",
    "        d = 0\n",
    "        for j in range(k, n):\n",
    "            s = A_[k][j] * X[j][0]\n",
    "            d += s\n",
    "        X[k][0] = (B_[k][0] - d) / A_[k][k]\n",
    "    return Matrix(np.array(X))\n",
    "\n",
    "\n",
    "print_system_output(A, 'A', B, SingleGauss(A, B, n), n)\n"
   ]
  },
  {
   "cell_type": "markdown",
   "metadata": {},
   "source": [
    "### Решение методом Гаусса с выбором главного элемента"
   ]
  },
  {
   "cell_type": "code",
   "execution_count": 28,
   "metadata": {},
   "outputs": [
    {
     "data": {
      "text/markdown": [
       "$$ X^* =  \\begin{pmatrix}\n",
       "x^*_{1}\\\\\n",
       "x^*_{2}\\\\\n",
       "x^*_{3}\\\\\n",
       "x^*_{4}\n",
       "\\end{pmatrix} = \\begin{pmatrix} 0.226749 \\\\ -0.344390 \\\\ 0.166507 \\\\ 0.959058 \\end{pmatrix} $$"
      ],
      "text/plain": [
       "<IPython.core.display.Markdown object>"
      ]
     },
     "metadata": {},
     "output_type": "display_data"
    },
    {
     "data": {
      "text/markdown": [
       "$$ A \\times X^* =  \\begin{pmatrix} 8.696558 & 0.653878 & 0.726478 & 7.742167 \\\\ 6.705774 & 2.515570 & 9.995966 & 0.119794 \\\\ 0.274170 & 4.495687 & 2.820670 & 9.122116 \\\\ 2.088731 & 9.793574 & 2.187522 & 6.710290 \\end{pmatrix} \\begin{pmatrix} 0.226749 \\\\ -0.344390 \\\\ 0.166507 \\\\ 0.959058 \\end{pmatrix} = \\begin{pmatrix} 9.292900 \\\\ 2.433482 \\\\ 7.732198 \\\\ 3.900604 \\end{pmatrix} = B^* $$"
      ],
      "text/plain": [
       "<IPython.core.display.Markdown object>"
      ]
     },
     "metadata": {},
     "output_type": "display_data"
    },
    {
     "data": {
      "text/markdown": [
       "$$ B =  \\begin{pmatrix}\n",
       "9.29289991316131\\\\\n",
       "2.4334820085705444\\\\\n",
       "7.732198196205971\\\\\n",
       "3.9006041760134025\n",
       "\\end{pmatrix} \\stackrel{?}{=} \\begin{pmatrix}\n",
       "9.29289991316131\\\\\n",
       "2.4334820085705435\\\\\n",
       "7.732198196205971\\\\\n",
       "3.900604176013403\n",
       "\\end{pmatrix} = B^* $$"
      ],
      "text/plain": [
       "<IPython.core.display.Markdown object>"
      ]
     },
     "metadata": {},
     "output_type": "display_data"
    },
    {
     "data": {
      "text/markdown": [
       "$$ B - B^* =  \\begin{pmatrix}\n",
       "0.0\\\\\n",
       "8.881784197001252e-16\\\\\n",
       "0.0\\\\\n",
       "-4.440892098500626e-16\n",
       "\\end{pmatrix} $$"
      ],
      "text/plain": [
       "<IPython.core.display.Markdown object>"
      ]
     },
     "metadata": {},
     "output_type": "display_data"
    }
   ],
   "source": [
    "def ModifiedGauss(A: Matrix, B: Matrix, n: int) -> Matrix:\n",
    "    AB = append(A, B)\n",
    "    X = [[0] for _ in range(n)]\n",
    "    for k in range(n):\n",
    "        j = k\n",
    "        for i in range(k+1, n):\n",
    "            if abs(AB[j][k]) < abs(AB[i][k]):\n",
    "                j = i\n",
    "        AB.inverse_rows(k, j)\n",
    "        for j in range(k+1, n):\n",
    "            c = AB[j][k] / AB[k][k]\n",
    "            for i in range(n+1):\n",
    "                AB[j][i] -= c * AB[k][i]\n",
    "    X[n-1][0] = AB[n-1][n] / AB[n-1][n-1]\n",
    "    for k in range(n-1, -1, -1):\n",
    "        s = 0\n",
    "        for i in range(k+1, n):\n",
    "            s += AB[k][i] * X[i][0]\n",
    "        X[k][0] = (AB[k][n] - s) / AB[k][k]\n",
    "    return Matrix(np.array(X))\n",
    "\n",
    "print_system_output(A, 'A', B, ModifiedGauss(A, B, n), n)"
   ]
  },
  {
   "cell_type": "markdown",
   "metadata": {},
   "source": [
    "### Решение методом $LU$-разложения"
   ]
  },
  {
   "cell_type": "code",
   "execution_count": 29,
   "metadata": {},
   "outputs": [
    {
     "data": {
      "text/markdown": [
       "$$ L =  \\begin{pmatrix} 8.696558 & 0 & 0 & 0 \\\\ 6.705774 & 2.011376 & 0 & 0 \\\\ 0.274170 & 4.475073 & -18.195751 & 0 \\\\ 2.088731 & 9.636526 & -43.193953 & -19.093893 \\end{pmatrix} $$"
      ],
      "text/plain": [
       "<IPython.core.display.Markdown object>"
      ]
     },
     "metadata": {},
     "output_type": "display_data"
    },
    {
     "data": {
      "text/markdown": [
       "$$ U =  \\begin{pmatrix} 1 & 0.075188 & 0.083536 & 0.890256 \\\\ 0 & 1 & 4.691213 & -2.908489 \\\\ 0 & 0 & 1 & -1.203233 \\\\ 0 & 0 & 0 & 1 \\end{pmatrix} $$"
      ],
      "text/plain": [
       "<IPython.core.display.Markdown object>"
      ]
     },
     "metadata": {},
     "output_type": "display_data"
    },
    {
     "data": {
      "text/markdown": [
       "$$ L \\times U =  \\begin{pmatrix} 8.696558 & 0.653878 & 0.726478 & 7.742167 \\\\ 6.705774 & 2.515570 & 9.995966 & 0.119794 \\\\ 0.274170 & 4.495687 & 2.820670 & 9.122116 \\\\ 2.088731 & 9.793574 & 2.187522 & 6.710290 \\end{pmatrix} \\stackrel{?}{=} \\begin{pmatrix} 8.696558 & 0.653878 & 0.726478 & 7.742167 \\\\ 6.705774 & 2.515570 & 9.995966 & 0.119794 \\\\ 0.274170 & 4.495687 & 2.820670 & 9.122116 \\\\ 2.088731 & 9.793574 & 2.187522 & 6.710290 \\end{pmatrix} = A $$"
      ],
      "text/plain": [
       "<IPython.core.display.Markdown object>"
      ]
     },
     "metadata": {},
     "output_type": "display_data"
    }
   ],
   "source": [
    "def GetLU(A: Matrix, n: int) -> Tuple[Matrix, Matrix]:\n",
    "    L = Matrix(np.zeros((n, n)))\n",
    "    U = Matrix(np.identity(n))\n",
    "    for i in range(n):\n",
    "        for j in range(i, n):\n",
    "            s = 0\n",
    "            for k in range(i):\n",
    "                s += L[j][k] * U[k][i]\n",
    "            L[j][i] = A[j][i] - s\n",
    "        for j in range(i, n):\n",
    "            s = 0\n",
    "            for k in range(i):\n",
    "                s += L[i][k] * U[k][j]\n",
    "            U[i][j] = (A[i][j] - s) / L[i][i]\n",
    "    return L, U\n",
    "\n",
    "L, U = GetLU(A, n)\n",
    "print_tex('L = ', L.tex())\n",
    "print_tex('U = ', U.tex())\n",
    "print_tex(r'L \\times U = ', (np.matmul(L, U)).tex(), r'\\stackrel{?}{=}', A.tex(), '= A')"
   ]
  },
  {
   "cell_type": "code",
   "execution_count": 30,
   "metadata": {},
   "outputs": [
    {
     "data": {
      "text/markdown": [
       "$$ X^* =  \\begin{pmatrix}\n",
       "x^*_{1}\\\\\n",
       "x^*_{2}\\\\\n",
       "x^*_{3}\\\\\n",
       "x^*_{4}\n",
       "\\end{pmatrix} = \\begin{pmatrix} 0.226749 \\\\ -0.344390 \\\\ 0.166507 \\\\ 0.959058 \\end{pmatrix} $$"
      ],
      "text/plain": [
       "<IPython.core.display.Markdown object>"
      ]
     },
     "metadata": {},
     "output_type": "display_data"
    },
    {
     "data": {
      "text/markdown": [
       "$$ A \\times X^* =  \\begin{pmatrix} 8.696558 & 0.653878 & 0.726478 & 7.742167 \\\\ 6.705774 & 2.515570 & 9.995966 & 0.119794 \\\\ 0.274170 & 4.495687 & 2.820670 & 9.122116 \\\\ 2.088731 & 9.793574 & 2.187522 & 6.710290 \\end{pmatrix} \\begin{pmatrix} 0.226749 \\\\ -0.344390 \\\\ 0.166507 \\\\ 0.959058 \\end{pmatrix} = \\begin{pmatrix} 9.292900 \\\\ 2.433482 \\\\ 7.732198 \\\\ 3.900604 \\end{pmatrix} = B^* $$"
      ],
      "text/plain": [
       "<IPython.core.display.Markdown object>"
      ]
     },
     "metadata": {},
     "output_type": "display_data"
    },
    {
     "data": {
      "text/markdown": [
       "$$ B =  \\begin{pmatrix}\n",
       "9.29289991316131\\\\\n",
       "2.4334820085705444\\\\\n",
       "7.732198196205971\\\\\n",
       "3.9006041760134025\n",
       "\\end{pmatrix} \\stackrel{?}{=} \\begin{pmatrix}\n",
       "9.29289991316131\\\\\n",
       "2.433482008570543\\\\\n",
       "7.732198196205969\\\\\n",
       "3.900604176013391\n",
       "\\end{pmatrix} = B^* $$"
      ],
      "text/plain": [
       "<IPython.core.display.Markdown object>"
      ]
     },
     "metadata": {},
     "output_type": "display_data"
    },
    {
     "data": {
      "text/markdown": [
       "$$ B - B^* =  \\begin{pmatrix}\n",
       "0.0\\\\\n",
       "1.3322676295501878e-15\\\\\n",
       "1.7763568394002505e-15\\\\\n",
       "1.1546319456101628e-14\n",
       "\\end{pmatrix} $$"
      ],
      "text/plain": [
       "<IPython.core.display.Markdown object>"
      ]
     },
     "metadata": {},
     "output_type": "display_data"
    }
   ],
   "source": [
    "Y_ = SingleGauss(L, B, n)\n",
    "X_ = SingleGauss(U, Y_, n)\n",
    "print_system_output(A, 'A', B, X_, n)"
   ]
  },
  {
   "cell_type": "markdown",
   "metadata": {},
   "source": [
    "### Нахождение обратной к матрице $A$"
   ]
  },
  {
   "cell_type": "code",
   "execution_count": 31,
   "metadata": {},
   "outputs": [
    {
     "data": {
      "text/markdown": [
       "$$ A^{-1} =  \\begin{pmatrix} 0.096550 & 0.015701 & -0.112395 & 0.041115 \\\\ -0.027076 & -0.006154 & -0.082351 & 0.143299 \\\\ -0.058297 & 0.091364 & 0.094634 & -0.063017 \\\\ 0.028468 & -0.025690 & 0.124325 & -0.052373 \\end{pmatrix} $$"
      ],
      "text/plain": [
       "<IPython.core.display.Markdown object>"
      ]
     },
     "metadata": {},
     "output_type": "display_data"
    },
    {
     "data": {
      "text/markdown": [
       "$$ A \\times A^{-1} =  \\begin{pmatrix} 1 & 0 & 0 & 0 \\\\ 0 & 1 & 0 & 0 \\\\ 0 & 0 & 1 & 0 \\\\ 0 & 0 & 0 & 1 \\end{pmatrix} $$"
      ],
      "text/plain": [
       "<IPython.core.display.Markdown object>"
      ]
     },
     "metadata": {},
     "output_type": "display_data"
    },
    {
     "data": {
      "text/markdown": [
       "$$ ||A||_1 * ||A^{-1}||_1 =  9.802470238923407 $$"
      ],
      "text/plain": [
       "<IPython.core.display.Markdown object>"
      ]
     },
     "metadata": {},
     "output_type": "display_data"
    }
   ],
   "source": [
    "def inverse(A: Matrix, n: int) -> Matrix:\n",
    "    R = Matrix(np.zeros(shape=(n, 1)))\n",
    "    A_ = Matrix(np.zeros(shape=(n, n)))\n",
    "    for i in range(n):\n",
    "        R[i][0] = 1.\n",
    "        S = SingleGauss(A, R, n)\n",
    "        for j in range(n):\n",
    "            A_[j][i] = S[j][0]\n",
    "        R[i][0] = 0\n",
    "    return A_\n",
    "\n",
    "A_ = inverse(A, n)\n",
    "print_tex(r'A^{-1} = ', A_.tex())\n",
    "print_tex(r'A \\times A^{-1} = ', (np.matmul(A, A_)).tex())\n",
    "\n",
    "def norm(M: Matrix) -> float:\n",
    "    return max([sum([abs(M[i][j]) for i in range(n)]) for j in range(n)])\n",
    "\n",
    "print_tex(r'||A||_1 * ||A^{-1}||_1 = ', str(norm(A) * norm(A_)))\n"
   ]
  },
  {
   "cell_type": "markdown",
   "metadata": {},
   "source": [
    "### Решение системы в случае $Cx=b~:~c_{11}=10^{-8}a_{11}, c_{ij}=a_{ij}~\\forall i,j~:~(i,j)\\ne(1,1)$"
   ]
  },
  {
   "cell_type": "code",
   "execution_count": 32,
   "metadata": {},
   "outputs": [
    {
     "data": {
      "text/markdown": [
       "$$ A= \\begin{pmatrix} 8.696558 & 0.653878 & 0.726478 & 7.742167 \\\\ 6.705774 & 2.515570 & 9.995966 & 0.119794 \\\\ 0.274170 & 4.495687 & 2.820670 & 9.122116 \\\\ 2.088731 & 9.793574 & 2.187522 & 6.710290 \\end{pmatrix} $$"
      ],
      "text/plain": [
       "<IPython.core.display.Markdown object>"
      ]
     },
     "metadata": {},
     "output_type": "display_data"
    },
    {
     "data": {
      "text/markdown": [
       "$$ C= \\begin{pmatrix} 0.000000 & 0.653878 & 0.726478 & 7.742167 \\\\ 6.705774 & 2.515570 & 9.995966 & 0.119794 \\\\ 0.274170 & 4.495687 & 2.820670 & 9.122116 \\\\ 2.088731 & 9.793574 & 2.187522 & 6.710290 \\end{pmatrix} $$"
      ],
      "text/plain": [
       "<IPython.core.display.Markdown object>"
      ]
     },
     "metadata": {},
     "output_type": "display_data"
    }
   ],
   "source": [
    "C = A.copy()\n",
    "C[0][0] *= 1.e-8\n",
    "print_tex('A=', A.tex())\n",
    "print_tex('C=', C.tex())"
   ]
  },
  {
   "cell_type": "code",
   "execution_count": 33,
   "metadata": {},
   "outputs": [
    {
     "data": {
      "text/markdown": [
       "$$ X^* =  \\begin{pmatrix}\n",
       "x^*_{1}\\\\\n",
       "x^*_{2}\\\\\n",
       "x^*_{3}\\\\\n",
       "x^*_{4}\n",
       "\\end{pmatrix} = \\begin{pmatrix} 1.414083 \\\\ -0.677361 \\\\ -0.550414 \\\\ 1.309152 \\end{pmatrix} $$"
      ],
      "text/plain": [
       "<IPython.core.display.Markdown object>"
      ]
     },
     "metadata": {},
     "output_type": "display_data"
    },
    {
     "data": {
      "text/markdown": [
       "$$ C \\times X^* =  \\begin{pmatrix} 0.000000 & 0.653878 & 0.726478 & 7.742167 \\\\ 6.705774 & 2.515570 & 9.995966 & 0.119794 \\\\ 0.274170 & 4.495687 & 2.820670 & 9.122116 \\\\ 2.088731 & 9.793574 & 2.187522 & 6.710290 \\end{pmatrix} \\begin{pmatrix} 1.414083 \\\\ -0.677361 \\\\ -0.550414 \\\\ 1.309152 \\end{pmatrix} = \\begin{pmatrix} 9.292900 \\\\ 2.433482 \\\\ 7.732198 \\\\ 3.900604 \\end{pmatrix} = B^* $$"
      ],
      "text/plain": [
       "<IPython.core.display.Markdown object>"
      ]
     },
     "metadata": {},
     "output_type": "display_data"
    },
    {
     "data": {
      "text/markdown": [
       "$$ B =  \\begin{pmatrix}\n",
       "9.29289991316131\\\\\n",
       "2.4334820085705444\\\\\n",
       "7.732198196205971\\\\\n",
       "3.9006041760134025\n",
       "\\end{pmatrix} \\stackrel{?}{=} \\begin{pmatrix}\n",
       "9.29289991316131\\\\\n",
       "2.433482020933691\\\\\n",
       "7.732198191950056\\\\\n",
       "3.9006042140696575\n",
       "\\end{pmatrix} = B^* $$"
      ],
      "text/plain": [
       "<IPython.core.display.Markdown object>"
      ]
     },
     "metadata": {},
     "output_type": "display_data"
    },
    {
     "data": {
      "text/markdown": [
       "$$ B - B^* =  \\begin{pmatrix}\n",
       "0.0\\\\\n",
       "-1.2363146506544354e-08\\\\\n",
       "4.25591473174336e-09\\\\\n",
       "-3.8056255036167386e-08\n",
       "\\end{pmatrix} $$"
      ],
      "text/plain": [
       "<IPython.core.display.Markdown object>"
      ]
     },
     "metadata": {},
     "output_type": "display_data"
    }
   ],
   "source": [
    "print_system_output(C, 'C', B, SingleGauss(C, B, n), n)"
   ]
  },
  {
   "cell_type": "code",
   "execution_count": 34,
   "metadata": {},
   "outputs": [
    {
     "data": {
      "text/markdown": [
       "$$ X^* =  \\begin{pmatrix}\n",
       "x^*_{1}\\\\\n",
       "x^*_{2}\\\\\n",
       "x^*_{3}\\\\\n",
       "x^*_{4}\n",
       "\\end{pmatrix} = \\begin{pmatrix} 1.414083 \\\\ -0.677361 \\\\ -0.550414 \\\\ 1.309152 \\end{pmatrix} $$"
      ],
      "text/plain": [
       "<IPython.core.display.Markdown object>"
      ]
     },
     "metadata": {},
     "output_type": "display_data"
    },
    {
     "data": {
      "text/markdown": [
       "$$ C \\times X^* =  \\begin{pmatrix} 0.000000 & 0.653878 & 0.726478 & 7.742167 \\\\ 6.705774 & 2.515570 & 9.995966 & 0.119794 \\\\ 0.274170 & 4.495687 & 2.820670 & 9.122116 \\\\ 2.088731 & 9.793574 & 2.187522 & 6.710290 \\end{pmatrix} \\begin{pmatrix} 1.414083 \\\\ -0.677361 \\\\ -0.550414 \\\\ 1.309152 \\end{pmatrix} = \\begin{pmatrix} 9.292900 \\\\ 2.433482 \\\\ 7.732198 \\\\ 3.900604 \\end{pmatrix} = B^* $$"
      ],
      "text/plain": [
       "<IPython.core.display.Markdown object>"
      ]
     },
     "metadata": {},
     "output_type": "display_data"
    },
    {
     "data": {
      "text/markdown": [
       "$$ B =  \\begin{pmatrix}\n",
       "9.29289991316131\\\\\n",
       "2.4334820085705444\\\\\n",
       "7.732198196205971\\\\\n",
       "3.9006041760134025\n",
       "\\end{pmatrix} \\stackrel{?}{=} \\begin{pmatrix}\n",
       "9.292899913161309\\\\\n",
       "2.4334820085705435\\\\\n",
       "7.732198196205971\\\\\n",
       "3.9006041760134016\n",
       "\\end{pmatrix} = B^* $$"
      ],
      "text/plain": [
       "<IPython.core.display.Markdown object>"
      ]
     },
     "metadata": {},
     "output_type": "display_data"
    },
    {
     "data": {
      "text/markdown": [
       "$$ B - B^* =  \\begin{pmatrix}\n",
       "1.7763568394002505e-15\\\\\n",
       "8.881784197001252e-16\\\\\n",
       "0.0\\\\\n",
       "8.881784197001252e-16\n",
       "\\end{pmatrix} $$"
      ],
      "text/plain": [
       "<IPython.core.display.Markdown object>"
      ]
     },
     "metadata": {},
     "output_type": "display_data"
    }
   ],
   "source": [
    "print_system_output(C, 'C', B, ModifiedGauss(C, B, n), n)"
   ]
  }
 ],
 "metadata": {
  "kernelspec": {
   "display_name": "Python 3.9.13 64-bit (microsoft store)",
   "language": "python",
   "name": "python3"
  },
  "language_info": {
   "codemirror_mode": {
    "name": "ipython",
    "version": 3
   },
   "file_extension": ".py",
   "mimetype": "text/x-python",
   "name": "python",
   "nbconvert_exporter": "python",
   "pygments_lexer": "ipython3",
   "version": "3.9.13"
  },
  "orig_nbformat": 4,
  "vscode": {
   "interpreter": {
    "hash": "a5a87ee616be0254e3f1af9223138e3faeac65b2c9d91bc22a9fc5a4a8bd8eb0"
   }
  }
 },
 "nbformat": 4,
 "nbformat_minor": 2
}
