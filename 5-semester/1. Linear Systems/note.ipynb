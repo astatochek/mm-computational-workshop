{
 "cells": [
  {
   "cell_type": "markdown",
   "metadata": {},
   "source": [
    "# Задание 1. Прямые методы решения линейных систем"
   ]
  },
  {
   "cell_type": "code",
   "execution_count": 3,
   "metadata": {},
   "outputs": [],
   "source": [
    "from latexifier import latexify\n",
    "from IPython.display import display, Markdown\n",
    "import numpy as np\n",
    "from typing import Callable, List\n",
    "import warnings\n",
    "warnings.filterwarnings('ignore')"
   ]
  },
  {
   "cell_type": "code",
   "execution_count": 33,
   "metadata": {},
   "outputs": [],
   "source": [
    "class Matrix(np.ndarray):\n",
    "    \"\"\"extends np.ndarray\"\"\"\n",
    "\n",
    "    def __new__(cls, input_array):\n",
    "        obj = np.asarray(input_array).view(cls)\n",
    "        return obj\n",
    "\n",
    "    def inverse_rows(self, i: int, j: int):\n",
    "        \"\"\"Swaps i-th and j-th rows of a matrix\"\"\"\n",
    "        self[i], self[j] = self[j].copy(), self[i].copy()\n",
    "\n",
    "    def inverse_cols(self, i: int, j: int):\n",
    "        \"\"\"Swaps i-th and j-th columns of a matrix\"\"\"\n",
    "        self = self.transpose()\n",
    "        self.inverse_rows(i, j)\n",
    "        self = self.transpose()\n",
    "    \n",
    "    def tex(self) -> str:\n",
    "        \"\"\"Latexifies the matrix rounding up values up to 6 decimal values\"\"\"\n",
    "        return latexify(self)\n",
    "\n",
    "def append(M: np.ndarray, N: np.ndarray) -> Matrix:\n",
    "    \"\"\"Appends two numpy arrays with axis=1\"\"\"\n",
    "    return Matrix(np.append(arr=np.asarray(M), values=N, axis=1))\n",
    "\n",
    "def print_tex(*argv) -> None:\n",
    "    \"\"\"Displays a LaTex Markdown output\"\"\"\n",
    "    res = ' '.join(['$$'] + [arg for arg in argv] + ['$$'])\n",
    "    display(Markdown(res))\n",
    "\n",
    "def get_latex_column(arg: str, n: int) -> str:\n",
    "    \"\"\"Prepares a string with LaTex syntax for a column of {arg} with indeces form 1 to {n}\"\"\"\n",
    "    res = [r\"\"\"\\begin{pmatrix}\"\"\", \"\\n\"]\n",
    "    for i in range(n):\n",
    "        line = arg + \"_{\" + str(i+1) + \"}\" + (r\"\\\\\" if i != n-1 else \"\") + \"\\n\"\n",
    "        res.append(line)\n",
    "    res.append(r\"\"\"\\end{pmatrix}\"\"\")\n",
    "    return ''.join(res)\n",
    "\n",
    "def get_exact_column(col: Matrix, n: int) -> str:\n",
    "    \"\"\"Prepares a string with LaTex syntax for a column of {col} elements\"\"\"\n",
    "    res = [r\"\"\"\\begin{pmatrix}\"\"\", \"\\n\"]\n",
    "    for i in range(n):\n",
    "        line = str(float(col[i][0])) + (r\"\\\\\" if i != n-1 else \"\") + \"\\n\"\n",
    "        res.append(line)\n",
    "    res.append(r\"\"\"\\end{pmatrix}\"\"\")\n",
    "    return ''.join(res)\n",
    "\n",
    "def print_system_output(A: Matrix, B: Matrix, X: Matrix, n: int) -> None:\n",
    "    B_ = np.matmul(A, X)\n",
    "    print_tex('X^* = ', get_latex_column(\"x^*\", n), '=', X.tex())\n",
    "    print_tex(r'A \\times X^* = ', A.tex(), X.tex(), '=', B_.tex(), '= B^*')\n",
    "    print_tex('B = ', B.tex(), r'\\stackrel{?}{=}', B_.tex(), '= B^*')\n",
    "    print_tex(r'B - B^* = ', get_exact_column(B - B_, n))\n"
   ]
  },
  {
   "cell_type": "code",
   "execution_count": 5,
   "metadata": {},
   "outputs": [
    {
     "data": {
      "text/markdown": [
       "$$ \\begin{pmatrix}\n",
       "x_{1}\\\\\n",
       "x_{2}\\\\\n",
       "x_{3}\\\\\n",
       "x_{4}\\\\\n",
       "x_{5}\n",
       "\\end{pmatrix} \\begin{pmatrix}\n",
       "x_{1}\\\\\n",
       "x_{2}\\\\\n",
       "x_{3}\\\\\n",
       "x_{4}\\\\\n",
       "x_{5}\n",
       "\\end{pmatrix} $$"
      ],
      "text/plain": [
       "<IPython.core.display.Markdown object>"
      ]
     },
     "metadata": {},
     "output_type": "display_data"
    }
   ],
   "source": [
    "s = get_latex_column(\"x\", 5)\n",
    "print_tex(s, s)"
   ]
  },
  {
   "cell_type": "code",
   "execution_count": 22,
   "metadata": {},
   "outputs": [
    {
     "data": {
      "text/markdown": [
       "$$ A =  \\begin{pmatrix} 0.309521 & 4.328177 & 6.041022 & 7.488171 \\\\ 9.835131 & 8.308046 & 2.306726 & 0.219779 \\\\ 9.387457 & 7.985897 & 5.687012 & 2.130799 \\\\ 7.847413 & 2.756732 & 7.900442 & 8.086316 \\end{pmatrix} ,~~ B =  \\begin{pmatrix} 6.453322 \\\\ 6.154414 \\\\ 2.363097 \\\\ 9.942639 \\end{pmatrix} $$"
      ],
      "text/plain": [
       "<IPython.core.display.Markdown object>"
      ]
     },
     "metadata": {},
     "output_type": "display_data"
    },
    {
     "data": {
      "text/markdown": [
       "$$ \\begin{pmatrix} 0.309521 & 4.328177 & 6.041022 & 7.488171 \\\\ 9.835131 & 8.308046 & 2.306726 & 0.219779 \\\\ 9.387457 & 7.985897 & 5.687012 & 2.130799 \\\\ 7.847413 & 2.756732 & 7.900442 & 8.086316 \\end{pmatrix} \\begin{pmatrix}\n",
       "x_{1}\\\\\n",
       "x_{2}\\\\\n",
       "x_{3}\\\\\n",
       "x_{4}\n",
       "\\end{pmatrix} = \\begin{pmatrix} 6.453322 \\\\ 6.154414 \\\\ 2.363097 \\\\ 9.942639 \\end{pmatrix} $$"
      ],
      "text/plain": [
       "<IPython.core.display.Markdown object>"
      ]
     },
     "metadata": {},
     "output_type": "display_data"
    }
   ],
   "source": [
    "n = int(input()) # Размерность матрицы A\n",
    "A = Matrix(np.random.rand(n, n) * 10)\n",
    "B = Matrix(np.random.rand(n, 1) * 10)\n",
    "print_tex('A = ', A.tex(), ',~~', 'B = ', B.tex())\n",
    "print_tex(A.tex(), get_latex_column('x', n), '=', B.tex())"
   ]
  },
  {
   "cell_type": "markdown",
   "metadata": {},
   "source": [
    "### Решение методом Гаусса единственного деления"
   ]
  },
  {
   "cell_type": "code",
   "execution_count": 34,
   "metadata": {},
   "outputs": [
    {
     "data": {
      "text/markdown": [
       "$$ X^* =  \\begin{pmatrix}\n",
       "x^*_{1}\\\\\n",
       "x^*_{2}\\\\\n",
       "x^*_{3}\\\\\n",
       "x^*_{4}\n",
       "\\end{pmatrix} = \\begin{pmatrix} 0.920138 \\\\ 0.270598 \\\\ -2.484280 \\\\ 2.671536 \\end{pmatrix} $$"
      ],
      "text/plain": [
       "<IPython.core.display.Markdown object>"
      ]
     },
     "metadata": {},
     "output_type": "display_data"
    },
    {
     "data": {
      "text/markdown": [
       "$$ A \\times X^* =  \\begin{pmatrix} 0.309521 & 4.328177 & 6.041022 & 7.488171 \\\\ 9.835131 & 8.308046 & 2.306726 & 0.219779 \\\\ 9.387457 & 7.985897 & 5.687012 & 2.130799 \\\\ 7.847413 & 2.756732 & 7.900442 & 8.086316 \\end{pmatrix} \\begin{pmatrix} 0.920138 \\\\ 0.270598 \\\\ -2.484280 \\\\ 2.671536 \\end{pmatrix} = \\begin{pmatrix} 6.453322 \\\\ 6.154414 \\\\ 2.363097 \\\\ 9.942639 \\end{pmatrix} = B^* $$"
      ],
      "text/plain": [
       "<IPython.core.display.Markdown object>"
      ]
     },
     "metadata": {},
     "output_type": "display_data"
    },
    {
     "data": {
      "text/markdown": [
       "$$ B =  \\begin{pmatrix} 6.453322 \\\\ 6.154414 \\\\ 2.363097 \\\\ 9.942639 \\end{pmatrix} \\stackrel{?}{=} \\begin{pmatrix} 6.453322 \\\\ 6.154414 \\\\ 2.363097 \\\\ 9.942639 \\end{pmatrix} = B^* $$"
      ],
      "text/plain": [
       "<IPython.core.display.Markdown object>"
      ]
     },
     "metadata": {},
     "output_type": "display_data"
    },
    {
     "data": {
      "text/markdown": [
       "$$ B - B^* =  \\begin{pmatrix}\n",
       "2.6645352591003757e-15\\\\\n",
       "2.6645352591003757e-15\\\\\n",
       "7.283063041541027e-14\\\\\n",
       "-7.815970093361102e-14\n",
       "\\end{pmatrix} $$"
      ],
      "text/plain": [
       "<IPython.core.display.Markdown object>"
      ]
     },
     "metadata": {},
     "output_type": "display_data"
    }
   ],
   "source": [
    "def SingleGauss(A: Matrix, B: Matrix, n: int) -> Matrix:\n",
    "    A_ = A.copy()\n",
    "    B_ = B.copy()\n",
    "    X = [[0] for _ in range(n)]\n",
    "    for k in range(n):\n",
    "        for j in range(k+1, n):\n",
    "            d = A_[j][k] / A_[k][k]\n",
    "            for i in range(k, n):\n",
    "                A_[j][i] = A_[j][i] - d * A_[k][i]\n",
    "            B_[j] -= d * B_[k][0]\n",
    "    for k in range(n-1, -1, -1):\n",
    "        d = 0\n",
    "        for j in range(k, n):\n",
    "            s = A_[k][j] * X[j][0]\n",
    "            d += s\n",
    "        X[k][0] = (B_[k][0] - d) / A_[k][k]\n",
    "    return Matrix(np.array(X))\n",
    "\n",
    "\n",
    "print_system_output(A, B, SingleGauss(A, B, n), n)\n"
   ]
  },
  {
   "cell_type": "markdown",
   "metadata": {},
   "source": [
    "### Решение методом Гаусса с выбором главного элемента"
   ]
  },
  {
   "cell_type": "code",
   "execution_count": 35,
   "metadata": {},
   "outputs": [
    {
     "data": {
      "text/markdown": [
       "$$ X^* =  \\begin{pmatrix}\n",
       "x^*_{1}\\\\\n",
       "x^*_{2}\\\\\n",
       "x^*_{3}\\\\\n",
       "x^*_{4}\n",
       "\\end{pmatrix} = \\begin{pmatrix} 0.920138 \\\\ 0.270598 \\\\ -2.484280 \\\\ 2.671536 \\end{pmatrix} $$"
      ],
      "text/plain": [
       "<IPython.core.display.Markdown object>"
      ]
     },
     "metadata": {},
     "output_type": "display_data"
    },
    {
     "data": {
      "text/markdown": [
       "$$ A \\times X^* =  \\begin{pmatrix} 0.309521 & 4.328177 & 6.041022 & 7.488171 \\\\ 9.835131 & 8.308046 & 2.306726 & 0.219779 \\\\ 9.387457 & 7.985897 & 5.687012 & 2.130799 \\\\ 7.847413 & 2.756732 & 7.900442 & 8.086316 \\end{pmatrix} \\begin{pmatrix} 0.920138 \\\\ 0.270598 \\\\ -2.484280 \\\\ 2.671536 \\end{pmatrix} = \\begin{pmatrix} 6.453322 \\\\ 6.154414 \\\\ 2.363097 \\\\ 9.942639 \\end{pmatrix} = B^* $$"
      ],
      "text/plain": [
       "<IPython.core.display.Markdown object>"
      ]
     },
     "metadata": {},
     "output_type": "display_data"
    },
    {
     "data": {
      "text/markdown": [
       "$$ B =  \\begin{pmatrix} 6.453322 \\\\ 6.154414 \\\\ 2.363097 \\\\ 9.942639 \\end{pmatrix} \\stackrel{?}{=} \\begin{pmatrix} 6.453322 \\\\ 6.154414 \\\\ 2.363097 \\\\ 9.942639 \\end{pmatrix} = B^* $$"
      ],
      "text/plain": [
       "<IPython.core.display.Markdown object>"
      ]
     },
     "metadata": {},
     "output_type": "display_data"
    },
    {
     "data": {
      "text/markdown": [
       "$$ B - B^* =  \\begin{pmatrix}\n",
       "2.6645352591003757e-15\\\\\n",
       "0.0\\\\\n",
       "1.7763568394002505e-15\\\\\n",
       "3.552713678800501e-15\n",
       "\\end{pmatrix} $$"
      ],
      "text/plain": [
       "<IPython.core.display.Markdown object>"
      ]
     },
     "metadata": {},
     "output_type": "display_data"
    }
   ],
   "source": [
    "def ModifiedGauss(A: Matrix, B: Matrix, n: int) -> Matrix:\n",
    "    AB = append(A, B)\n",
    "    X = [[0] for _ in range(n)]\n",
    "    for k in range(n):\n",
    "        p = k # главный элемент\n",
    "        for m in range(k+1, n):\n",
    "            if abs(AB[p][k]) < abs(AB[m][k]):\n",
    "                p = m # индекс строки, содержащей максимальный элемент в столбце\n",
    "        AB.inverse_rows(k, p) # перестановка строк\n",
    "        for m in range(k+1, n):\n",
    "            c = AB[m][k] / AB[k][k]\n",
    "            for i in range(n+1):\n",
    "                AB[m][i] -= c * AB[k][i]\n",
    "        X[n-1][0] = AB[n-1][n] / AB[n-1][n-1]\n",
    "        for k in range(n-1, -1, -1):\n",
    "            s = 0\n",
    "            for i in range(k+1, n):\n",
    "                s += AB[k][i] * X[i][0]\n",
    "            X[k][0] = (AB[k][n] - s) / AB[k][k]\n",
    "    return Matrix(np.array(X))\n",
    "\n",
    "print_system_output(A, B, ModifiedGauss(A, B, n), n)"
   ]
  }
 ],
 "metadata": {
  "kernelspec": {
   "display_name": "Python 3.9.13 64-bit (microsoft store)",
   "language": "python",
   "name": "python3"
  },
  "language_info": {
   "codemirror_mode": {
    "name": "ipython",
    "version": 3
   },
   "file_extension": ".py",
   "mimetype": "text/x-python",
   "name": "python",
   "nbconvert_exporter": "python",
   "pygments_lexer": "ipython3",
   "version": "3.9.13"
  },
  "orig_nbformat": 4,
  "vscode": {
   "interpreter": {
    "hash": "a5a87ee616be0254e3f1af9223138e3faeac65b2c9d91bc22a9fc5a4a8bd8eb0"
   }
  }
 },
 "nbformat": 4,
 "nbformat_minor": 2
}
