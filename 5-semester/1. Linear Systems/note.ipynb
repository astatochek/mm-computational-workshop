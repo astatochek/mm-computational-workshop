{
 "cells": [
  {
   "cell_type": "markdown",
   "metadata": {},
   "source": [
    "# Задание 1. Прямые методы решения линейных систем"
   ]
  },
  {
   "cell_type": "code",
   "execution_count": 34,
   "metadata": {},
   "outputs": [],
   "source": [
    "from latexifier import latexify\n",
    "from IPython.display import display, Markdown\n",
    "import numpy as np\n",
    "from typing import Callable, List, Tuple\n",
    "import warnings\n",
    "warnings.filterwarnings('ignore')"
   ]
  },
  {
   "cell_type": "code",
   "execution_count": 35,
   "metadata": {},
   "outputs": [],
   "source": [
    "class Matrix(np.ndarray):\n",
    "    \"\"\"extends np.ndarray\"\"\"\n",
    "\n",
    "    def __new__(cls, input_array):\n",
    "        obj = np.asarray(input_array).view(cls)\n",
    "        return obj\n",
    "\n",
    "    def inverse_rows(self, i: int, j: int):\n",
    "        \"\"\"Swaps i-th and j-th rows of a matrix\"\"\"\n",
    "        self[i], self[j] = self[j].copy(), self[i].copy()\n",
    "\n",
    "    def inverse_cols(self, i: int, j: int):\n",
    "        \"\"\"Swaps i-th and j-th columns of a matrix\"\"\"\n",
    "        self = self.transpose()\n",
    "        self.inverse_rows(i, j)\n",
    "        self = self.transpose()\n",
    "    \n",
    "    def tex(self) -> str:\n",
    "        \"\"\"Latexifies the matrix rounding up values up to 6 decimal values\"\"\"\n",
    "        return latexify(self)\n",
    "\n",
    "def append(M: np.ndarray, N: np.ndarray) -> Matrix:\n",
    "    \"\"\"Appends two numpy arrays with axis=1\"\"\"\n",
    "    return Matrix(np.append(arr=np.asarray(M), values=N, axis=1))\n",
    "\n",
    "def print_tex(*argv) -> None:\n",
    "    \"\"\"Displays a LaTex Markdown output\"\"\"\n",
    "    res = ' '.join(['$$'] + [arg for arg in argv] + ['$$'])\n",
    "    display(Markdown(res))\n",
    "\n",
    "def get_latex_column(arg: str, n: int) -> str:\n",
    "    \"\"\"Prepares a string with LaTex syntax for a column of {arg} with indeces form 1 to {n}\"\"\"\n",
    "    res = [r\"\"\"\\begin{pmatrix}\"\"\", \"\\n\"]\n",
    "    for i in range(n):\n",
    "        line = arg + \"_{\" + str(i+1) + \"}\" + (r\"\\\\\" if i != n-1 else \"\") + \"\\n\"\n",
    "        res.append(line)\n",
    "    res.append(r\"\"\"\\end{pmatrix}\"\"\")\n",
    "    return ''.join(res)\n",
    "\n",
    "def get_exact_column(col: Matrix, n: int) -> str:\n",
    "    \"\"\"Prepares a string with LaTex syntax for a column of {col} elements\"\"\"\n",
    "    res = [r\"\"\"\\begin{pmatrix}\"\"\", \"\\n\"]\n",
    "    for i in range(n):\n",
    "        line = str(float(col[i][0])) + (r\"\\\\\" if i != n-1 else \"\") + \"\\n\"\n",
    "        res.append(line)\n",
    "    res.append(r\"\"\"\\end{pmatrix}\"\"\")\n",
    "    return ''.join(res)\n",
    "\n",
    "def print_system_output(A: Matrix, B: Matrix, X: Matrix, n: int) -> None:\n",
    "    \"\"\"Oupputs the result of solving a linear equation\"\"\"\n",
    "    B_ = np.matmul(A, X)\n",
    "    print_tex('X^* = ', get_latex_column(\"x^*\", n), '=', X.tex())\n",
    "    print_tex(r'A \\times X^* = ', A.tex(), X.tex(), '=', B_.tex(), '= B^*')\n",
    "    print_tex('B = ', get_exact_column(B, n), r'\\stackrel{?}{=}', get_exact_column(B_, n), '= B^*')\n",
    "    print_tex(r'B - B^* = ', get_exact_column(B - B_, n))\n"
   ]
  },
  {
   "cell_type": "code",
   "execution_count": 36,
   "metadata": {},
   "outputs": [
    {
     "data": {
      "text/markdown": [
       "$$ A =  \\begin{pmatrix} 5.222372 & 8.384629 & 8.296766 & 0.638982 \\\\ 1.928219 & 6.992132 & 6.386559 & 5.102684 \\\\ 1.827392 & 2.611487 & 9.924339 & 3.280103 \\\\ 1.818859 & 8.605652 & 0.065562 & 6.859980 \\end{pmatrix} ,~~ B =  \\begin{pmatrix} 1.691335 \\\\ 7.379943 \\\\ 5.782934 \\\\ 3.799967 \\end{pmatrix} $$"
      ],
      "text/plain": [
       "<IPython.core.display.Markdown object>"
      ]
     },
     "metadata": {},
     "output_type": "display_data"
    },
    {
     "data": {
      "text/markdown": [
       "$$ \\begin{pmatrix} 5.222372 & 8.384629 & 8.296766 & 0.638982 \\\\ 1.928219 & 6.992132 & 6.386559 & 5.102684 \\\\ 1.827392 & 2.611487 & 9.924339 & 3.280103 \\\\ 1.818859 & 8.605652 & 0.065562 & 6.859980 \\end{pmatrix} \\begin{pmatrix}\n",
       "x_{1}\\\\\n",
       "x_{2}\\\\\n",
       "x_{3}\\\\\n",
       "x_{4}\n",
       "\\end{pmatrix} = \\begin{pmatrix} 1.691335 \\\\ 7.379943 \\\\ 5.782934 \\\\ 3.799967 \\end{pmatrix} $$"
      ],
      "text/plain": [
       "<IPython.core.display.Markdown object>"
      ]
     },
     "metadata": {},
     "output_type": "display_data"
    }
   ],
   "source": [
    "n = int(input()) # Размерность матрицы A\n",
    "A = Matrix(np.random.rand(n, n) * 10)\n",
    "B = Matrix(np.random.rand(n, 1) * 10)\n",
    "print_tex('A = ', A.tex(), ',~~', 'B = ', B.tex())\n",
    "print_tex(A.tex(), get_latex_column('x', n), '=', B.tex())"
   ]
  },
  {
   "cell_type": "markdown",
   "metadata": {},
   "source": [
    "### Решение методом Гаусса единственного деления"
   ]
  },
  {
   "cell_type": "code",
   "execution_count": 37,
   "metadata": {},
   "outputs": [
    {
     "data": {
      "text/markdown": [
       "$$ X^* =  \\begin{pmatrix}\n",
       "x^*_{1}\\\\\n",
       "x^*_{2}\\\\\n",
       "x^*_{3}\\\\\n",
       "x^*_{4}\n",
       "\\end{pmatrix} = \\begin{pmatrix} -3.007789 \\\\ 1.221092 \\\\ 0.877614 \\\\ -0.188794 \\end{pmatrix} $$"
      ],
      "text/plain": [
       "<IPython.core.display.Markdown object>"
      ]
     },
     "metadata": {},
     "output_type": "display_data"
    },
    {
     "data": {
      "text/markdown": [
       "$$ A \\times X^* =  \\begin{pmatrix} 5.222372 & 8.384629 & 8.296766 & 0.638982 \\\\ 1.928219 & 6.992132 & 6.386559 & 5.102684 \\\\ 1.827392 & 2.611487 & 9.924339 & 3.280103 \\\\ 1.818859 & 8.605652 & 0.065562 & 6.859980 \\end{pmatrix} \\begin{pmatrix} -3.007789 \\\\ 1.221092 \\\\ 0.877614 \\\\ -0.188794 \\end{pmatrix} = \\begin{pmatrix} 1.691335 \\\\ 7.379943 \\\\ 5.782934 \\\\ 3.799967 \\end{pmatrix} = B^* $$"
      ],
      "text/plain": [
       "<IPython.core.display.Markdown object>"
      ]
     },
     "metadata": {},
     "output_type": "display_data"
    },
    {
     "data": {
      "text/markdown": [
       "$$ B =  \\begin{pmatrix}\n",
       "1.6913346217988412\\\\\n",
       "7.379942983393452\\\\\n",
       "5.782934368203914\\\\\n",
       "3.7999666293549836\n",
       "\\end{pmatrix} \\stackrel{?}{=} \\begin{pmatrix}\n",
       "1.6913346217988412\\\\\n",
       "7.379942983393451\\\\\n",
       "5.782934368203914\\\\\n",
       "3.7999666293549845\n",
       "\\end{pmatrix} = B^* $$"
      ],
      "text/plain": [
       "<IPython.core.display.Markdown object>"
      ]
     },
     "metadata": {},
     "output_type": "display_data"
    },
    {
     "data": {
      "text/markdown": [
       "$$ B - B^* =  \\begin{pmatrix}\n",
       "0.0\\\\\n",
       "8.881784197001252e-16\\\\\n",
       "0.0\\\\\n",
       "-8.881784197001252e-16\n",
       "\\end{pmatrix} $$"
      ],
      "text/plain": [
       "<IPython.core.display.Markdown object>"
      ]
     },
     "metadata": {},
     "output_type": "display_data"
    }
   ],
   "source": [
    "def SingleGauss(A: Matrix, B: Matrix, n: int) -> Matrix:\n",
    "    A_ = A.copy()\n",
    "    B_ = B.copy()\n",
    "    X = [[0] for _ in range(n)]\n",
    "    for k in range(n):\n",
    "        for j in range(k+1, n):\n",
    "            d = A_[j][k] / A_[k][k]\n",
    "            for i in range(k, n):\n",
    "                A_[j][i] = A_[j][i] - d * A_[k][i]\n",
    "            B_[j] -= d * B_[k][0]\n",
    "    for k in range(n-1, -1, -1):\n",
    "        d = 0\n",
    "        for j in range(k, n):\n",
    "            s = A_[k][j] * X[j][0]\n",
    "            d += s\n",
    "        X[k][0] = (B_[k][0] - d) / A_[k][k]\n",
    "    return Matrix(np.array(X))\n",
    "\n",
    "\n",
    "print_system_output(A, B, SingleGauss(A, B, n), n)\n"
   ]
  },
  {
   "cell_type": "markdown",
   "metadata": {},
   "source": [
    "### Решение методом Гаусса с выбором главного элемента"
   ]
  },
  {
   "cell_type": "code",
   "execution_count": 38,
   "metadata": {},
   "outputs": [
    {
     "data": {
      "text/markdown": [
       "$$ X^* =  \\begin{pmatrix}\n",
       "x^*_{1}\\\\\n",
       "x^*_{2}\\\\\n",
       "x^*_{3}\\\\\n",
       "x^*_{4}\n",
       "\\end{pmatrix} = \\begin{pmatrix} -3.007789 \\\\ 1.221092 \\\\ 0.877614 \\\\ -0.188794 \\end{pmatrix} $$"
      ],
      "text/plain": [
       "<IPython.core.display.Markdown object>"
      ]
     },
     "metadata": {},
     "output_type": "display_data"
    },
    {
     "data": {
      "text/markdown": [
       "$$ A \\times X^* =  \\begin{pmatrix} 5.222372 & 8.384629 & 8.296766 & 0.638982 \\\\ 1.928219 & 6.992132 & 6.386559 & 5.102684 \\\\ 1.827392 & 2.611487 & 9.924339 & 3.280103 \\\\ 1.818859 & 8.605652 & 0.065562 & 6.859980 \\end{pmatrix} \\begin{pmatrix} -3.007789 \\\\ 1.221092 \\\\ 0.877614 \\\\ -0.188794 \\end{pmatrix} = \\begin{pmatrix} 1.691335 \\\\ 7.379943 \\\\ 5.782934 \\\\ 3.799967 \\end{pmatrix} = B^* $$"
      ],
      "text/plain": [
       "<IPython.core.display.Markdown object>"
      ]
     },
     "metadata": {},
     "output_type": "display_data"
    },
    {
     "data": {
      "text/markdown": [
       "$$ B =  \\begin{pmatrix}\n",
       "1.6913346217988412\\\\\n",
       "7.379942983393452\\\\\n",
       "5.782934368203914\\\\\n",
       "3.7999666293549836\n",
       "\\end{pmatrix} \\stackrel{?}{=} \\begin{pmatrix}\n",
       "1.691334621798843\\\\\n",
       "7.379942983393453\\\\\n",
       "5.7829343682039145\\\\\n",
       "3.7999666293549836\n",
       "\\end{pmatrix} = B^* $$"
      ],
      "text/plain": [
       "<IPython.core.display.Markdown object>"
      ]
     },
     "metadata": {},
     "output_type": "display_data"
    },
    {
     "data": {
      "text/markdown": [
       "$$ B - B^* =  \\begin{pmatrix}\n",
       "-1.7763568394002505e-15\\\\\n",
       "-8.881784197001252e-16\\\\\n",
       "-8.881784197001252e-16\\\\\n",
       "0.0\n",
       "\\end{pmatrix} $$"
      ],
      "text/plain": [
       "<IPython.core.display.Markdown object>"
      ]
     },
     "metadata": {},
     "output_type": "display_data"
    }
   ],
   "source": [
    "def ModifiedGauss(A: Matrix, B: Matrix, n: int) -> Matrix:\n",
    "    AB = append(A, B)\n",
    "    X = [[0] for _ in range(n)]\n",
    "    for k in range(n):\n",
    "        p = k # главный элемент\n",
    "        for m in range(k+1, n):\n",
    "            if abs(AB[p][k]) < abs(AB[m][k]):\n",
    "                p = m # индекс строки, содержащей максимальный элемент в столбце\n",
    "        AB.inverse_rows(k, p) # перестановка строк\n",
    "        for m in range(k+1, n):\n",
    "            c = AB[m][k] / AB[k][k]\n",
    "            for i in range(n+1):\n",
    "                AB[m][i] -= c * AB[k][i]\n",
    "        X[n-1][0] = AB[n-1][n] / AB[n-1][n-1]\n",
    "        for k in range(n-1, -1, -1):\n",
    "            s = 0\n",
    "            for i in range(k+1, n):\n",
    "                s += AB[k][i] * X[i][0]\n",
    "            X[k][0] = (AB[k][n] - s) / AB[k][k]\n",
    "    return Matrix(np.array(X))\n",
    "\n",
    "print_system_output(A, B, ModifiedGauss(A, B, n), n)"
   ]
  },
  {
   "cell_type": "markdown",
   "metadata": {},
   "source": [
    "### Решение методом $LU$-разложения"
   ]
  },
  {
   "cell_type": "code",
   "execution_count": 39,
   "metadata": {},
   "outputs": [
    {
     "data": {
      "text/markdown": [
       "$$ L =  \\begin{pmatrix} 1 & 0 & 0 & 0 \\\\ 0.369223 & 1 & 0 & 0 \\\\ 0.349916 & -0.082752 & 1 & 0 \\\\ 0.348282 & 1.459175 & -1.051674 & 1 \\end{pmatrix} $$"
      ],
      "text/plain": [
       "<IPython.core.display.Markdown object>"
      ]
     },
     "metadata": {},
     "output_type": "display_data"
    },
    {
     "data": {
      "text/markdown": [
       "$$ U =  \\begin{pmatrix} 5.222372 & 8.384629 & 8.296766 & 0.638982 \\\\ 0 & 3.896336 & 3.323205 & 4.866757 \\\\ 0 & 0 & 7.296168 & 3.459247 \\\\ 0 & 0 & 0 & 3.173983 \\end{pmatrix} $$"
      ],
      "text/plain": [
       "<IPython.core.display.Markdown object>"
      ]
     },
     "metadata": {},
     "output_type": "display_data"
    },
    {
     "data": {
      "text/markdown": [
       "$$ L \\times U =  \\begin{pmatrix} 5.222372 & 8.384629 & 8.296766 & 0.638982 \\\\ 1.928219 & 6.992132 & 6.386559 & 5.102684 \\\\ 1.827392 & 2.611487 & 9.924339 & 3.280103 \\\\ 1.818859 & 8.605652 & 0.065562 & 6.859980 \\end{pmatrix} \\stackrel{?}{=} \\begin{pmatrix} 5.222372 & 8.384629 & 8.296766 & 0.638982 \\\\ 1.928219 & 6.992132 & 6.386559 & 5.102684 \\\\ 1.827392 & 2.611487 & 9.924339 & 3.280103 \\\\ 1.818859 & 8.605652 & 0.065562 & 6.859980 \\end{pmatrix} = A $$"
      ],
      "text/plain": [
       "<IPython.core.display.Markdown object>"
      ]
     },
     "metadata": {},
     "output_type": "display_data"
    }
   ],
   "source": [
    "def GetLU(A: Matrix, n: int) -> Tuple[Matrix, Matrix]:\n",
    "    L = Matrix(np.zeros(shape=(n, n)))\n",
    "    U = A.copy()\n",
    "    for i in range(n):\n",
    "        for j in range(i, n):\n",
    "            L[j][i] = U[j][i] / U[i][i]\n",
    "    for k in range(1, n):\n",
    "        for i in range(k-1, n):\n",
    "            for j in range(i, n):\n",
    "                L[j][i] = U[j][i] / U[i][i]\n",
    "        for i in range(k, n):\n",
    "            for j in range(k-1, n):\n",
    "                U[i][j] = U[i][j] - L[i][k-1] * U[k-1][j]\n",
    "    return L, U\n",
    "\n",
    "L, U = GetLU(A, n)\n",
    "print_tex('L = ', L.tex())\n",
    "print_tex('U = ', U.tex())\n",
    "print_tex(r'L \\times U = ', (np.matmul(L, U)).tex(), r'\\stackrel{?}{=}', A.tex(), '= A')"
   ]
  },
  {
   "cell_type": "code",
   "execution_count": 40,
   "metadata": {},
   "outputs": [
    {
     "data": {
      "text/markdown": [
       "$$ X^* =  \\begin{pmatrix}\n",
       "x^*_{1}\\\\\n",
       "x^*_{2}\\\\\n",
       "x^*_{3}\\\\\n",
       "x^*_{4}\n",
       "\\end{pmatrix} = \\begin{pmatrix} -3.007789 \\\\ 1.221092 \\\\ 0.877614 \\\\ -0.188794 \\end{pmatrix} $$"
      ],
      "text/plain": [
       "<IPython.core.display.Markdown object>"
      ]
     },
     "metadata": {},
     "output_type": "display_data"
    },
    {
     "data": {
      "text/markdown": [
       "$$ A \\times X^* =  \\begin{pmatrix} 5.222372 & 8.384629 & 8.296766 & 0.638982 \\\\ 1.928219 & 6.992132 & 6.386559 & 5.102684 \\\\ 1.827392 & 2.611487 & 9.924339 & 3.280103 \\\\ 1.818859 & 8.605652 & 0.065562 & 6.859980 \\end{pmatrix} \\begin{pmatrix} -3.007789 \\\\ 1.221092 \\\\ 0.877614 \\\\ -0.188794 \\end{pmatrix} = \\begin{pmatrix} 1.691335 \\\\ 7.379943 \\\\ 5.782934 \\\\ 3.799967 \\end{pmatrix} = B^* $$"
      ],
      "text/plain": [
       "<IPython.core.display.Markdown object>"
      ]
     },
     "metadata": {},
     "output_type": "display_data"
    },
    {
     "data": {
      "text/markdown": [
       "$$ B =  \\begin{pmatrix}\n",
       "1.6913346217988412\\\\\n",
       "7.379942983393452\\\\\n",
       "5.782934368203914\\\\\n",
       "3.7999666293549836\n",
       "\\end{pmatrix} \\stackrel{?}{=} \\begin{pmatrix}\n",
       "1.6913346217988412\\\\\n",
       "7.379942983393453\\\\\n",
       "5.782934368203913\\\\\n",
       "3.7999666293549845\n",
       "\\end{pmatrix} = B^* $$"
      ],
      "text/plain": [
       "<IPython.core.display.Markdown object>"
      ]
     },
     "metadata": {},
     "output_type": "display_data"
    },
    {
     "data": {
      "text/markdown": [
       "$$ B - B^* =  \\begin{pmatrix}\n",
       "0.0\\\\\n",
       "-8.881784197001252e-16\\\\\n",
       "8.881784197001252e-16\\\\\n",
       "-8.881784197001252e-16\n",
       "\\end{pmatrix} $$"
      ],
      "text/plain": [
       "<IPython.core.display.Markdown object>"
      ]
     },
     "metadata": {},
     "output_type": "display_data"
    }
   ],
   "source": [
    "Y_ = SingleGauss(L, B, n)\n",
    "X_ = SingleGauss(U, Y_, n)\n",
    "print_system_output(A, B, X_, n)"
   ]
  },
  {
   "cell_type": "markdown",
   "metadata": {},
   "source": [
    "### Нахождение обратной к матрице $A$"
   ]
  },
  {
   "cell_type": "code",
   "execution_count": 41,
   "metadata": {},
   "outputs": [
    {
     "data": {
      "text/markdown": [
       "$$ A^{-1} =  \\begin{pmatrix} 0.223813 & -1.273561 & 0.628324 & 0.626037 \\\\ 0.005509 & 0.612143 & -0.396776 & -0.266127 \\\\ -0.020830 & 0.216308 & -0.020037 & -0.149376 \\\\ -0.066053 & -0.432311 & 0.331342 & 0.315062 \\end{pmatrix} $$"
      ],
      "text/plain": [
       "<IPython.core.display.Markdown object>"
      ]
     },
     "metadata": {},
     "output_type": "display_data"
    },
    {
     "data": {
      "text/markdown": [
       "$$ A \\times A^{-1} =  \\begin{pmatrix} 1 & 0 & 0 & 0 \\\\ 0 & 1 & 0 & 0 \\\\ 0 & 0 & 1 & 0 \\\\ 0 & 0 & 0 & 1 \\end{pmatrix} $$"
      ],
      "text/plain": [
       "<IPython.core.display.Markdown object>"
      ]
     },
     "metadata": {},
     "output_type": "display_data"
    },
    {
     "data": {
      "text/markdown": [
       "$$ ||A||_1 * ||A^{-1}||_1 =  67.39752702142785 $$"
      ],
      "text/plain": [
       "<IPython.core.display.Markdown object>"
      ]
     },
     "metadata": {},
     "output_type": "display_data"
    }
   ],
   "source": [
    "def inverse(A: Matrix, n: int) -> Matrix:\n",
    "    R = Matrix(np.zeros(shape=(n, 1)))\n",
    "    A_ = Matrix(np.zeros(shape=(n, n)))\n",
    "    for i in range(n):\n",
    "        R[i][0] = 1.\n",
    "        S = SingleGauss(A, R, n)\n",
    "        for j in range(n):\n",
    "            A_[j][i] = S[j][0]\n",
    "        R[i][0] = 0\n",
    "    return A_\n",
    "\n",
    "A_ = inverse(A, n)\n",
    "print_tex(r'A^{-1} = ', A_.tex())\n",
    "print_tex(r'A \\times A^{-1} = ', (np.matmul(A, A_)).tex())\n",
    "\n",
    "def norm(M: Matrix) -> float:\n",
    "    return max([sum([abs(M[i][j]) for i in range(n)]) for j in range(n)])\n",
    "\n",
    "print_tex(r'||A||_1 * ||A^{-1}||_1 = ', str(norm(A) * norm(A_)))\n"
   ]
  }
 ],
 "metadata": {
  "kernelspec": {
   "display_name": "Python 3.9.13 64-bit (microsoft store)",
   "language": "python",
   "name": "python3"
  },
  "language_info": {
   "codemirror_mode": {
    "name": "ipython",
    "version": 3
   },
   "file_extension": ".py",
   "mimetype": "text/x-python",
   "name": "python",
   "nbconvert_exporter": "python",
   "pygments_lexer": "ipython3",
   "version": "3.9.13"
  },
  "orig_nbformat": 4,
  "vscode": {
   "interpreter": {
    "hash": "a5a87ee616be0254e3f1af9223138e3faeac65b2c9d91bc22a9fc5a4a8bd8eb0"
   }
  }
 },
 "nbformat": 4,
 "nbformat_minor": 2
}
