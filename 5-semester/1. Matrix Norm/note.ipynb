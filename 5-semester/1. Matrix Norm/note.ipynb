{
 "cells": [
  {
   "cell_type": "markdown",
   "metadata": {},
   "source": [
    "# Задание 1. Прямые методы решения линейных систем"
   ]
  },
  {
   "cell_type": "code",
   "execution_count": 4,
   "metadata": {},
   "outputs": [],
   "source": [
    "from latexifier import latexify\n",
    "from IPython.display import display, Markdown\n",
    "import numpy as np\n",
    "from typing import Callable, List\n",
    "import warnings\n",
    "warnings.filterwarnings('ignore')"
   ]
  },
  {
   "cell_type": "code",
   "execution_count": 75,
   "metadata": {},
   "outputs": [],
   "source": [
    "class Matrix(np.ndarray):\n",
    "    \"\"\"extends np.ndarray\"\"\"\n",
    "\n",
    "    def __new__(cls, input_array):\n",
    "        obj = np.asarray(input_array).view(cls)\n",
    "        return obj\n",
    "\n",
    "    def inverse_rows(self, i: int, j: int):\n",
    "        \"\"\"Swaps i-th and j-th rows of a matrix\"\"\"\n",
    "        self[i], self[j] = self[j].copy(), self[i].copy()\n",
    "\n",
    "    def inverse_cols(self, i: int, j: int):\n",
    "        \"\"\"Swaps i-th and j-th columns of a matrix\"\"\"\n",
    "        self = self.transpose()\n",
    "        self.inverse_rows(i, j)\n",
    "        self = self.transpose()\n",
    "    \n",
    "    def tex(self) -> str:\n",
    "        \"\"\"Latexifies the matrix rounding up values up to 6 decimal values\"\"\"\n",
    "        m = self.copy()\n",
    "        return latexify(self)\n",
    "\n",
    "def append(M: np.ndarray, N: np.ndarray) -> Matrix:\n",
    "    \"\"\"Appends two numpy arrays with axis=1\"\"\"\n",
    "    return Matrix(np.append(arr=np.asarray(M), values=N, axis=1))\n",
    "\n",
    "def print_markdown(*argv):\n",
    "    \"\"\"Displays a Markdown string\"\"\"\n",
    "    res = ' '.join(['$$'] + [arg for arg in argv] + ['$$'])\n",
    "    display(Markdown(res))\n",
    "\n",
    "def get_latex_column(arg: str, n: int) -> str:\n",
    "    \"\"\"Prepares a string with LaTex syntax for a columt of {arg} with indeces form 1 to {n}\"\"\"\n",
    "    res = [r\"\"\"\\begin{pmatrix}\"\"\", \"\\n\"]\n",
    "    for i in range(n):\n",
    "        line = arg + \"_{\" + str(i+1) + \"}\" + (r\"\\\\\" if i != n-1 else \"\") + \"\\n\"\n",
    "        res.append(line)\n",
    "    res.append(r\"\"\"\\end{pmatrix}\"\"\")\n",
    "    return ''.join(res)\n"
   ]
  },
  {
   "cell_type": "code",
   "execution_count": 63,
   "metadata": {},
   "outputs": [
    {
     "data": {
      "text/markdown": [
       "$$ \\begin{pmatrix}\n",
       "x_{1}\\\\\n",
       "x_{2}\\\\\n",
       "x_{3}\\\\\n",
       "x_{4}\\\\\n",
       "x_{5}\n",
       "\\end{pmatrix} \\begin{pmatrix}\n",
       "x_{1}\\\\\n",
       "x_{2}\\\\\n",
       "x_{3}\\\\\n",
       "x_{4}\\\\\n",
       "x_{5}\n",
       "\\end{pmatrix} $$"
      ],
      "text/plain": [
       "<IPython.core.display.Markdown object>"
      ]
     },
     "metadata": {},
     "output_type": "display_data"
    }
   ],
   "source": [
    "s = get_latex_column(\"x\", 5)\n",
    "print_markdown(s, s)"
   ]
  },
  {
   "cell_type": "markdown",
   "metadata": {},
   "source": [
    "## 11.1. Схема Гаусса единственного деления"
   ]
  },
  {
   "cell_type": "markdown",
   "metadata": {},
   "source": [
    "Пусть требуется найти решение системы $(1) :$\n",
    "$\\begin{cases}\n",
    "a_{11}x_1 + a_{12}x_2 + \\dots + a_{1n}x_n = a_{1n+1} \\\\\n",
    "a_{21}x_1 + a_{22}x_2 + \\dots + a_{2n}x_n = a_{2n+1} \\\\\n",
    "\\dots \\\\\n",
    "a_{n1}x_1 + a_{n2}x_2 + \\dots + a_{nn}x_n = a_{nn+1}\n",
    "\\end{cases}$\n",
    "\n",
    "Альтарнативный вид системы уравнений $:$\n",
    "$\\begin{pmatrix} a_{11} & a_{12} & \\dots & a_{1n} \\\\ a_{21} & a_{22} & \\dots & a_{2n} \\\\ \\dots & \\dots & \\ddots & \\vdots \\\\ a_{n1} & a_{n2} & \\dots & a_{nn} \\end{pmatrix} \\begin{pmatrix} x_1 \\\\ x_2 \\\\ \\vdots \\\\ x_n \\end{pmatrix} = \\begin{pmatrix} a_{1n+1} \\\\ a_{2n+1} \\\\ \\vdots \\\\ a_{nn+1} \\end{pmatrix} $"
   ]
  },
  {
   "cell_type": "code",
   "execution_count": 79,
   "metadata": {},
   "outputs": [
    {
     "data": {
      "text/markdown": [
       "$$ \\begin{pmatrix} 7.439141 & 1.023102 & 8.995423 & 2.647606 \\\\ 7.412118 & 7.183387 & 0.259968 & 5.015531 \\\\ 8.560962 & 0.851391 & 0.786663 & 7.815219 \\\\ 3.187618 & 2.405368 & 7.071941 & 9.653040 \\end{pmatrix} \\begin{pmatrix}\n",
       "x_{1}\\\\\n",
       "x_{2}\\\\\n",
       "x_{3}\\\\\n",
       "x_{4}\n",
       "\\end{pmatrix} = \\begin{pmatrix} 5.494232 \\\\ 2.206854 \\\\ 0.174839 \\\\ 2.485316 \\end{pmatrix} $$"
      ],
      "text/plain": [
       "<IPython.core.display.Markdown object>"
      ]
     },
     "metadata": {},
     "output_type": "display_data"
    }
   ],
   "source": [
    "n = int(input()) # Размерность матрицы A\n",
    "A = Matrix(np.random.rand(n, n) * 10)\n",
    "B = Matrix(np.random.rand(n, 1) * 10)\n",
    "print_markdown(A.tex(), get_latex_column('x', n), '=', B.tex())"
   ]
  },
  {
   "cell_type": "markdown",
   "metadata": {},
   "source": [
    "### Решение методом Гаусса единственного деления"
   ]
  },
  {
   "cell_type": "code",
   "execution_count": 111,
   "metadata": {},
   "outputs": [
    {
     "data": {
      "text/markdown": [
       "$$ X^* =  \\begin{pmatrix}\n",
       "x^*_{1}\\\\\n",
       "x^*_{2}\\\\\n",
       "x^*_{3}\\\\\n",
       "x^*_{4}\n",
       "\\end{pmatrix} = \\begin{pmatrix} 0.167571 \\\\ 0.286047 \\\\ 0.511434 \\\\ -0.243831 \\end{pmatrix} $$"
      ],
      "text/plain": [
       "<IPython.core.display.Markdown object>"
      ]
     },
     "metadata": {},
     "output_type": "display_data"
    },
    {
     "data": {
      "text/markdown": [
       "$$ A \\times X^* =  \\begin{pmatrix} 7.439141 & 1.023102 & 8.995423 & 2.647606 \\\\ 7.412118 & 7.183387 & 0.259968 & 5.015531 \\\\ 8.560962 & 0.851391 & 0.786663 & 7.815219 \\\\ 3.187618 & 2.405368 & 7.071941 & 9.653040 \\end{pmatrix} \\begin{pmatrix} 0.167571 \\\\ 0.286047 \\\\ 0.511434 \\\\ -0.243831 \\end{pmatrix} = \\begin{pmatrix} 5.494232 \\\\ 2.206854 \\\\ 0.174839 \\\\ 2.485316 \\end{pmatrix} = B^* $$"
      ],
      "text/plain": [
       "<IPython.core.display.Markdown object>"
      ]
     },
     "metadata": {},
     "output_type": "display_data"
    },
    {
     "data": {
      "text/markdown": [
       "$$ B =  \\begin{pmatrix} 5.494232 \\\\ 2.206854 \\\\ 0.174839 \\\\ 2.485316 \\end{pmatrix} \\stackrel{?}{=} \\begin{pmatrix} 5.494232 \\\\ 2.206854 \\\\ 0.174839 \\\\ 2.485316 \\end{pmatrix} = B^* $$"
      ],
      "text/plain": [
       "<IPython.core.display.Markdown object>"
      ]
     },
     "metadata": {},
     "output_type": "display_data"
    },
    {
     "data": {
      "text/plain": [
       "Matrix([1.11022302e-15])"
      ]
     },
     "execution_count": 111,
     "metadata": {},
     "output_type": "execute_result"
    }
   ],
   "source": [
    "def SingleGauss(A: Matrix, B: Matrix, n: int) -> Matrix:\n",
    "    A_ = A.copy()\n",
    "    B_ = B.copy()\n",
    "    X = [[0] for _ in range(n)]\n",
    "    for k in range(n):\n",
    "        for j in range(k+1, n):\n",
    "            d = A_[j][k] / A_[k][k]\n",
    "            for i in range(k, n):\n",
    "                A_[j][i] = A_[j][i] - d * A_[k][i]\n",
    "            B_[j] -= d * B_[k][0]\n",
    "    for k in range(n-1, -1, -1):\n",
    "        d = 0\n",
    "        for j in range(k, n):\n",
    "            s = A_[k][j] * X[j][0]\n",
    "            d += s\n",
    "        X[k][0] = (B_[k][0] - d) / A_[k][k]\n",
    "    return Matrix(np.array(X))\n",
    "\n",
    "\n",
    "X = SingleGauss(A, B, n)\n",
    "print_markdown('X^* = ', get_latex_column(\"x^*\", n), '=', X.tex())\n",
    "print_markdown(r'A \\times X^* = ', A.tex(), X.tex(), '=', (np.matmul(A, X)).tex(), '= B^*')\n",
    "print_markdown('B = ', B.tex(), r'\\stackrel{?}{=}', (np.matmul(A, X)).tex(), '= B^*')\n",
    "max(B - np.matmul(A, X))\n"
   ]
  }
 ],
 "metadata": {
  "kernelspec": {
   "display_name": "Python 3.9.13 64-bit (microsoft store)",
   "language": "python",
   "name": "python3"
  },
  "language_info": {
   "codemirror_mode": {
    "name": "ipython",
    "version": 3
   },
   "file_extension": ".py",
   "mimetype": "text/x-python",
   "name": "python",
   "nbconvert_exporter": "python",
   "pygments_lexer": "ipython3",
   "version": "3.9.13"
  },
  "orig_nbformat": 4,
  "vscode": {
   "interpreter": {
    "hash": "a5a87ee616be0254e3f1af9223138e3faeac65b2c9d91bc22a9fc5a4a8bd8eb0"
   }
  }
 },
 "nbformat": 4,
 "nbformat_minor": 2
}
