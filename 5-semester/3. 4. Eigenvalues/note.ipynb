{
 "cells": [
  {
   "cell_type": "markdown",
   "metadata": {},
   "source": [
    "# Задания 3-4. Проблема собственных значений\n"
   ]
  },
  {
   "cell_type": "code",
   "execution_count": 1,
   "metadata": {},
   "outputs": [],
   "source": [
    "import warnings\n",
    "from typing import Any, Union, List, Tuple\n",
    "\n",
    "import numpy as np\n",
    "import pandas as pd\n",
    "from IPython.display import Latex, Markdown, display\n",
    "from latexifier import latexify\n",
    "\n",
    "warnings.filterwarnings('ignore')"
   ]
  },
  {
   "cell_type": "code",
   "execution_count": 2,
   "metadata": {},
   "outputs": [],
   "source": [
    "class matrix(np.ndarray):\n",
    "    \"\"\"extends `np.ndarray`\"\"\"\n",
    "\n",
    "    def __new__(cls, input_array):\n",
    "        obj = np.asarray(input_array).view(cls)\n",
    "        return obj\n",
    "\n",
    "    def inverse_rows(self, i: int, j: int):\n",
    "        \"\"\"Swaps i-th and j-th rows of a matrix\"\"\"\n",
    "        self[i], self[j] = self[j].copy(), self[i].copy()\n",
    "\n",
    "    def inverse_cols(self, i: int, j: int):\n",
    "        \"\"\"Swaps i-th and j-th columns of a matrix\"\"\"\n",
    "        self = self.transpose()\n",
    "        self.inverse_rows(i, j)\n",
    "        self = self.transpose()\n",
    "\n",
    "    def norm(self) -> float:\n",
    "        \"\"\"Calculates Matrix norm using `np.linalg.norm` with parameter `'fro'`\"\"\"\n",
    "        return np.linalg.norm(self, 'fro')\n",
    "\n",
    "    def inv(self) -> Any:\n",
    "        return matrix(np.linalg.inv(self))\n"
   ]
  },
  {
   "cell_type": "code",
   "execution_count": 3,
   "metadata": {},
   "outputs": [],
   "source": [
    "def print_tex(*argv) -> None:\n",
    "    \"\"\"Displays a LaTex Markdown output\"\"\"\n",
    "    res = ' '.join(['$$'] + [(latexify(arg) if isinstance(arg,\n",
    "                   np.ndarray) else str(arg)) for arg in argv] + ['$$'])\n",
    "    display(Markdown(res))\n",
    "\n",
    "\n",
    "def get_exact_column(col: matrix, n: int) -> str:\n",
    "    \"\"\"Prepares a string with LaTex syntax for a column of `col` elements\"\"\"\n",
    "    res = [r\"\"\"\\begin{pmatrix}\"\"\", \"\\n\"]\n",
    "    for i in range(n):\n",
    "        line = str(float(col[i][0])) + (r\"\\\\\" if i != n-1 else \"\") + \"\\n\"\n",
    "        res.append(line)\n",
    "    res.append(r\"\"\"\\end{pmatrix}\"\"\")\n",
    "    return ''.join(res)\n"
   ]
  },
  {
   "cell_type": "markdown",
   "metadata": {},
   "source": [
    "## Матрица: Вариант 12\n"
   ]
  },
  {
   "cell_type": "code",
   "execution_count": 4,
   "metadata": {},
   "outputs": [
    {
     "data": {
      "text/markdown": [
       "$$ A= \\begin{pmatrix} -1.711260 & -0.071700 & 1.236150 \\\\ -0.071700 & 1.340190 & 0.029030 \\\\ 1.236150 & 0.029030 & -1.712950 \\end{pmatrix} $$"
      ],
      "text/plain": [
       "<IPython.core.display.Markdown object>"
      ]
     },
     "metadata": {},
     "output_type": "display_data"
    }
   ],
   "source": [
    "n = 3\n",
    "A = matrix([\n",
    "    [-1.71126, -0.07170, 1.23615],\n",
    "    [-0.07170, 1.34019, 0.02903],\n",
    "    [1.23615, 0.02903, -1.71295]\n",
    "])\n",
    "print_tex('A=', A)\n"
   ]
  },
  {
   "cell_type": "code",
   "execution_count": 5,
   "metadata": {},
   "outputs": [],
   "source": [
    "def visualize_results(i: int, val: float, vec: matrix, A: matrix = A, n: int = n) -> None:\n",
    "    print_tex(f'\\lambda_{i} = ', val, f',~~ x_{i} = ', vec)\n",
    "    print_tex(f'A x_{i}=', get_exact_column(A @ vec, n), r'\\stackrel{?}{=}',\n",
    "          get_exact_column(val * vec, n), f'=\\lambda_{i} x_{i}')\n",
    "\n",
    "intermediate_results = {}\n",
    "\n",
    "def put_intermediate_result(name: str, val: float, col: matrix) -> None:\n",
    "\n",
    "    if name not in intermediate_results:\n",
    "        intermediate_results[name] = {\n",
    "            'Intermediate Values': [],\n",
    "            'Intermediate Columns': []\n",
    "        }\n",
    "        \n",
    "    vals = 'Intermediate Values'\n",
    "    cols = 'Intermediate Columns'\n",
    "    \n",
    "    intermediate_results[name][vals].append(val)\n",
    "    if len(intermediate_results[name][vals]) == 4:\n",
    "        intermediate_results[name][vals].pop(0)\n",
    "\n",
    "    intermediate_results[name][cols].append(col / col.norm())\n",
    "    if len(intermediate_results[name][cols]) == 4:\n",
    "        intermediate_results[name][cols].pop(0)\n"
   ]
  },
  {
   "cell_type": "markdown",
   "metadata": {},
   "source": [
    "## Задание: Вариант 4\n"
   ]
  },
  {
   "cell_type": "markdown",
   "metadata": {},
   "source": [
    "Найдем методом Якоби все собственные числа и собственные векторы с точностью $\\varepsilon = 0.000001$. Собственные вектора должны иметь единичную длину.\n"
   ]
  },
  {
   "cell_type": "code",
   "execution_count": 24,
   "metadata": {},
   "outputs": [
    {
     "data": {
      "text/markdown": [
       "$$ \\lambda_1 =  -0.47595471106935777 ,~~ x_1 =  \\begin{pmatrix} 0.707343 \\\\ -0.000000 \\\\ 0.706870 \\end{pmatrix} $$"
      ],
      "text/plain": [
       "<IPython.core.display.Markdown object>"
      ]
     },
     "metadata": {},
     "output_type": "display_data"
    },
    {
     "data": {
      "text/markdown": [
       "$$ A x_1= \\begin{pmatrix}\n",
       "-0.33665125090951264\\\\\n",
       "-0.030196247047396166\\\\\n",
       "-0.3364503224038047\n",
       "\\end{pmatrix} \\stackrel{?}{=} \\begin{pmatrix}\n",
       "-0.3366634632623245\\\\\n",
       "5.5181796674541806e-08\\\\\n",
       "-0.33643810648220324\n",
       "\\end{pmatrix} =\\lambda_1 x_1 $$"
      ],
      "text/plain": [
       "<IPython.core.display.Markdown object>"
      ]
     },
     "metadata": {},
     "output_type": "display_data"
    },
    {
     "data": {
      "text/markdown": [
       "$$ \\lambda_2 =  1.3413723396695043 ,~~ x_2 =  \\begin{pmatrix} -0.011734 \\\\ 0.999862 \\\\ 0.011742 \\end{pmatrix} $$"
      ],
      "text/plain": [
       "<IPython.core.display.Markdown object>"
      ]
     },
     "metadata": {},
     "output_type": "display_data"
    },
    {
     "data": {
      "text/markdown": [
       "$$ A x_2= \\begin{pmatrix}\n",
       "-0.03709593674267801\\\\\n",
       "1.3411875182711082\\\\\n",
       "-0.005591839725547202\n",
       "\\end{pmatrix} \\stackrel{?}{=} \\begin{pmatrix}\n",
       "-0.015739370255827022\\\\\n",
       "1.3411875182711082\\\\\n",
       "0.01575013295740321\n",
       "\\end{pmatrix} =\\lambda_2 x_2 $$"
      ],
      "text/plain": [
       "<IPython.core.display.Markdown object>"
      ]
     },
     "metadata": {},
     "output_type": "display_data"
    },
    {
     "data": {
      "text/markdown": [
       "$$ \\lambda_3 =  -2.9494376286001462 ,~~ x_3 =  \\begin{pmatrix} -0.706773 \\\\ -0.016600 \\\\ 0.707246 \\end{pmatrix} $$"
      ],
      "text/plain": [
       "<IPython.core.display.Markdown object>"
      ]
     },
     "metadata": {},
     "output_type": "display_data"
    },
    {
     "data": {
      "text/markdown": [
       "$$ A x_3= \\begin{pmatrix}\n",
       "2.084924057810798\\\\\n",
       "0.048960131719981856\\\\\n",
       "-2.085635916880715\n",
       "\\end{pmatrix} \\stackrel{?}{=} \\begin{pmatrix}\n",
       "2.0845817154195596\\\\\n",
       "0.048959920817116594\\\\\n",
       "-2.085978025506137\n",
       "\\end{pmatrix} =\\lambda_3 x_3 $$"
      ],
      "text/plain": [
       "<IPython.core.display.Markdown object>"
      ]
     },
     "metadata": {},
     "output_type": "display_data"
    }
   ],
   "source": [
    "eps = 1.e-6\n",
    "\n",
    "\n",
    "def jacobi(A: matrix = A, n: int = n, eps: float = eps) -> Tuple[List[float], List[matrix]]:\n",
    "    # матрица, столбцы которой будут собственными векторами\n",
    "    X = matrix(np.identity(n))\n",
    "    # A^(k)\n",
    "    A_ = A.copy()\n",
    "\n",
    "    iter = 0\n",
    "\n",
    "    while True:\n",
    "        flat_index = np.argmax(([[abs(A_[i][j]) if j > i else -1 for j in range(n)] for i in range(n)]))\n",
    "        # тут важно проставлять на j > i число меньше 0, потому что иначе при последней итерации оно умрет\n",
    "        i_, j_ = flat_index // n, flat_index % n\n",
    "\n",
    "        if abs(A_[i_][j_]) <= eps:\n",
    "            break\n",
    "\n",
    "        d = np.sqrt((A_[i_][i_] - A_[j_][j_])**2 + 4 * A_[i_][j_]**2)\n",
    "\n",
    "        c = np.sqrt(1 / 2 * (1 + abs(A_[i_][i_] - A_[j_][j_]) / d))\n",
    "\n",
    "        s = np.sign(A_[i_][j_] * (A_[i_][i_] - A_[j_][j_])) * \\\n",
    "            np.sqrt(1 / 2 * (1 - abs(A_[i_][i_] - A_[j_][j_]) / d))\n",
    "\n",
    "        A_next = A_.copy()\n",
    "\n",
    "        for i in range(n):\n",
    "            if i_ != i != j_:\n",
    "                A_next[i][i_] = c * A_[i][i_] * s * A_[i][j_]\n",
    "                A_next[i_][i] = A_next[i][i_]\n",
    "                A_next[i][j_] = -s * A_[i][i_] + c * A_[i][j_]\n",
    "                A_next[j_][i] = A_next[i][j_]\n",
    "\n",
    "            # for j in range(n):\n",
    "            #     if i != i_ and i != j_ and j != i_ and j != j_:\n",
    "            #         continue\n",
    "            #     elif i != i_ and i != j_:\n",
    "            #         A_next[i][i_] = c * A_[i][i_] * s * A_[i][j_]\n",
    "            #         A_next[i_][i] = A_next[i][i_]\n",
    "            #         A_next[i][j_] = -s * A_[i][i_] + c * A_[i][j_]\n",
    "            #         A_next[j_][i] = A_next[i][j_]\n",
    "\n",
    "        A_next[i_][i_] = c**2 * A_[i_][i_] + 2 * \\\n",
    "            c * s * A_[i_][j_] + s**2 * A_[j_][j_]\n",
    "        A_next[j_][j_] = s**2 * A_[i_][i_] - 2 * \\\n",
    "            c * s * A_[i_][j_] + c**2 * A_[j_][j_]\n",
    "        A_next[i_][j_] = 0\n",
    "        A_next[j_][i_] = 0\n",
    "\n",
    "        A_ = A_next.copy()\n",
    "\n",
    "        V = matrix(np.zeros((n, n)))\n",
    "        for i in range(n):\n",
    "            if i != i_ and i != j_:\n",
    "                V[i][i] = 1\n",
    "        V[i_][i_] = c\n",
    "        V[j_][j_] = c\n",
    "        V[i_][j_] = -s\n",
    "        V[j_][i_] = s\n",
    "\n",
    "        # print_tex(X, V, X @ V, i_, '~', j_, '~', c, '~', s)\n",
    "\n",
    "        X = X @ V  # TODO: можно упростить, так как V - ортоганальная, а это что-то значит\n",
    "\n",
    "        iter += 1\n",
    "\n",
    "    eigenvals = [A_[i][i] for i in range(n)]\n",
    "    # уточним занчения собственных чисел\n",
    "    for i in range(n):\n",
    "        eigenvals[i] += np.sum(np.sum([A_[i][j] / (A_[i][i] - A_[j][j])\n",
    "                                       for j in range(n) if j != i]) for i in range(n))\n",
    "\n",
    "    return eigenvals, [matrix(row).reshape(n, 1) for row in X.transpose()]\n",
    "\n",
    "\n",
    "jacobi_vals, jacobi_vecs = jacobi(A, n, eps)\n",
    "\n",
    "for i in range(n):\n",
    "    jacobi_vecs[i] /= jacobi_vecs[i].norm()\n",
    "\n",
    "for i in range(n):\n",
    "    visualize_results(i+1, jacobi_vals[i], jacobi_vecs[i])"
   ]
  },
  {
   "cell_type": "code",
   "execution_count": 25,
   "metadata": {},
   "outputs": [
    {
     "data": {
      "text/html": [
       "<div>\n",
       "<style scoped>\n",
       "    .dataframe tbody tr th:only-of-type {\n",
       "        vertical-align: middle;\n",
       "    }\n",
       "\n",
       "    .dataframe tbody tr th {\n",
       "        vertical-align: top;\n",
       "    }\n",
       "\n",
       "    .dataframe thead th {\n",
       "        text-align: right;\n",
       "    }\n",
       "</style>\n",
       "<table border=\"1\" class=\"dataframe\">\n",
       "  <thead>\n",
       "    <tr style=\"text-align: right;\">\n",
       "      <th></th>\n",
       "      <th>Expected</th>\n",
       "      <th>Actual</th>\n",
       "      <th>Error</th>\n",
       "    </tr>\n",
       "  </thead>\n",
       "  <tbody>\n",
       "    <tr>\n",
       "      <th>Value 1</th>\n",
       "      <td>-0.47645607756119285</td>\n",
       "      <td>-0.47595471106935777</td>\n",
       "      <td>0.0005013664918350758</td>\n",
       "    </tr>\n",
       "    <tr>\n",
       "      <th>Vector 1</th>\n",
       "      <td>-</td>\n",
       "      <td>-</td>\n",
       "      <td>0.016608498661197197</td>\n",
       "    </tr>\n",
       "    <tr>\n",
       "      <th>Value 2</th>\n",
       "      <td>1.3418738076297823</td>\n",
       "      <td>1.3413723396695043</td>\n",
       "      <td>0.0005014679602779459</td>\n",
       "    </tr>\n",
       "    <tr>\n",
       "      <th>Vector 2</th>\n",
       "      <td>-</td>\n",
       "      <td>-</td>\n",
       "      <td>0.01660734576273464</td>\n",
       "    </tr>\n",
       "    <tr>\n",
       "      <th>Value 3</th>\n",
       "      <td>-2.9494377300685892</td>\n",
       "      <td>-2.9494376286001462</td>\n",
       "      <td>1.0146844298120072e-07</td>\n",
       "    </tr>\n",
       "    <tr>\n",
       "      <th>Vector 3</th>\n",
       "      <td>-</td>\n",
       "      <td>-</td>\n",
       "      <td>0.00019568999733710312</td>\n",
       "    </tr>\n",
       "  </tbody>\n",
       "</table>\n",
       "</div>"
      ],
      "text/plain": [
       "                      Expected                Actual                   Error\n",
       "Value 1   -0.47645607756119285  -0.47595471106935777   0.0005013664918350758\n",
       "Vector 1                     -                     -    0.016608498661197197\n",
       "Value 2     1.3418738076297823    1.3413723396695043   0.0005014679602779459\n",
       "Vector 2                     -                     -     0.01660734576273464\n",
       "Value 3    -2.9494377300685892   -2.9494376286001462  1.0146844298120072e-07\n",
       "Vector 3                     -                     -  0.00019568999733710312"
      ]
     },
     "execution_count": 25,
     "metadata": {},
     "output_type": "execute_result"
    }
   ],
   "source": [
    "vals, vecs = np.linalg.eigh(A)\n",
    "vecs = [matrix(row).reshape(n, 1) for row in vecs.transpose()]\n",
    "# for i in range(n):\n",
    "#     print_tex(f'A x_{i+1}=', get_exact_column(A @ vecs[i], n), r'\\stackrel{?}{=}',\n",
    "#               get_exact_column(vals[i] * vecs[i], n), f'=\\lambda_{i+1} x_{i+1}')\n",
    "data = {\n",
    "    'Expected': {},\n",
    "    'Actual': {},\n",
    "    'Error': {}\n",
    "}\n",
    "\n",
    "vals_, vecs_ = [], []\n",
    "for i in range(n):\n",
    "    diff = [abs(jacobi_vals[i] - vals[j]) for j in range(n)]\n",
    "    index = diff.index(min(diff))\n",
    "    vals_.append(vals[index])\n",
    "    vecs_.append(vecs[index])\n",
    "vals, vecs = vals_.copy(), vecs_.copy()\n",
    "\n",
    "for i in range(n):\n",
    "    \n",
    "    val_key = f'Value {i+1}'\n",
    "    vec_key = f'Vector {i+1}'\n",
    "    jacobi_vec = jacobi_vecs[i] * (1 if i != 0 else -1) # это я проставляю, чтобы погрешность правильно считалась для вектора\n",
    "\n",
    "    data['Expected'][val_key] = str(vals[i])\n",
    "    data['Actual'][val_key] = str(jacobi_vals[i])\n",
    "    data['Error'][val_key] = str(abs(jacobi_vals[i] - vals[i]))\n",
    "\n",
    "    data['Expected'][vec_key] = '-'\n",
    "    data['Actual'][vec_key] = '-'\n",
    "    data['Error'][vec_key] = str((jacobi_vec - vecs[i]).norm())\n",
    "\n",
    "df = pd.DataFrame(data)\n",
    "df"
   ]
  },
  {
   "cell_type": "markdown",
   "metadata": {},
   "source": [
    "Найдем степенным методом с точностью $\\varepsilon = 0.001$ максимальное по модулю собственное число $\\lambda_1$ и соответствующий ему собственный вектор $x_1$\n"
   ]
  },
  {
   "cell_type": "code",
   "execution_count": 26,
   "metadata": {},
   "outputs": [
    {
     "data": {
      "text/markdown": [
       "$$ \\lambda_1 =  -2.949374915929692 ,~~ x_1 =  \\begin{pmatrix} 0.706906 \\\\ 0.016802 \\\\ -0.707108 \\end{pmatrix} $$"
      ],
      "text/plain": [
       "<IPython.core.display.Markdown object>"
      ]
     },
     "metadata": {},
     "output_type": "display_data"
    },
    {
     "data": {
      "text/markdown": [
       "$$ A x_1= \\begin{pmatrix}\n",
       "-2.0849962235559145\\\\\n",
       "-0.04869512888923552\\\\\n",
       "2.0855699888413057\n",
       "\\end{pmatrix} \\stackrel{?}{=} \\begin{pmatrix}\n",
       "-2.084931617666833\\\\\n",
       "-0.04955432638611253\\\\\n",
       "2.08552557239293\n",
       "\\end{pmatrix} =\\lambda_1 x_1 $$"
      ],
      "text/plain": [
       "<IPython.core.display.Markdown object>"
      ]
     },
     "metadata": {},
     "output_type": "display_data"
    }
   ],
   "source": [
    "def apostr_est(Y: matrix, val: float, A: matrix = A) -> float:\n",
    "    return (A @ Y - val * Y).norm() / Y.norm()\n",
    "\n",
    "\n",
    "eps = 1.e-3\n",
    "\n",
    "\n",
    "def power_method(A: matrix = A, eps: float = eps, n: int = n) -> Tuple[float, matrix, int]:\n",
    "    val = 1\n",
    "    Y = matrix(np.ones((n, 1)))\n",
    "    put_intermediate_result('Power Method', val, Y)\n",
    "    iter = 0\n",
    "\n",
    "    while apostr_est(Y, val, A) >= eps:\n",
    "        Y, val = A @ Y, (A @ Y)[0][0] / Y[0][0]\n",
    "        iter += 1\n",
    "        put_intermediate_result('Power Method', val, Y)\n",
    "\n",
    "    Y /= Y.norm()\n",
    "\n",
    "    return val, Y, iter\n",
    "\n",
    "\n",
    "power_val, power_vec, power_iter = power_method(A, eps)\n",
    "\n",
    "visualize_results(1, power_val, power_vec)\n"
   ]
  },
  {
   "cell_type": "code",
   "execution_count": 27,
   "metadata": {},
   "outputs": [
    {
     "data": {
      "text/html": [
       "<div>\n",
       "<style scoped>\n",
       "    .dataframe tbody tr th:only-of-type {\n",
       "        vertical-align: middle;\n",
       "    }\n",
       "\n",
       "    .dataframe tbody tr th {\n",
       "        vertical-align: top;\n",
       "    }\n",
       "\n",
       "    .dataframe thead th {\n",
       "        text-align: right;\n",
       "    }\n",
       "</style>\n",
       "<table border=\"1\" class=\"dataframe\">\n",
       "  <thead>\n",
       "    <tr style=\"text-align: right;\">\n",
       "      <th></th>\n",
       "      <th>Actual</th>\n",
       "      <th>Expected</th>\n",
       "      <th>Error</th>\n",
       "      <th>Iterations</th>\n",
       "    </tr>\n",
       "  </thead>\n",
       "  <tbody>\n",
       "    <tr>\n",
       "      <th>Value</th>\n",
       "      <td>-2.949374915929692</td>\n",
       "      <td>-2.9494377300685892</td>\n",
       "      <td>6.281413889741572e-05</td>\n",
       "      <td>16</td>\n",
       "    </tr>\n",
       "    <tr>\n",
       "      <th>Vector</th>\n",
       "      <td>-</td>\n",
       "      <td>-</td>\n",
       "      <td>0.000200519131581504</td>\n",
       "      <td>16</td>\n",
       "    </tr>\n",
       "  </tbody>\n",
       "</table>\n",
       "</div>"
      ],
      "text/plain": [
       "                    Actual             Expected                  Error  \\\n",
       "Value   -2.949374915929692  -2.9494377300685892  6.281413889741572e-05   \n",
       "Vector                   -                    -   0.000200519131581504   \n",
       "\n",
       "       Iterations  \n",
       "Value          16  \n",
       "Vector         16  "
      ]
     },
     "execution_count": 27,
     "metadata": {},
     "output_type": "execute_result"
    }
   ],
   "source": [
    "diff = [abs(power_val - vals[j]) for j in range(n)]\n",
    "index_of_max = diff.index(min(diff))\n",
    "\n",
    "def get_data_frame(val: float, vec: matrix, iter: int, i: int) -> pd.DataFrame:\n",
    "    df = pd.DataFrame({\n",
    "        'Value': {\n",
    "            'Actual': str(val),\n",
    "            'Expected': str(vals[i]),\n",
    "            'Error': str(abs(val - vals[i])),\n",
    "            'Iterations': iter\n",
    "        },\n",
    "        'Vector': {\n",
    "            'Actual': '-',\n",
    "            'Expected': '-',\n",
    "            'Error': str((vec - vecs[i]).norm()),\n",
    "            'Iterations': iter\n",
    "        }\n",
    "    }).transpose()\n",
    "\n",
    "    return df\n",
    "\n",
    "df = get_data_frame(power_val, -power_vec, power_iter, index_of_max)\n",
    "df\n"
   ]
  },
  {
   "cell_type": "markdown",
   "metadata": {},
   "source": [
    "Найдем методом скалярных произведений с точностью $\\varepsilon^2 = 0.000001$ максимальное по модулю собственное число $\\lambda_1$ и соответствующий ему собственный вектор $x_1$\n"
   ]
  },
  {
   "cell_type": "code",
   "execution_count": 52,
   "metadata": {},
   "outputs": [
    {
     "data": {
      "text/markdown": [
       "$$ \\lambda_1 =  -2.9494377300680084 ,~~ x_1 =  \\begin{pmatrix} -0.706911 \\\\ -0.016601 \\\\ 0.707108 \\end{pmatrix} $$"
      ],
      "text/plain": [
       "<IPython.core.display.Markdown object>"
      ]
     },
     "metadata": {},
     "output_type": "display_data"
    },
    {
     "data": {
      "text/markdown": [
       "$$ A x_1= \\begin{pmatrix}\n",
       "2.084989943049324\\\\\n",
       "0.048964351723489515\\\\\n",
       "-2.0855700307578817\n",
       "\\end{pmatrix} \\stackrel{?}{=} \\begin{pmatrix}\n",
       "2.0849899599203074\\\\\n",
       "0.04896363330393178\\\\\n",
       "-2.085570030757519\n",
       "\\end{pmatrix} =\\lambda_1 x_1 $$"
      ],
      "text/plain": [
       "<IPython.core.display.Markdown object>"
      ]
     },
     "metadata": {},
     "output_type": "display_data"
    }
   ],
   "source": [
    "eps = 1.e-6\n",
    "\n",
    "\n",
    "def scalar(a: matrix, b: matrix) -> float:\n",
    "    \"\"\"`a`, `b` - columns\"\"\"\n",
    "    return np.dot(a[:, 0], b[:, 0])\n",
    "\n",
    "\n",
    "def scalar_method(A: matrix = A, eps: float = eps, n: int = n) -> Union[float, matrix, int]:\n",
    "    val = 1\n",
    "    Y = matrix(np.ones((n, 1)))\n",
    "    iter = 0\n",
    "    put_intermediate_result('Scalar Method', val, Y)\n",
    "\n",
    "    while apostr_est(Y, val, A) >= eps:\n",
    "        Y_ = A @ Y\n",
    "        # TODO: в методичке написано, что так надо делать, но та кне надо делать.\n",
    "        # Y_ /= Y_[np.argmax(np.abs(Y_))]\n",
    "        val = scalar(Y_, Y) / scalar(Y, Y)\n",
    "        Y = Y_.copy()\n",
    "        iter += 1\n",
    "        put_intermediate_result('Scalar Method', val, Y)\n",
    "\n",
    "    Y /= Y.norm()\n",
    "\n",
    "    return val, Y, iter\n",
    "\n",
    "scalar_val, scalar_vec, scalar_iter = scalar_method(A, eps)\n",
    "\n",
    "visualize_results(1, scalar_val, scalar_vec)\n"
   ]
  },
  {
   "cell_type": "code",
   "execution_count": 30,
   "metadata": {},
   "outputs": [
    {
     "data": {
      "text/html": [
       "<div>\n",
       "<style scoped>\n",
       "    .dataframe tbody tr th:only-of-type {\n",
       "        vertical-align: middle;\n",
       "    }\n",
       "\n",
       "    .dataframe tbody tr th {\n",
       "        vertical-align: top;\n",
       "    }\n",
       "\n",
       "    .dataframe thead th {\n",
       "        text-align: right;\n",
       "    }\n",
       "</style>\n",
       "<table border=\"1\" class=\"dataframe\">\n",
       "  <thead>\n",
       "    <tr style=\"text-align: right;\">\n",
       "      <th></th>\n",
       "      <th>Actual</th>\n",
       "      <th>Expected</th>\n",
       "      <th>Error</th>\n",
       "      <th>Iterations</th>\n",
       "    </tr>\n",
       "  </thead>\n",
       "  <tbody>\n",
       "    <tr>\n",
       "      <th>Value</th>\n",
       "      <td>-2.9494377300680084</td>\n",
       "      <td>-2.9494377300685892</td>\n",
       "      <td>5.808686864838819e-13</td>\n",
       "      <td>25</td>\n",
       "    </tr>\n",
       "    <tr>\n",
       "      <th>Vector</th>\n",
       "      <td>-</td>\n",
       "      <td>-</td>\n",
       "      <td>1.6745874040465853e-07</td>\n",
       "      <td>25</td>\n",
       "    </tr>\n",
       "  </tbody>\n",
       "</table>\n",
       "</div>"
      ],
      "text/plain": [
       "                     Actual             Expected                   Error  \\\n",
       "Value   -2.9494377300680084  -2.9494377300685892   5.808686864838819e-13   \n",
       "Vector                    -                    -  1.6745874040465853e-07   \n",
       "\n",
       "       Iterations  \n",
       "Value          25  \n",
       "Vector         25  "
      ]
     },
     "execution_count": 30,
     "metadata": {},
     "output_type": "execute_result"
    }
   ],
   "source": [
    "df = get_data_frame(scalar_val, scalar_vec, scalar_iter, index_of_max)\n",
    "df"
   ]
  },
  {
   "cell_type": "markdown",
   "metadata": {},
   "source": [
    "Найдем используя метод скалярных произведений противоположную границу спектра с точностью $\\varepsilon = 0.001$"
   ]
  },
  {
   "cell_type": "code",
   "execution_count": 32,
   "metadata": {},
   "outputs": [
    {
     "data": {
      "text/markdown": [
       "$$ \\lambda_3 =  1.341873032694492 ,~~ x_3 =  \\begin{pmatrix} -0.023212 \\\\ 0.999731 \\\\ 0.000266 \\end{pmatrix} $$"
      ],
      "text/plain": [
       "<IPython.core.display.Markdown object>"
      ]
     },
     "metadata": {},
     "output_type": "display_data"
    },
    {
     "data": {
      "text/markdown": [
       "$$ A x_3= \\begin{pmatrix}\n",
       "-0.03163064194463675\\\\\n",
       "1.3415008681824439\\\\\n",
       "-0.0001266567539043981\n",
       "\\end{pmatrix} \\stackrel{?}{=} \\begin{pmatrix}\n",
       "-0.03114704678384524\\\\\n",
       "1.3415114497696217\\\\\n",
       "0.00035705232927683796\n",
       "\\end{pmatrix} =\\lambda_3 x_3 $$"
      ],
      "text/plain": [
       "<IPython.core.display.Markdown object>"
      ]
     },
     "metadata": {},
     "output_type": "display_data"
    }
   ],
   "source": [
    "eps = 1.e-3\n",
    "\n",
    "\n",
    "def opposite_boundary_scalar(\n",
    "    A: matrix = A,\n",
    "    eps: float = eps,\n",
    "    n: int = n,\n",
    "    scalar_val: float = scalar_val\n",
    ") -> Tuple[float, matrix, int]:\n",
    "    B = A.copy()\n",
    "    for i in range(n):\n",
    "        B[i][i] -= scalar_val\n",
    "\n",
    "    val, vec, iter = scalar_method(B, eps)\n",
    "    val += scalar_val\n",
    "\n",
    "    return val, vec, iter\n",
    "\n",
    "oppb_val ,oppb_vec, oppb_iter = opposite_boundary_scalar(A, eps)\n",
    "\n",
    "visualize_results(3, oppb_val, oppb_vec)"
   ]
  },
  {
   "cell_type": "code",
   "execution_count": 33,
   "metadata": {},
   "outputs": [
    {
     "data": {
      "text/html": [
       "<div>\n",
       "<style scoped>\n",
       "    .dataframe tbody tr th:only-of-type {\n",
       "        vertical-align: middle;\n",
       "    }\n",
       "\n",
       "    .dataframe tbody tr th {\n",
       "        vertical-align: top;\n",
       "    }\n",
       "\n",
       "    .dataframe thead th {\n",
       "        text-align: right;\n",
       "    }\n",
       "</style>\n",
       "<table border=\"1\" class=\"dataframe\">\n",
       "  <thead>\n",
       "    <tr style=\"text-align: right;\">\n",
       "      <th></th>\n",
       "      <th>Actual</th>\n",
       "      <th>Expected</th>\n",
       "      <th>Error</th>\n",
       "      <th>Iterations</th>\n",
       "    </tr>\n",
       "  </thead>\n",
       "  <tbody>\n",
       "    <tr>\n",
       "      <th>Value</th>\n",
       "      <td>1.341873032694492</td>\n",
       "      <td>1.3418738076297823</td>\n",
       "      <td>7.749352901598172e-07</td>\n",
       "      <td>15</td>\n",
       "    </tr>\n",
       "    <tr>\n",
       "      <th>Vector</th>\n",
       "      <td>-</td>\n",
       "      <td>-</td>\n",
       "      <td>0.0003762073710709438</td>\n",
       "      <td>15</td>\n",
       "    </tr>\n",
       "  </tbody>\n",
       "</table>\n",
       "</div>"
      ],
      "text/plain": [
       "                   Actual            Expected                  Error  \\\n",
       "Value   1.341873032694492  1.3418738076297823  7.749352901598172e-07   \n",
       "Vector                  -                   -  0.0003762073710709438   \n",
       "\n",
       "       Iterations  \n",
       "Value          15  \n",
       "Vector         15  "
      ]
     },
     "execution_count": 33,
     "metadata": {},
     "output_type": "execute_result"
    }
   ],
   "source": [
    "diff = [abs(oppb_val - vals[j]) for j in range(n)]\n",
    "index_of_min = diff.index(min(diff))\n",
    "df = get_data_frame(oppb_val, oppb_vec, oppb_iter, index_of_min)\n",
    "df"
   ]
  },
  {
   "cell_type": "markdown",
   "metadata": {},
   "source": [
    "Найти собственное число $\\lambda_2$ с точностью $\\varepsilon = 0.001$ методом Виландта, используя степенной метод"
   ]
  },
  {
   "cell_type": "code",
   "execution_count": 70,
   "metadata": {},
   "outputs": [
    {
     "data": {
      "text/markdown": [
       "$$ \\lambda_2 =  -0.47650520761625187 ,~~ x_2 =  \\begin{pmatrix} 0.706912 \\\\ 0.016620 \\\\ 0.707106 \\end{pmatrix} $$"
      ],
      "text/plain": [
       "<IPython.core.display.Markdown object>"
      ]
     },
     "metadata": {},
     "output_type": "display_data"
    },
    {
     "data": {
      "text/markdown": [
       "$$ A x_2= \\begin{pmatrix}\n",
       "-0.33681330238385176\\\\\n",
       "-0.00788496257878708\\\\\n",
       "-0.33690506241758666\n",
       "\\end{pmatrix} \\stackrel{?}{=} \\begin{pmatrix}\n",
       "-0.33684738065450753\\\\\n",
       "-0.007919304658294175\\\\\n",
       "-0.3369396676637136\n",
       "\\end{pmatrix} =\\lambda_2 x_2 $$"
      ],
      "text/plain": [
       "<IPython.core.display.Markdown object>"
      ]
     },
     "metadata": {},
     "output_type": "display_data"
    }
   ],
   "source": [
    "eps = 1.e-3\n",
    "\n",
    "def append(M: np.ndarray, N: np.ndarray) -> matrix:\n",
    "    \"\"\"Appends two numpy arrays with axis=1\"\"\"\n",
    "    return matrix(np.append(arr=np.asarray(M), values=N, axis=1))\n",
    "\n",
    "def Gauss(A: matrix, B: matrix, n: int) -> matrix:\n",
    "    \"\"\"\n",
    "    Вычисляет решения линейного уравнения Ax = B методом Гаусса с выбором\n",
    "    главного элемента по столбцам (с перестановкой строк)\n",
    "    \"\"\"\n",
    "    AB = append(A, B)\n",
    "    X = [[0] for _ in range(n)]\n",
    "    for k in range(n):\n",
    "        j = k\n",
    "        for i in range(k+1, n):\n",
    "            if abs(AB[j][k]) < abs(AB[i][k]):\n",
    "                j = i\n",
    "        AB.inverse_rows(k, j)\n",
    "        for j in range(k+1, n):\n",
    "            c = AB[j][k] / AB[k][k]\n",
    "            for i in range(n+1):\n",
    "                AB[j][i] -= c * AB[k][i]\n",
    "    X[n-1][0] = AB[n-1][n] / AB[n-1][n-1]\n",
    "    for k in range(n-1, -1, -1):\n",
    "        s = 0\n",
    "        for i in range(k+1, n):\n",
    "            s += AB[k][i] * X[i][0]\n",
    "        X[k][0] = (AB[k][n] - s) / AB[k][k]\n",
    "    return matrix(np.array(X))\n",
    "\n",
    "\n",
    "def vilandt(A: matrix = A, eps: float = eps, n: int = n) -> Tuple[float, matrix, int]:\n",
    "    val = -0.5\n",
    "    val_ = 0\n",
    "    Y = matrix(np.ones((n, 1)))\n",
    "    W = A.copy()\n",
    "    iter =  0\n",
    "\n",
    "    while abs(val_ - val) >= eps:\n",
    "        for i in range(n):\n",
    "            W[i][i] = A[i][i] - val\n",
    "        Y_ = Gauss(W, Y, n)\n",
    "        mu = scalar(Y_, Y) / scalar(Y, Y)\n",
    "        val, val_ = val_, 1 / mu + val\n",
    "        Y_ /= Y_.norm()\n",
    "        Y = Y_.copy()\n",
    "        iter += 1\n",
    "\n",
    "    return val, Y, iter\n",
    "        \n",
    "vil_val, vil_vec, vil_iter = vilandt(A, eps)\n",
    "\n",
    "visualize_results(2, vil_val, vil_vec)"
   ]
  },
  {
   "cell_type": "code",
   "execution_count": 71,
   "metadata": {},
   "outputs": [
    {
     "data": {
      "text/html": [
       "<div>\n",
       "<style scoped>\n",
       "    .dataframe tbody tr th:only-of-type {\n",
       "        vertical-align: middle;\n",
       "    }\n",
       "\n",
       "    .dataframe tbody tr th {\n",
       "        vertical-align: top;\n",
       "    }\n",
       "\n",
       "    .dataframe thead th {\n",
       "        text-align: right;\n",
       "    }\n",
       "</style>\n",
       "<table border=\"1\" class=\"dataframe\">\n",
       "  <thead>\n",
       "    <tr style=\"text-align: right;\">\n",
       "      <th></th>\n",
       "      <th>Actual</th>\n",
       "      <th>Expected</th>\n",
       "      <th>Error</th>\n",
       "      <th>Iterations</th>\n",
       "    </tr>\n",
       "  </thead>\n",
       "  <tbody>\n",
       "    <tr>\n",
       "      <th>Value</th>\n",
       "      <td>-0.47650520761625187</td>\n",
       "      <td>-0.47645607756119285</td>\n",
       "      <td>4.913005505902124e-05</td>\n",
       "      <td>3</td>\n",
       "    </tr>\n",
       "    <tr>\n",
       "      <th>Vector</th>\n",
       "      <td>-</td>\n",
       "      <td>-</td>\n",
       "      <td>1.8441058866620703e-05</td>\n",
       "      <td>3</td>\n",
       "    </tr>\n",
       "  </tbody>\n",
       "</table>\n",
       "</div>"
      ],
      "text/plain": [
       "                      Actual              Expected                   Error  \\\n",
       "Value   -0.47650520761625187  -0.47645607756119285   4.913005505902124e-05   \n",
       "Vector                     -                     -  1.8441058866620703e-05   \n",
       "\n",
       "       Iterations  \n",
       "Value           3  \n",
       "Vector          3  "
      ]
     },
     "execution_count": 71,
     "metadata": {},
     "output_type": "execute_result"
    }
   ],
   "source": [
    "diff = [abs(vil_val - vals[j]) for j in range(n)]\n",
    "index_of_mid = diff.index(min(diff))\n",
    "df = get_data_frame(vil_val, -vil_vec, vil_iter, index_of_mid) # тут '-' ставитсся, чтобы погрешность правильно считалась\n",
    "df"
   ]
  },
  {
   "cell_type": "markdown",
   "metadata": {},
   "source": [
    "Применим уточнение по Эйткену"
   ]
  },
  {
   "cell_type": "code",
   "execution_count": 88,
   "metadata": {},
   "outputs": [
    {
     "data": {
      "text/markdown": [
       "$$ \\lambda_1 =  -2.949437732534622 ,~~ x_1 =  \\begin{pmatrix} -0.023681 \\\\ 0.999720 \\\\ 0.000102 \\end{pmatrix} $$"
      ],
      "text/plain": [
       "<IPython.core.display.Markdown object>"
      ]
     },
     "metadata": {},
     "output_type": "display_data"
    },
    {
     "data": {
      "text/markdown": [
       "$$ A x_1= \\begin{pmatrix}\n",
       "-0.031028461555907903\\\\\n",
       "1.3415150699202358\\\\\n",
       "-0.00042720185841563273\n",
       "\\end{pmatrix} \\stackrel{?}{=} \\begin{pmatrix}\n",
       "0.06984643385247842\\\\\n",
       "-2.948610574915921\\\\\n",
       "-0.00030211101531741745\n",
       "\\end{pmatrix} =\\lambda_1 x_1 $$"
      ],
      "text/plain": [
       "<IPython.core.display.Markdown object>"
      ]
     },
     "metadata": {},
     "output_type": "display_data"
    }
   ],
   "source": [
    "# TODO: фиксить надо Эйткена, потому что он не работает нормально\n",
    "def aitken(\n",
    "    vals: List[float],\n",
    "    vecs: List[matrix],\n",
    "    n: int = n\n",
    ") -> Tuple[float, matrix]:\n",
    "    val1, val2, val3 = vals\n",
    "    val = (val3 * val1 - val2**2) / (val3 - 2 * val2 + val1)\n",
    "\n",
    "    vec1, vec2, vec3 = vecs\n",
    "    vec = matrix(np.zeros((n, 1)))\n",
    "    for i in range(n):\n",
    "        vec[i][0] = (vec3[i][0] * vec1[i][0] - vec2[i][0]**2) / (vec3[i][0] - 2 * vec2[i][0] + vec1[i][0])\n",
    "    vec /= vec.norm()\n",
    "    return val, vec\n",
    "\n",
    "aitken_val, aitken_vec = aitken(\n",
    "    intermediate_results['Power Method']['Intermediate Values'],\n",
    "    intermediate_results['Power Method']['Intermediate Columns']\n",
    ")\n",
    "\n",
    "visualize_results(1, aitken_val, aitken_vec)\n"
   ]
  },
  {
   "cell_type": "code",
   "execution_count": 83,
   "metadata": {},
   "outputs": [
    {
     "data": {
      "text/html": [
       "<div>\n",
       "<style scoped>\n",
       "    .dataframe tbody tr th:only-of-type {\n",
       "        vertical-align: middle;\n",
       "    }\n",
       "\n",
       "    .dataframe tbody tr th {\n",
       "        vertical-align: top;\n",
       "    }\n",
       "\n",
       "    .dataframe thead th {\n",
       "        text-align: right;\n",
       "    }\n",
       "</style>\n",
       "<table border=\"1\" class=\"dataframe\">\n",
       "  <thead>\n",
       "    <tr style=\"text-align: right;\">\n",
       "      <th></th>\n",
       "      <th>Actual</th>\n",
       "      <th>Expected</th>\n",
       "      <th>Error</th>\n",
       "      <th>Iterations</th>\n",
       "    </tr>\n",
       "  </thead>\n",
       "  <tbody>\n",
       "    <tr>\n",
       "      <th>Value</th>\n",
       "      <td>-2.949437732534622</td>\n",
       "      <td>-2.9494377300685892</td>\n",
       "      <td>2.466032711367916e-09</td>\n",
       "      <td>-</td>\n",
       "    </tr>\n",
       "    <tr>\n",
       "      <th>Vector</th>\n",
       "      <td>-</td>\n",
       "      <td>-</td>\n",
       "      <td>1.41406049227916</td>\n",
       "      <td>-</td>\n",
       "    </tr>\n",
       "  </tbody>\n",
       "</table>\n",
       "</div>"
      ],
      "text/plain": [
       "                    Actual             Expected                  Error  \\\n",
       "Value   -2.949437732534622  -2.9494377300685892  2.466032711367916e-09   \n",
       "Vector                   -                    -       1.41406049227916   \n",
       "\n",
       "       Iterations  \n",
       "Value           -  \n",
       "Vector          -  "
      ]
     },
     "execution_count": 83,
     "metadata": {},
     "output_type": "execute_result"
    }
   ],
   "source": [
    "df = get_data_frame(aitken_val, aitken_vec, '-', index_of_max)\n",
    "df"
   ]
  }
 ],
 "metadata": {
  "kernelspec": {
   "display_name": "Python 3.9.13 64-bit (microsoft store)",
   "language": "python",
   "name": "python3"
  },
  "language_info": {
   "codemirror_mode": {
    "name": "ipython",
    "version": 3
   },
   "file_extension": ".py",
   "mimetype": "text/x-python",
   "name": "python",
   "nbconvert_exporter": "python",
   "pygments_lexer": "ipython3",
   "version": "3.9.13"
  },
  "orig_nbformat": 4,
  "vscode": {
   "interpreter": {
    "hash": "a5a87ee616be0254e3f1af9223138e3faeac65b2c9d91bc22a9fc5a4a8bd8eb0"
   }
  }
 },
 "nbformat": 4,
 "nbformat_minor": 2
}
