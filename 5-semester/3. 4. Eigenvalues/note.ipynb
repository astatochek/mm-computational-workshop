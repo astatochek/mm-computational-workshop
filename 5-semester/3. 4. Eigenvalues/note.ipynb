{
 "cells": [
  {
   "cell_type": "code",
   "execution_count": 21,
   "metadata": {},
   "outputs": [],
   "source": [
    "import warnings\n",
    "from typing import Any, Union, List\n",
    "\n",
    "import numpy as np\n",
    "import pandas as pd\n",
    "from IPython.display import Latex, Markdown, display\n",
    "from latexifier import latexify\n",
    "\n",
    "warnings.filterwarnings('ignore')"
   ]
  },
  {
   "cell_type": "code",
   "execution_count": 15,
   "metadata": {},
   "outputs": [],
   "source": [
    "class matrix(np.ndarray):\n",
    "    \"\"\"extends np.ndarray\"\"\"\n",
    "\n",
    "    def __new__(cls, input_array):\n",
    "        obj = np.asarray(input_array).view(cls)\n",
    "        return obj\n",
    "\n",
    "    def inverse_rows(self, i: int, j: int):\n",
    "        \"\"\"Swaps i-th and j-th rows of a matrix\"\"\"\n",
    "        self[i], self[j] = self[j].copy(), self[i].copy()\n",
    "\n",
    "    def inverse_cols(self, i: int, j: int):\n",
    "        \"\"\"Swaps i-th and j-th columns of a matrix\"\"\"\n",
    "        self = self.transpose()\n",
    "        self.inverse_rows(i, j)\n",
    "        self = self.transpose()\n",
    "\n",
    "\n",
    "    def norm(self) -> float:\n",
    "        \"\"\"Calculates Matrix norm using `np.linalg.norm` with parameter `np.inf`\"\"\"\n",
    "        return np.linalg.norm(self, np.inf)\n",
    "\n",
    "    def inv(self) -> Any:\n",
    "        return matrix(np.linalg.inv(self))"
   ]
  },
  {
   "cell_type": "code",
   "execution_count": 16,
   "metadata": {},
   "outputs": [],
   "source": [
    "def print_tex(*argv) -> None:\n",
    "    \"\"\"Displays a LaTex Markdown output\"\"\"\n",
    "    res = ' '.join(['$$'] + [(latexify(arg) if isinstance(arg,\n",
    "                   np.ndarray) else str(arg)) for arg in argv] + ['$$'])\n",
    "    display(Markdown(res))\n",
    "\n",
    "\n",
    "def get_exact_column(col: matrix, n: int) -> str:\n",
    "    \"\"\"Prepares a string with LaTex syntax for a column of `col` elements\"\"\"\n",
    "    res = [r\"\"\"\\begin{pmatrix}\"\"\", \"\\n\"]\n",
    "    for i in range(n):\n",
    "        line = str(float(col[i][0])) + (r\"\\\\\" if i != n-1 else \"\") + \"\\n\"\n",
    "        res.append(line)\n",
    "    res.append(r\"\"\"\\end{pmatrix}\"\"\")\n",
    "    return ''.join(res)"
   ]
  },
  {
   "cell_type": "markdown",
   "metadata": {},
   "source": [
    "## Матрица: Вариант 12"
   ]
  },
  {
   "cell_type": "code",
   "execution_count": 26,
   "metadata": {},
   "outputs": [
    {
     "data": {
      "text/markdown": [
       "$$ A= \\begin{pmatrix} -1.711260 & -0.071700 & 1.236150 \\\\ -0.071700 & 1.340190 & 0.029030 \\\\ 1.236150 & 0.029030 & -1.712950 \\end{pmatrix} $$"
      ],
      "text/plain": [
       "<IPython.core.display.Markdown object>"
      ]
     },
     "metadata": {},
     "output_type": "display_data"
    }
   ],
   "source": [
    "n = 3\n",
    "A = matrix([\n",
    "    [-1.71126, -0.07170, 1.23615],\n",
    "    [-0.07170, 1.34019, 0.02903],\n",
    "    [1.23615, 0.02903, -1.71295]\n",
    "])\n",
    "print_tex('A=', A)"
   ]
  },
  {
   "cell_type": "markdown",
   "metadata": {},
   "source": [
    "## Задание: Вариант 4"
   ]
  },
  {
   "cell_type": "markdown",
   "metadata": {},
   "source": [
    "Найдем методом Якоби все собственные числа и собственные векторы с точностью $\\varepsilon = 0.000001$. Собственные вектора должны иметь единичную длину."
   ]
  },
  {
   "cell_type": "code",
   "execution_count": 47,
   "metadata": {},
   "outputs": [
    {
     "data": {
      "text/markdown": [
       "$$ A x_0= \\begin{pmatrix} -0.475955 \\\\ -0.042690 \\\\ -0.475629 \\end{pmatrix} \\stackrel{?}{=} \\begin{pmatrix} -0.475955 \\\\ 0 \\\\ -0.475629 \\end{pmatrix} =\\lambda_0 x_0 $$"
      ],
      "text/plain": [
       "<IPython.core.display.Markdown object>"
      ]
     },
     "metadata": {},
     "output_type": "display_data"
    },
    {
     "data": {
      "text/markdown": [
       "$$ A x_1= \\begin{pmatrix} -0.057593 \\\\ 1.340672 \\\\ 0.014914 \\end{pmatrix} \\stackrel{?}{=} \\begin{pmatrix} -0.006413 \\\\ 1.340387 \\\\ 0.006418 \\end{pmatrix} =\\lambda_1 x_1 $$"
      ],
      "text/plain": [
       "<IPython.core.display.Markdown object>"
      ]
     },
     "metadata": {},
     "output_type": "display_data"
    },
    {
     "data": {
      "text/markdown": [
       "$$ A x_2= \\begin{pmatrix} 2.946927 \\\\ 0.087856 \\\\ -2.948533 \\end{pmatrix} \\stackrel{?}{=} \\begin{pmatrix} 2.946437 \\\\ 0.028216 \\\\ -2.948452 \\end{pmatrix} =\\lambda_2 x_2 $$"
      ],
      "text/plain": [
       "<IPython.core.display.Markdown object>"
      ]
     },
     "metadata": {},
     "output_type": "display_data"
    }
   ],
   "source": [
    "eps = 1.e-6\n",
    "\n",
    "\n",
    "def jacobi(A: matrix = A, n: int = n, eps: float = eps) -> Union[List[float], List[matrix]]:\n",
    "    # матрица, столбцы которой будут собственными векторами\n",
    "    X = matrix(np.identity(n))\n",
    "    A_ = A.copy()\n",
    "\n",
    "    def get_i_j(A: matrix = A_, n: int = n) -> Union[int, int]:\n",
    "        i_, j_ = 0, n - 1\n",
    "        max_val = np.amin(np.abs(A))\n",
    "        for i in range(n):\n",
    "            for j in range(i+1, n):\n",
    "                if abs(A[i][j]) > max_val:\n",
    "                    max_val = abs(A[i][j])\n",
    "                    i_, j_ = i, j\n",
    "        return i_, j_\n",
    "\n",
    "    i_, j_ = get_i_j(A_)\n",
    "\n",
    "    while abs(A_[i_][j_]) > eps:\n",
    "\n",
    "        d = np.sqrt((A_[i_][i_] - A_[j_][j_])**2 + 4 * A_[i_][j_]**2)\n",
    "\n",
    "        c = np.sqrt(1 / 2 * (1 + abs(A_[i_][i_] - A_[j_][j_]) / d))\n",
    "\n",
    "        s = np.sign(A_[i_][j_] * (A_[i_][i_] - A_[j_][j_])) * \\\n",
    "            np.sqrt(1 / 2 * (1 - abs(A_[i_][i_] - A_[j_][j_]) / d))\n",
    "\n",
    "        A_next = A_.copy()\n",
    "\n",
    "        for i in range(n):\n",
    "            for j in range(n):\n",
    "                if i != i_ and i != j_ and j != i_ and j != j_:\n",
    "                    continue\n",
    "                elif i != i_ and i != j_:\n",
    "                    A_next[i][i_] = c * A_[i][i_] * s * A_[i][j_]\n",
    "                    A_next[i_][i] = A_next[i][i_]\n",
    "                elif j != i_ and j != j_:\n",
    "                    A_next[i][j_] = -s * A_[i][i_] + c * A_[i][j_]\n",
    "                    A_next[j_][i] = A_next[i][j_]\n",
    "        A_next[i_][i_] = c**2 * A_[i_][i_] + 2 * \\\n",
    "            c * s * A_[i_][j_] + s**2 * A_[j_][j_]\n",
    "        A_next[j_][j_] = s**2 * A_[i_][i_] - 2 * \\\n",
    "            c * s * A_[i_][j_] + c**2 * A_[j_][j_]\n",
    "        A_next[i_][j_] = 0\n",
    "        A_next[j_][i_] = 0\n",
    "\n",
    "        A_ = A_next.copy()\n",
    "\n",
    "        V = matrix(np.zeros((n, n)))\n",
    "        for i in range(n):\n",
    "            if i != i_ and i != j_:\n",
    "                V[i][i] = 1\n",
    "        V[i_][i_] = c\n",
    "        V[j_][j_] = c\n",
    "        V[i_][j_] = -s\n",
    "        V[j_][i_] = s\n",
    "\n",
    "        X = X @ V\n",
    "\n",
    "        i_, j_ = get_i_j(A_)\n",
    "\n",
    "    return [A_[i][i] for i in range(n)], [matrix(row).reshape(n, 1) for row in X.transpose()]\n",
    "\n",
    "\n",
    "eigenvals, vecs = jacobi(A, n, eps)\n",
    "for i in range(n):\n",
    "    vecs[i] /= vecs[i].norm()\n",
    "for i in range(n):\n",
    "    print_tex(f'A x_{i}=', A @ vecs[i], r'\\stackrel{?}{=}', eigenvals[i] * vecs[i], f'=\\lambda_{i} x_{i}')\n"
   ]
  }
 ],
 "metadata": {
  "kernelspec": {
   "display_name": "Python 3.9.13 64-bit (microsoft store)",
   "language": "python",
   "name": "python3"
  },
  "language_info": {
   "codemirror_mode": {
    "name": "ipython",
    "version": 3
   },
   "file_extension": ".py",
   "mimetype": "text/x-python",
   "name": "python",
   "nbconvert_exporter": "python",
   "pygments_lexer": "ipython3",
   "version": "3.9.13"
  },
  "orig_nbformat": 4,
  "vscode": {
   "interpreter": {
    "hash": "a5a87ee616be0254e3f1af9223138e3faeac65b2c9d91bc22a9fc5a4a8bd8eb0"
   }
  }
 },
 "nbformat": 4,
 "nbformat_minor": 2
}
