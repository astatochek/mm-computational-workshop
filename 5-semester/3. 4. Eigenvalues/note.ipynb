{
 "cells": [
  {
   "cell_type": "markdown",
   "metadata": {},
   "source": [
    "# Задания 3-4. Проблема собственных значений\n"
   ]
  },
  {
   "cell_type": "code",
   "execution_count": 2,
   "metadata": {},
   "outputs": [],
   "source": [
    "import warnings\n",
    "from typing import Any, Union, List\n",
    "\n",
    "import numpy as np\n",
    "import pandas as pd\n",
    "from IPython.display import Latex, Markdown, display\n",
    "from latexifier import latexify\n",
    "\n",
    "warnings.filterwarnings('ignore')\n"
   ]
  },
  {
   "cell_type": "code",
   "execution_count": 3,
   "metadata": {},
   "outputs": [],
   "source": [
    "class matrix(np.ndarray):\n",
    "    \"\"\"extends `np.ndarray`\"\"\"\n",
    "\n",
    "    def __new__(cls, input_array):\n",
    "        obj = np.asarray(input_array).view(cls)\n",
    "        return obj\n",
    "\n",
    "    def inverse_rows(self, i: int, j: int):\n",
    "        \"\"\"Swaps i-th and j-th rows of a matrix\"\"\"\n",
    "        self[i], self[j] = self[j].copy(), self[i].copy()\n",
    "\n",
    "    def inverse_cols(self, i: int, j: int):\n",
    "        \"\"\"Swaps i-th and j-th columns of a matrix\"\"\"\n",
    "        self = self.transpose()\n",
    "        self.inverse_rows(i, j)\n",
    "        self = self.transpose()\n",
    "\n",
    "    def norm(self) -> float:\n",
    "        \"\"\"Calculates Matrix norm using `np.linalg.norm` with parameter `'fro'`\"\"\"\n",
    "        return np.linalg.norm(self, 'fro')\n",
    "\n",
    "    def inv(self) -> Any:\n",
    "        return matrix(np.linalg.inv(self))\n"
   ]
  },
  {
   "cell_type": "code",
   "execution_count": 4,
   "metadata": {},
   "outputs": [],
   "source": [
    "def print_tex(*argv) -> None:\n",
    "    \"\"\"Displays a LaTex Markdown output\"\"\"\n",
    "    res = ' '.join(['$$'] + [(latexify(arg) if isinstance(arg,\n",
    "                   np.ndarray) else str(arg)) for arg in argv] + ['$$'])\n",
    "    display(Markdown(res))\n",
    "\n",
    "\n",
    "def get_exact_column(col: matrix, n: int) -> str:\n",
    "    \"\"\"Prepares a string with LaTex syntax for a column of `col` elements\"\"\"\n",
    "    res = [r\"\"\"\\begin{pmatrix}\"\"\", \"\\n\"]\n",
    "    for i in range(n):\n",
    "        line = str(float(col[i][0])) + (r\"\\\\\" if i != n-1 else \"\") + \"\\n\"\n",
    "        res.append(line)\n",
    "    res.append(r\"\"\"\\end{pmatrix}\"\"\")\n",
    "    return ''.join(res)\n"
   ]
  },
  {
   "cell_type": "markdown",
   "metadata": {},
   "source": [
    "## Матрица: Вариант 12\n"
   ]
  },
  {
   "cell_type": "code",
   "execution_count": 5,
   "metadata": {},
   "outputs": [
    {
     "data": {
      "text/markdown": [
       "$$ A= \\begin{pmatrix} -1.711260 & -0.071700 & 1.236150 \\\\ -0.071700 & 1.340190 & 0.029030 \\\\ 1.236150 & 0.029030 & -1.712950 \\end{pmatrix} $$"
      ],
      "text/plain": [
       "<IPython.core.display.Markdown object>"
      ]
     },
     "metadata": {},
     "output_type": "display_data"
    }
   ],
   "source": [
    "n = 3\n",
    "A = matrix([\n",
    "    [-1.71126, -0.07170, 1.23615],\n",
    "    [-0.07170, 1.34019, 0.02903],\n",
    "    [1.23615, 0.02903, -1.71295]\n",
    "])\n",
    "print_tex('A=', A)\n"
   ]
  },
  {
   "cell_type": "markdown",
   "metadata": {},
   "source": [
    "## Задание: Вариант 4\n"
   ]
  },
  {
   "cell_type": "markdown",
   "metadata": {},
   "source": [
    "Найдем методом Якоби все собственные числа и собственные векторы с точностью $\\varepsilon = 0.000001$. Собственные вектора должны иметь единичную длину.\n"
   ]
  },
  {
   "cell_type": "code",
   "execution_count": 6,
   "metadata": {},
   "outputs": [
    {
     "data": {
      "text/markdown": [
       "$$ \\lambda_1 =  -0.47595471106935777 ,~~ x_1 =  \\begin{pmatrix} 0.707343 \\\\ -0.000000 \\\\ 0.706870 \\end{pmatrix} $$"
      ],
      "text/plain": [
       "<IPython.core.display.Markdown object>"
      ]
     },
     "metadata": {},
     "output_type": "display_data"
    },
    {
     "data": {
      "text/markdown": [
       "$$ \\lambda_2 =  1.3413723396695043 ,~~ x_2 =  \\begin{pmatrix} -0.011734 \\\\ 0.999862 \\\\ 0.011742 \\end{pmatrix} $$"
      ],
      "text/plain": [
       "<IPython.core.display.Markdown object>"
      ]
     },
     "metadata": {},
     "output_type": "display_data"
    },
    {
     "data": {
      "text/markdown": [
       "$$ \\lambda_3 =  -2.9494376286001462 ,~~ x_3 =  \\begin{pmatrix} -0.706773 \\\\ -0.016600 \\\\ 0.707246 \\end{pmatrix} $$"
      ],
      "text/plain": [
       "<IPython.core.display.Markdown object>"
      ]
     },
     "metadata": {},
     "output_type": "display_data"
    }
   ],
   "source": [
    "eps = 1.e-6\n",
    "\n",
    "\n",
    "def jacobi(A: matrix = A, n: int = n, eps: float = eps) -> Union[List[float], List[matrix]]:\n",
    "    # матрица, столбцы которой будут собственными векторами\n",
    "    X = matrix(np.identity(n))\n",
    "    # A^(k)\n",
    "    A_ = A.copy()\n",
    "\n",
    "    iter = 0\n",
    "\n",
    "    while True:\n",
    "\n",
    "        i_, j_ = 0, 0\n",
    "        max_val = 0\n",
    "        for i in range(n):\n",
    "            for j in range(i+1, n):\n",
    "                if abs(A_[i][j]) >= max_val:\n",
    "                    max_val = abs(A_[i][j])\n",
    "                    i_, j_ = i, j\n",
    "\n",
    "        # print_tex(rf'A_{({iter})}=', A_, rf',~i_{({iter})}=', i_, rf',~j_{({iter})}=', j_)\n",
    "\n",
    "        if abs(A_[i_][j_]) <= eps:\n",
    "            break\n",
    "\n",
    "        d = np.sqrt((A_[i_][i_] - A_[j_][j_])**2 + 4 * A_[i_][j_]**2)\n",
    "\n",
    "        c = np.sqrt(1 / 2 * (1 + abs(A_[i_][i_] - A_[j_][j_]) / d))\n",
    "\n",
    "        s = np.sign(A_[i_][j_] * (A_[i_][i_] - A_[j_][j_])) * \\\n",
    "            np.sqrt(1 / 2 * (1 - abs(A_[i_][i_] - A_[j_][j_]) / d))\n",
    "\n",
    "        A_next = A_.copy()\n",
    "\n",
    "        for i in range(n):\n",
    "            if i_ != i != j_:\n",
    "                A_next[i][i_] = c * A_[i][i_] * s * A_[i][j_]\n",
    "                A_next[i_][i] = A_next[i][i_]\n",
    "                A_next[i][j_] = -s * A_[i][i_] + c * A_[i][j_]\n",
    "                A_next[j_][i] = A_next[i][j_]\n",
    "\n",
    "            # for j in range(n):\n",
    "            #     if i != i_ and i != j_ and j != i_ and j != j_:\n",
    "            #         continue\n",
    "            #     elif i != i_ and i != j_:\n",
    "            #         A_next[i][i_] = c * A_[i][i_] * s * A_[i][j_]\n",
    "            #         A_next[i_][i] = A_next[i][i_]\n",
    "            #         A_next[i][j_] = -s * A_[i][i_] + c * A_[i][j_]\n",
    "            #         A_next[j_][i] = A_next[i][j_]\n",
    "\n",
    "        A_next[i_][i_] = c**2 * A_[i_][i_] + 2 * \\\n",
    "            c * s * A_[i_][j_] + s**2 * A_[j_][j_]\n",
    "        A_next[j_][j_] = s**2 * A_[i_][i_] - 2 * \\\n",
    "            c * s * A_[i_][j_] + c**2 * A_[j_][j_]\n",
    "        A_next[i_][j_] = 0\n",
    "        A_next[j_][i_] = 0\n",
    "\n",
    "        A_ = A_next.copy()\n",
    "\n",
    "        V = matrix(np.zeros((n, n)))\n",
    "        for i in range(n):\n",
    "            if i != i_ and i != j_:\n",
    "                V[i][i] = 1\n",
    "        V[i_][i_] = c\n",
    "        V[j_][j_] = c\n",
    "        V[i_][j_] = -s\n",
    "        V[j_][i_] = s\n",
    "\n",
    "        # print_tex(X, V, X @ V, i_, '~', j_, '~', c, '~', s)\n",
    "\n",
    "        X = X @ V  # TODO: можно упростить, так как V - ортоганальная, а это что-то значит\n",
    "\n",
    "        iter += 1\n",
    "\n",
    "    eigenvals = [A_[i][i] for i in range(n)]\n",
    "    # уточним занчения собственных чисел\n",
    "    for i in range(n):\n",
    "        eigenvals[i] += np.sum(np.sum([A_[i][j] / (A_[i][i] - A_[j][j])\n",
    "                                       for j in range(n) if j != i]) for i in range(n))\n",
    "\n",
    "    return eigenvals, [matrix(row).reshape(n, 1) for row in X.transpose()]\n",
    "\n",
    "\n",
    "jacobi_vals, jacobi_vecs = jacobi(A, n, eps)\n",
    "\n",
    "for i in range(n):\n",
    "    # нормируем полученные собственные вектора\n",
    "    jacobi_vecs[i] /= jacobi_vecs[i].norm()\n",
    "\n",
    "for i in range(n):\n",
    "    print_tex(f'\\lambda_{i+1} = ',\n",
    "              jacobi_vals[i], f',~~ x_{i+1} = ', jacobi_vecs[i])\n"
   ]
  },
  {
   "cell_type": "code",
   "execution_count": 7,
   "metadata": {},
   "outputs": [
    {
     "data": {
      "text/markdown": [
       "$$ A x_1= \\begin{pmatrix}\n",
       "-0.33665125090951264\\\\\n",
       "-0.030196247047396166\\\\\n",
       "-0.3364503224038047\n",
       "\\end{pmatrix} \\stackrel{?}{=} \\begin{pmatrix}\n",
       "-0.3366634632623245\\\\\n",
       "5.5181796674541806e-08\\\\\n",
       "-0.33643810648220324\n",
       "\\end{pmatrix} =\\lambda_1 x_1 $$"
      ],
      "text/plain": [
       "<IPython.core.display.Markdown object>"
      ]
     },
     "metadata": {},
     "output_type": "display_data"
    },
    {
     "data": {
      "text/markdown": [
       "$$ A x_2= \\begin{pmatrix}\n",
       "-0.03709593674267801\\\\\n",
       "1.3411875182711082\\\\\n",
       "-0.005591839725547202\n",
       "\\end{pmatrix} \\stackrel{?}{=} \\begin{pmatrix}\n",
       "-0.015739370255827022\\\\\n",
       "1.3411875182711082\\\\\n",
       "0.01575013295740321\n",
       "\\end{pmatrix} =\\lambda_2 x_2 $$"
      ],
      "text/plain": [
       "<IPython.core.display.Markdown object>"
      ]
     },
     "metadata": {},
     "output_type": "display_data"
    },
    {
     "data": {
      "text/markdown": [
       "$$ A x_3= \\begin{pmatrix}\n",
       "2.084924057810798\\\\\n",
       "0.048960131719981856\\\\\n",
       "-2.085635916880715\n",
       "\\end{pmatrix} \\stackrel{?}{=} \\begin{pmatrix}\n",
       "2.0845817154195596\\\\\n",
       "0.048959920817116594\\\\\n",
       "-2.085978025506137\n",
       "\\end{pmatrix} =\\lambda_3 x_3 $$"
      ],
      "text/plain": [
       "<IPython.core.display.Markdown object>"
      ]
     },
     "metadata": {},
     "output_type": "display_data"
    }
   ],
   "source": [
    "for i in range(n):\n",
    "    print_tex(f'A x_{i+1}=', get_exact_column(A @ jacobi_vecs[i], n), r'\\stackrel{?}{=}',\n",
    "              get_exact_column(jacobi_vals[i] * jacobi_vecs[i], n), f'=\\lambda_{i+1} x_{i+1}')\n"
   ]
  },
  {
   "cell_type": "code",
   "execution_count": 8,
   "metadata": {},
   "outputs": [
    {
     "data": {
      "text/html": [
       "<div>\n",
       "<style scoped>\n",
       "    .dataframe tbody tr th:only-of-type {\n",
       "        vertical-align: middle;\n",
       "    }\n",
       "\n",
       "    .dataframe tbody tr th {\n",
       "        vertical-align: top;\n",
       "    }\n",
       "\n",
       "    .dataframe thead th {\n",
       "        text-align: right;\n",
       "    }\n",
       "</style>\n",
       "<table border=\"1\" class=\"dataframe\">\n",
       "  <thead>\n",
       "    <tr style=\"text-align: right;\">\n",
       "      <th></th>\n",
       "      <th>Expected</th>\n",
       "      <th>Actual</th>\n",
       "      <th>Error</th>\n",
       "    </tr>\n",
       "  </thead>\n",
       "  <tbody>\n",
       "    <tr>\n",
       "      <th>Value 1</th>\n",
       "      <td>-0.47645607756119285</td>\n",
       "      <td>-0.47595471106935777</td>\n",
       "      <td>0.0005013664918350758</td>\n",
       "    </tr>\n",
       "    <tr>\n",
       "      <th>Vector 1</th>\n",
       "      <td>-</td>\n",
       "      <td>-</td>\n",
       "      <td>1.9999310382541247</td>\n",
       "    </tr>\n",
       "    <tr>\n",
       "      <th>Value 2</th>\n",
       "      <td>1.3418738076297823</td>\n",
       "      <td>1.3413723396695043</td>\n",
       "      <td>0.0005014679602779459</td>\n",
       "    </tr>\n",
       "    <tr>\n",
       "      <th>Vector 2</th>\n",
       "      <td>-</td>\n",
       "      <td>-</td>\n",
       "      <td>0.01660734576273464</td>\n",
       "    </tr>\n",
       "    <tr>\n",
       "      <th>Value 3</th>\n",
       "      <td>-2.9494377300685892</td>\n",
       "      <td>-2.9494376286001462</td>\n",
       "      <td>1.0146844298120072e-07</td>\n",
       "    </tr>\n",
       "    <tr>\n",
       "      <th>Vector 3</th>\n",
       "      <td>-</td>\n",
       "      <td>-</td>\n",
       "      <td>0.00019568999733710312</td>\n",
       "    </tr>\n",
       "  </tbody>\n",
       "</table>\n",
       "</div>"
      ],
      "text/plain": [
       "                      Expected                Actual                   Error\n",
       "Value 1   -0.47645607756119285  -0.47595471106935777   0.0005013664918350758\n",
       "Vector 1                     -                     -      1.9999310382541247\n",
       "Value 2     1.3418738076297823    1.3413723396695043   0.0005014679602779459\n",
       "Vector 2                     -                     -     0.01660734576273464\n",
       "Value 3    -2.9494377300685892   -2.9494376286001462  1.0146844298120072e-07\n",
       "Vector 3                     -                     -  0.00019568999733710312"
      ]
     },
     "execution_count": 8,
     "metadata": {},
     "output_type": "execute_result"
    }
   ],
   "source": [
    "vals, vecs = np.linalg.eigh(A)\n",
    "vecs = [matrix(row).reshape(n, 1) for row in vecs.transpose()]\n",
    "# for i in range(n):\n",
    "#     print_tex(f'A x_{i+1}=', get_exact_column(A @ vecs[i], n), r'\\stackrel{?}{=}',\n",
    "#               get_exact_column(vals[i] * vecs[i], n), f'=\\lambda_{i+1} x_{i+1}')\n",
    "data = {\n",
    "    'Expected': {},\n",
    "    'Actual': {},\n",
    "    'Error': {}\n",
    "}\n",
    "\n",
    "vals_, vecs_ = [], []\n",
    "for i in range(n):\n",
    "    diff = [abs(jacobi_vals[i] - vals[j]) for j in range(n)]\n",
    "    index = diff.index(min(diff))\n",
    "    vals_.append(vals[index])\n",
    "    vecs_.append(vecs[index])\n",
    "vals, vecs = vals_.copy(), vecs_.copy()\n",
    "\n",
    "for i in range(n):\n",
    "    val_key = f'Value {i+1}'\n",
    "    vec_key = f'Vector {i+1}'\n",
    "\n",
    "    data['Expected'][val_key] = str(vals[i])\n",
    "    data['Actual'][val_key] = str(jacobi_vals[i])\n",
    "    data['Error'][val_key] = str(abs(jacobi_vals[i] - vals[i]))\n",
    "\n",
    "    data['Expected'][vec_key] = '-'\n",
    "    data['Actual'][vec_key] = '-'\n",
    "    data['Error'][vec_key] = str((jacobi_vecs[i] - vecs[i]).norm())\n",
    "\n",
    "df = pd.DataFrame(data)\n",
    "df\n"
   ]
  },
  {
   "cell_type": "markdown",
   "metadata": {},
   "source": [
    "Найдем степенным методом с точностью $\\varepsilon = 0.001$ максимальное по модулю собственное число $\\lambda_1$ и соответствующий ему собственный вектор $x_1$\n"
   ]
  },
  {
   "cell_type": "code",
   "execution_count": 27,
   "metadata": {},
   "outputs": [
    {
     "data": {
      "text/markdown": [
       "$$ \\lambda_1 =  -2.949374915929692 ,~~ x_1 =  \\begin{pmatrix} 0.706906 \\\\ 0.016802 \\\\ -0.707108 \\end{pmatrix} $$"
      ],
      "text/plain": [
       "<IPython.core.display.Markdown object>"
      ]
     },
     "metadata": {},
     "output_type": "display_data"
    },
    {
     "data": {
      "text/markdown": [
       "$$ A x_1= \\begin{pmatrix}\n",
       "-2.0849962235559145\\\\\n",
       "-0.04869512888923552\\\\\n",
       "2.0855699888413057\n",
       "\\end{pmatrix} \\stackrel{?}{=} \\begin{pmatrix}\n",
       "-2.084931617666833\\\\\n",
       "-0.04955432638611253\\\\\n",
       "2.08552557239293\n",
       "\\end{pmatrix} =\\lambda_1 x_1 $$"
      ],
      "text/plain": [
       "<IPython.core.display.Markdown object>"
      ]
     },
     "metadata": {},
     "output_type": "display_data"
    }
   ],
   "source": [
    "def apostr_est(Y: matrix, val: float, A: matrix = A) -> float:\n",
    "    return (A @ Y - val * Y).norm() / Y.norm()\n",
    "\n",
    "\n",
    "eps = 1.e-3\n",
    "\n",
    "\n",
    "def power_method(A: matrix = A, eps: float = eps, n: int = n) -> Union[float, matrix, int]:\n",
    "    val = 1\n",
    "    Y = matrix(np.ones((n, 1)))\n",
    "    iter = 0\n",
    "\n",
    "    while apostr_est(Y, val, A) >= eps:\n",
    "        Y, val = A @ Y, (A @ Y)[0][0] / Y[0][0]\n",
    "        iter += 1\n",
    "\n",
    "    Y /= Y.norm()\n",
    "\n",
    "    return val, Y, iter\n",
    "\n",
    "\n",
    "power_val, power_vec, power_iter = power_method(A, eps)\n",
    "\n",
    "print_tex(f'\\lambda_{1} = ', power_val, f',~~ x_{1} = ', power_vec)\n",
    "print_tex(f'A x_{1}=', get_exact_column(A @ power_vec, n), r'\\stackrel{?}{=}',\n",
    "          get_exact_column(power_val * power_vec, n), f'=\\lambda_{1} x_{1}')\n"
   ]
  },
  {
   "cell_type": "code",
   "execution_count": 28,
   "metadata": {},
   "outputs": [
    {
     "data": {
      "text/html": [
       "<div>\n",
       "<style scoped>\n",
       "    .dataframe tbody tr th:only-of-type {\n",
       "        vertical-align: middle;\n",
       "    }\n",
       "\n",
       "    .dataframe tbody tr th {\n",
       "        vertical-align: top;\n",
       "    }\n",
       "\n",
       "    .dataframe thead th {\n",
       "        text-align: right;\n",
       "    }\n",
       "</style>\n",
       "<table border=\"1\" class=\"dataframe\">\n",
       "  <thead>\n",
       "    <tr style=\"text-align: right;\">\n",
       "      <th></th>\n",
       "      <th>Actual</th>\n",
       "      <th>Expected</th>\n",
       "      <th>Error</th>\n",
       "      <th>Iterations</th>\n",
       "    </tr>\n",
       "  </thead>\n",
       "  <tbody>\n",
       "    <tr>\n",
       "      <th>Value</th>\n",
       "      <td>-2.949374915929692</td>\n",
       "      <td>-2.9494377300685892</td>\n",
       "      <td>6.281413889741572e-05</td>\n",
       "      <td>16</td>\n",
       "    </tr>\n",
       "    <tr>\n",
       "      <th>Vector</th>\n",
       "      <td>-</td>\n",
       "      <td>-</td>\n",
       "      <td>1.9999999899480194</td>\n",
       "      <td>16</td>\n",
       "    </tr>\n",
       "  </tbody>\n",
       "</table>\n",
       "</div>"
      ],
      "text/plain": [
       "                    Actual             Expected                  Error  \\\n",
       "Value   -2.949374915929692  -2.9494377300685892  6.281413889741572e-05   \n",
       "Vector                   -                    -     1.9999999899480194   \n",
       "\n",
       "       Iterations  \n",
       "Value          16  \n",
       "Vector         16  "
      ]
     },
     "execution_count": 28,
     "metadata": {},
     "output_type": "execute_result"
    }
   ],
   "source": [
    "diff = [abs(power_val - vals[j]) for j in range(n)]\n",
    "index_of_max = diff.index(min(diff))\n",
    "df = pd.DataFrame({\n",
    "    'Value': {\n",
    "        'Actual': str(power_val),\n",
    "        'Expected': str(vals[index_of_max]),\n",
    "        'Error': str(abs(power_val - vals[index_of_max])),\n",
    "        'Iterations': power_iter\n",
    "    },\n",
    "    'Vector': {\n",
    "        'Actual': '-',\n",
    "        'Expected': '-',\n",
    "        'Error': str((power_vec - vecs[index_of_max]).norm()),\n",
    "        'Iterations': power_iter\n",
    "    }\n",
    "}).transpose()\n",
    "df\n"
   ]
  },
  {
   "cell_type": "markdown",
   "metadata": {},
   "source": [
    "Найдем методом скалярных произведений с точностью $\\varepsilon^2 = 0.000001$ максимальное по модулю собственное число $\\lambda_1$ и соответствующий ему собственный вектор $x_1$\n"
   ]
  },
  {
   "cell_type": "code",
   "execution_count": null,
   "metadata": {},
   "outputs": [],
   "source": [
    "eps = 1.e-6\n"
   ]
  }
 ],
 "metadata": {
  "kernelspec": {
   "display_name": "Python 3.9.13 64-bit (microsoft store)",
   "language": "python",
   "name": "python3"
  },
  "language_info": {
   "codemirror_mode": {
    "name": "ipython",
    "version": 3
   },
   "file_extension": ".py",
   "mimetype": "text/x-python",
   "name": "python",
   "nbconvert_exporter": "python",
   "pygments_lexer": "ipython3",
   "version": "3.9.13"
  },
  "orig_nbformat": 4,
  "vscode": {
   "interpreter": {
    "hash": "a5a87ee616be0254e3f1af9223138e3faeac65b2c9d91bc22a9fc5a4a8bd8eb0"
   }
  }
 },
 "nbformat": 4,
 "nbformat_minor": 2
}
